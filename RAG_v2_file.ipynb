{
  "nbformat": 4,
  "nbformat_minor": 0,
  "metadata": {
    "colab": {
      "provenance": [],
      "authorship_tag": "ABX9TyMm3G+uph/V7U97bLZyJ97g",
      "include_colab_link": true
    },
    "kernelspec": {
      "name": "python3",
      "display_name": "Python 3"
    },
    "language_info": {
      "name": "python"
    },
    "widgets": {
      "application/vnd.jupyter.widget-state+json": {
        "2b732d2565b242ad91762eb053bf2ed3": {
          "model_module": "@jupyter-widgets/controls",
          "model_name": "HBoxModel",
          "model_module_version": "1.5.0",
          "state": {
            "_dom_classes": [],
            "_model_module": "@jupyter-widgets/controls",
            "_model_module_version": "1.5.0",
            "_model_name": "HBoxModel",
            "_view_count": null,
            "_view_module": "@jupyter-widgets/controls",
            "_view_module_version": "1.5.0",
            "_view_name": "HBoxView",
            "box_style": "",
            "children": [
              "IPY_MODEL_13b4d8e5b1874a4b90ef86030c340e89",
              "IPY_MODEL_66abee47d2e44f1c9943228a9203407c",
              "IPY_MODEL_145c448af40a49acab180c31f78ad813"
            ],
            "layout": "IPY_MODEL_78f23c803c6e47d3a339a83186756b1c"
          }
        },
        "13b4d8e5b1874a4b90ef86030c340e89": {
          "model_module": "@jupyter-widgets/controls",
          "model_name": "HTMLModel",
          "model_module_version": "1.5.0",
          "state": {
            "_dom_classes": [],
            "_model_module": "@jupyter-widgets/controls",
            "_model_module_version": "1.5.0",
            "_model_name": "HTMLModel",
            "_view_count": null,
            "_view_module": "@jupyter-widgets/controls",
            "_view_module_version": "1.5.0",
            "_view_name": "HTMLView",
            "description": "",
            "description_tooltip": null,
            "layout": "IPY_MODEL_ed2cda2a2c534bd1a0fc9b910c45e017",
            "placeholder": "​",
            "style": "IPY_MODEL_8cbecbaf30d5495da37dc3023158487a",
            "value": "modules.json: 100%"
          }
        },
        "66abee47d2e44f1c9943228a9203407c": {
          "model_module": "@jupyter-widgets/controls",
          "model_name": "FloatProgressModel",
          "model_module_version": "1.5.0",
          "state": {
            "_dom_classes": [],
            "_model_module": "@jupyter-widgets/controls",
            "_model_module_version": "1.5.0",
            "_model_name": "FloatProgressModel",
            "_view_count": null,
            "_view_module": "@jupyter-widgets/controls",
            "_view_module_version": "1.5.0",
            "_view_name": "ProgressView",
            "bar_style": "success",
            "description": "",
            "description_tooltip": null,
            "layout": "IPY_MODEL_0cb11df5aca446baadf5296c23de7d63",
            "max": 229,
            "min": 0,
            "orientation": "horizontal",
            "style": "IPY_MODEL_13a294030b904844a643b66188929b6c",
            "value": 229
          }
        },
        "145c448af40a49acab180c31f78ad813": {
          "model_module": "@jupyter-widgets/controls",
          "model_name": "HTMLModel",
          "model_module_version": "1.5.0",
          "state": {
            "_dom_classes": [],
            "_model_module": "@jupyter-widgets/controls",
            "_model_module_version": "1.5.0",
            "_model_name": "HTMLModel",
            "_view_count": null,
            "_view_module": "@jupyter-widgets/controls",
            "_view_module_version": "1.5.0",
            "_view_name": "HTMLView",
            "description": "",
            "description_tooltip": null,
            "layout": "IPY_MODEL_3d5d9ab3009b452294fdeee87705f2ea",
            "placeholder": "​",
            "style": "IPY_MODEL_85356db2402947c69c3976057146a1e2",
            "value": " 229/229 [00:00&lt;00:00, 11.8kB/s]"
          }
        },
        "78f23c803c6e47d3a339a83186756b1c": {
          "model_module": "@jupyter-widgets/base",
          "model_name": "LayoutModel",
          "model_module_version": "1.2.0",
          "state": {
            "_model_module": "@jupyter-widgets/base",
            "_model_module_version": "1.2.0",
            "_model_name": "LayoutModel",
            "_view_count": null,
            "_view_module": "@jupyter-widgets/base",
            "_view_module_version": "1.2.0",
            "_view_name": "LayoutView",
            "align_content": null,
            "align_items": null,
            "align_self": null,
            "border": null,
            "bottom": null,
            "display": null,
            "flex": null,
            "flex_flow": null,
            "grid_area": null,
            "grid_auto_columns": null,
            "grid_auto_flow": null,
            "grid_auto_rows": null,
            "grid_column": null,
            "grid_gap": null,
            "grid_row": null,
            "grid_template_areas": null,
            "grid_template_columns": null,
            "grid_template_rows": null,
            "height": null,
            "justify_content": null,
            "justify_items": null,
            "left": null,
            "margin": null,
            "max_height": null,
            "max_width": null,
            "min_height": null,
            "min_width": null,
            "object_fit": null,
            "object_position": null,
            "order": null,
            "overflow": null,
            "overflow_x": null,
            "overflow_y": null,
            "padding": null,
            "right": null,
            "top": null,
            "visibility": null,
            "width": null
          }
        },
        "ed2cda2a2c534bd1a0fc9b910c45e017": {
          "model_module": "@jupyter-widgets/base",
          "model_name": "LayoutModel",
          "model_module_version": "1.2.0",
          "state": {
            "_model_module": "@jupyter-widgets/base",
            "_model_module_version": "1.2.0",
            "_model_name": "LayoutModel",
            "_view_count": null,
            "_view_module": "@jupyter-widgets/base",
            "_view_module_version": "1.2.0",
            "_view_name": "LayoutView",
            "align_content": null,
            "align_items": null,
            "align_self": null,
            "border": null,
            "bottom": null,
            "display": null,
            "flex": null,
            "flex_flow": null,
            "grid_area": null,
            "grid_auto_columns": null,
            "grid_auto_flow": null,
            "grid_auto_rows": null,
            "grid_column": null,
            "grid_gap": null,
            "grid_row": null,
            "grid_template_areas": null,
            "grid_template_columns": null,
            "grid_template_rows": null,
            "height": null,
            "justify_content": null,
            "justify_items": null,
            "left": null,
            "margin": null,
            "max_height": null,
            "max_width": null,
            "min_height": null,
            "min_width": null,
            "object_fit": null,
            "object_position": null,
            "order": null,
            "overflow": null,
            "overflow_x": null,
            "overflow_y": null,
            "padding": null,
            "right": null,
            "top": null,
            "visibility": null,
            "width": null
          }
        },
        "8cbecbaf30d5495da37dc3023158487a": {
          "model_module": "@jupyter-widgets/controls",
          "model_name": "DescriptionStyleModel",
          "model_module_version": "1.5.0",
          "state": {
            "_model_module": "@jupyter-widgets/controls",
            "_model_module_version": "1.5.0",
            "_model_name": "DescriptionStyleModel",
            "_view_count": null,
            "_view_module": "@jupyter-widgets/base",
            "_view_module_version": "1.2.0",
            "_view_name": "StyleView",
            "description_width": ""
          }
        },
        "0cb11df5aca446baadf5296c23de7d63": {
          "model_module": "@jupyter-widgets/base",
          "model_name": "LayoutModel",
          "model_module_version": "1.2.0",
          "state": {
            "_model_module": "@jupyter-widgets/base",
            "_model_module_version": "1.2.0",
            "_model_name": "LayoutModel",
            "_view_count": null,
            "_view_module": "@jupyter-widgets/base",
            "_view_module_version": "1.2.0",
            "_view_name": "LayoutView",
            "align_content": null,
            "align_items": null,
            "align_self": null,
            "border": null,
            "bottom": null,
            "display": null,
            "flex": null,
            "flex_flow": null,
            "grid_area": null,
            "grid_auto_columns": null,
            "grid_auto_flow": null,
            "grid_auto_rows": null,
            "grid_column": null,
            "grid_gap": null,
            "grid_row": null,
            "grid_template_areas": null,
            "grid_template_columns": null,
            "grid_template_rows": null,
            "height": null,
            "justify_content": null,
            "justify_items": null,
            "left": null,
            "margin": null,
            "max_height": null,
            "max_width": null,
            "min_height": null,
            "min_width": null,
            "object_fit": null,
            "object_position": null,
            "order": null,
            "overflow": null,
            "overflow_x": null,
            "overflow_y": null,
            "padding": null,
            "right": null,
            "top": null,
            "visibility": null,
            "width": null
          }
        },
        "13a294030b904844a643b66188929b6c": {
          "model_module": "@jupyter-widgets/controls",
          "model_name": "ProgressStyleModel",
          "model_module_version": "1.5.0",
          "state": {
            "_model_module": "@jupyter-widgets/controls",
            "_model_module_version": "1.5.0",
            "_model_name": "ProgressStyleModel",
            "_view_count": null,
            "_view_module": "@jupyter-widgets/base",
            "_view_module_version": "1.2.0",
            "_view_name": "StyleView",
            "bar_color": null,
            "description_width": ""
          }
        },
        "3d5d9ab3009b452294fdeee87705f2ea": {
          "model_module": "@jupyter-widgets/base",
          "model_name": "LayoutModel",
          "model_module_version": "1.2.0",
          "state": {
            "_model_module": "@jupyter-widgets/base",
            "_model_module_version": "1.2.0",
            "_model_name": "LayoutModel",
            "_view_count": null,
            "_view_module": "@jupyter-widgets/base",
            "_view_module_version": "1.2.0",
            "_view_name": "LayoutView",
            "align_content": null,
            "align_items": null,
            "align_self": null,
            "border": null,
            "bottom": null,
            "display": null,
            "flex": null,
            "flex_flow": null,
            "grid_area": null,
            "grid_auto_columns": null,
            "grid_auto_flow": null,
            "grid_auto_rows": null,
            "grid_column": null,
            "grid_gap": null,
            "grid_row": null,
            "grid_template_areas": null,
            "grid_template_columns": null,
            "grid_template_rows": null,
            "height": null,
            "justify_content": null,
            "justify_items": null,
            "left": null,
            "margin": null,
            "max_height": null,
            "max_width": null,
            "min_height": null,
            "min_width": null,
            "object_fit": null,
            "object_position": null,
            "order": null,
            "overflow": null,
            "overflow_x": null,
            "overflow_y": null,
            "padding": null,
            "right": null,
            "top": null,
            "visibility": null,
            "width": null
          }
        },
        "85356db2402947c69c3976057146a1e2": {
          "model_module": "@jupyter-widgets/controls",
          "model_name": "DescriptionStyleModel",
          "model_module_version": "1.5.0",
          "state": {
            "_model_module": "@jupyter-widgets/controls",
            "_model_module_version": "1.5.0",
            "_model_name": "DescriptionStyleModel",
            "_view_count": null,
            "_view_module": "@jupyter-widgets/base",
            "_view_module_version": "1.2.0",
            "_view_name": "StyleView",
            "description_width": ""
          }
        },
        "0d31101130fb4a87822b1f969fdf4544": {
          "model_module": "@jupyter-widgets/controls",
          "model_name": "HBoxModel",
          "model_module_version": "1.5.0",
          "state": {
            "_dom_classes": [],
            "_model_module": "@jupyter-widgets/controls",
            "_model_module_version": "1.5.0",
            "_model_name": "HBoxModel",
            "_view_count": null,
            "_view_module": "@jupyter-widgets/controls",
            "_view_module_version": "1.5.0",
            "_view_name": "HBoxView",
            "box_style": "",
            "children": [
              "IPY_MODEL_1347e04b8ee547fc9b868e6d1dee7cb6",
              "IPY_MODEL_327e24c44a6840ea845953d5e9d8a950",
              "IPY_MODEL_ec4c7482b5e543b58d87698473a13f66"
            ],
            "layout": "IPY_MODEL_85d85146165e42839794e2474c54a4cf"
          }
        },
        "1347e04b8ee547fc9b868e6d1dee7cb6": {
          "model_module": "@jupyter-widgets/controls",
          "model_name": "HTMLModel",
          "model_module_version": "1.5.0",
          "state": {
            "_dom_classes": [],
            "_model_module": "@jupyter-widgets/controls",
            "_model_module_version": "1.5.0",
            "_model_name": "HTMLModel",
            "_view_count": null,
            "_view_module": "@jupyter-widgets/controls",
            "_view_module_version": "1.5.0",
            "_view_name": "HTMLView",
            "description": "",
            "description_tooltip": null,
            "layout": "IPY_MODEL_f6030963e58d47b29c2158667b14d1bd",
            "placeholder": "​",
            "style": "IPY_MODEL_97daebc7a63f42a985d2656a54b62d0c",
            "value": "config_sentence_transformers.json: 100%"
          }
        },
        "327e24c44a6840ea845953d5e9d8a950": {
          "model_module": "@jupyter-widgets/controls",
          "model_name": "FloatProgressModel",
          "model_module_version": "1.5.0",
          "state": {
            "_dom_classes": [],
            "_model_module": "@jupyter-widgets/controls",
            "_model_module_version": "1.5.0",
            "_model_name": "FloatProgressModel",
            "_view_count": null,
            "_view_module": "@jupyter-widgets/controls",
            "_view_module_version": "1.5.0",
            "_view_name": "ProgressView",
            "bar_style": "success",
            "description": "",
            "description_tooltip": null,
            "layout": "IPY_MODEL_db1a0b9f6195451db683bfe3eaee0898",
            "max": 122,
            "min": 0,
            "orientation": "horizontal",
            "style": "IPY_MODEL_9494f442586f4b6db48182804d0d533f",
            "value": 122
          }
        },
        "ec4c7482b5e543b58d87698473a13f66": {
          "model_module": "@jupyter-widgets/controls",
          "model_name": "HTMLModel",
          "model_module_version": "1.5.0",
          "state": {
            "_dom_classes": [],
            "_model_module": "@jupyter-widgets/controls",
            "_model_module_version": "1.5.0",
            "_model_name": "HTMLModel",
            "_view_count": null,
            "_view_module": "@jupyter-widgets/controls",
            "_view_module_version": "1.5.0",
            "_view_name": "HTMLView",
            "description": "",
            "description_tooltip": null,
            "layout": "IPY_MODEL_d25d310e3c924ac28d2e9c6bd9544f40",
            "placeholder": "​",
            "style": "IPY_MODEL_904905b2e30a4fc38e299404d402a18d",
            "value": " 122/122 [00:00&lt;00:00, 7.71kB/s]"
          }
        },
        "85d85146165e42839794e2474c54a4cf": {
          "model_module": "@jupyter-widgets/base",
          "model_name": "LayoutModel",
          "model_module_version": "1.2.0",
          "state": {
            "_model_module": "@jupyter-widgets/base",
            "_model_module_version": "1.2.0",
            "_model_name": "LayoutModel",
            "_view_count": null,
            "_view_module": "@jupyter-widgets/base",
            "_view_module_version": "1.2.0",
            "_view_name": "LayoutView",
            "align_content": null,
            "align_items": null,
            "align_self": null,
            "border": null,
            "bottom": null,
            "display": null,
            "flex": null,
            "flex_flow": null,
            "grid_area": null,
            "grid_auto_columns": null,
            "grid_auto_flow": null,
            "grid_auto_rows": null,
            "grid_column": null,
            "grid_gap": null,
            "grid_row": null,
            "grid_template_areas": null,
            "grid_template_columns": null,
            "grid_template_rows": null,
            "height": null,
            "justify_content": null,
            "justify_items": null,
            "left": null,
            "margin": null,
            "max_height": null,
            "max_width": null,
            "min_height": null,
            "min_width": null,
            "object_fit": null,
            "object_position": null,
            "order": null,
            "overflow": null,
            "overflow_x": null,
            "overflow_y": null,
            "padding": null,
            "right": null,
            "top": null,
            "visibility": null,
            "width": null
          }
        },
        "f6030963e58d47b29c2158667b14d1bd": {
          "model_module": "@jupyter-widgets/base",
          "model_name": "LayoutModel",
          "model_module_version": "1.2.0",
          "state": {
            "_model_module": "@jupyter-widgets/base",
            "_model_module_version": "1.2.0",
            "_model_name": "LayoutModel",
            "_view_count": null,
            "_view_module": "@jupyter-widgets/base",
            "_view_module_version": "1.2.0",
            "_view_name": "LayoutView",
            "align_content": null,
            "align_items": null,
            "align_self": null,
            "border": null,
            "bottom": null,
            "display": null,
            "flex": null,
            "flex_flow": null,
            "grid_area": null,
            "grid_auto_columns": null,
            "grid_auto_flow": null,
            "grid_auto_rows": null,
            "grid_column": null,
            "grid_gap": null,
            "grid_row": null,
            "grid_template_areas": null,
            "grid_template_columns": null,
            "grid_template_rows": null,
            "height": null,
            "justify_content": null,
            "justify_items": null,
            "left": null,
            "margin": null,
            "max_height": null,
            "max_width": null,
            "min_height": null,
            "min_width": null,
            "object_fit": null,
            "object_position": null,
            "order": null,
            "overflow": null,
            "overflow_x": null,
            "overflow_y": null,
            "padding": null,
            "right": null,
            "top": null,
            "visibility": null,
            "width": null
          }
        },
        "97daebc7a63f42a985d2656a54b62d0c": {
          "model_module": "@jupyter-widgets/controls",
          "model_name": "DescriptionStyleModel",
          "model_module_version": "1.5.0",
          "state": {
            "_model_module": "@jupyter-widgets/controls",
            "_model_module_version": "1.5.0",
            "_model_name": "DescriptionStyleModel",
            "_view_count": null,
            "_view_module": "@jupyter-widgets/base",
            "_view_module_version": "1.2.0",
            "_view_name": "StyleView",
            "description_width": ""
          }
        },
        "db1a0b9f6195451db683bfe3eaee0898": {
          "model_module": "@jupyter-widgets/base",
          "model_name": "LayoutModel",
          "model_module_version": "1.2.0",
          "state": {
            "_model_module": "@jupyter-widgets/base",
            "_model_module_version": "1.2.0",
            "_model_name": "LayoutModel",
            "_view_count": null,
            "_view_module": "@jupyter-widgets/base",
            "_view_module_version": "1.2.0",
            "_view_name": "LayoutView",
            "align_content": null,
            "align_items": null,
            "align_self": null,
            "border": null,
            "bottom": null,
            "display": null,
            "flex": null,
            "flex_flow": null,
            "grid_area": null,
            "grid_auto_columns": null,
            "grid_auto_flow": null,
            "grid_auto_rows": null,
            "grid_column": null,
            "grid_gap": null,
            "grid_row": null,
            "grid_template_areas": null,
            "grid_template_columns": null,
            "grid_template_rows": null,
            "height": null,
            "justify_content": null,
            "justify_items": null,
            "left": null,
            "margin": null,
            "max_height": null,
            "max_width": null,
            "min_height": null,
            "min_width": null,
            "object_fit": null,
            "object_position": null,
            "order": null,
            "overflow": null,
            "overflow_x": null,
            "overflow_y": null,
            "padding": null,
            "right": null,
            "top": null,
            "visibility": null,
            "width": null
          }
        },
        "9494f442586f4b6db48182804d0d533f": {
          "model_module": "@jupyter-widgets/controls",
          "model_name": "ProgressStyleModel",
          "model_module_version": "1.5.0",
          "state": {
            "_model_module": "@jupyter-widgets/controls",
            "_model_module_version": "1.5.0",
            "_model_name": "ProgressStyleModel",
            "_view_count": null,
            "_view_module": "@jupyter-widgets/base",
            "_view_module_version": "1.2.0",
            "_view_name": "StyleView",
            "bar_color": null,
            "description_width": ""
          }
        },
        "d25d310e3c924ac28d2e9c6bd9544f40": {
          "model_module": "@jupyter-widgets/base",
          "model_name": "LayoutModel",
          "model_module_version": "1.2.0",
          "state": {
            "_model_module": "@jupyter-widgets/base",
            "_model_module_version": "1.2.0",
            "_model_name": "LayoutModel",
            "_view_count": null,
            "_view_module": "@jupyter-widgets/base",
            "_view_module_version": "1.2.0",
            "_view_name": "LayoutView",
            "align_content": null,
            "align_items": null,
            "align_self": null,
            "border": null,
            "bottom": null,
            "display": null,
            "flex": null,
            "flex_flow": null,
            "grid_area": null,
            "grid_auto_columns": null,
            "grid_auto_flow": null,
            "grid_auto_rows": null,
            "grid_column": null,
            "grid_gap": null,
            "grid_row": null,
            "grid_template_areas": null,
            "grid_template_columns": null,
            "grid_template_rows": null,
            "height": null,
            "justify_content": null,
            "justify_items": null,
            "left": null,
            "margin": null,
            "max_height": null,
            "max_width": null,
            "min_height": null,
            "min_width": null,
            "object_fit": null,
            "object_position": null,
            "order": null,
            "overflow": null,
            "overflow_x": null,
            "overflow_y": null,
            "padding": null,
            "right": null,
            "top": null,
            "visibility": null,
            "width": null
          }
        },
        "904905b2e30a4fc38e299404d402a18d": {
          "model_module": "@jupyter-widgets/controls",
          "model_name": "DescriptionStyleModel",
          "model_module_version": "1.5.0",
          "state": {
            "_model_module": "@jupyter-widgets/controls",
            "_model_module_version": "1.5.0",
            "_model_name": "DescriptionStyleModel",
            "_view_count": null,
            "_view_module": "@jupyter-widgets/base",
            "_view_module_version": "1.2.0",
            "_view_name": "StyleView",
            "description_width": ""
          }
        },
        "618217ff1cc4492baf2ce448aedd8983": {
          "model_module": "@jupyter-widgets/controls",
          "model_name": "HBoxModel",
          "model_module_version": "1.5.0",
          "state": {
            "_dom_classes": [],
            "_model_module": "@jupyter-widgets/controls",
            "_model_module_version": "1.5.0",
            "_model_name": "HBoxModel",
            "_view_count": null,
            "_view_module": "@jupyter-widgets/controls",
            "_view_module_version": "1.5.0",
            "_view_name": "HBoxView",
            "box_style": "",
            "children": [
              "IPY_MODEL_92ef7f16332c4fa2892ba538751a4af5",
              "IPY_MODEL_754fa619511b4d698448a92930a7a470",
              "IPY_MODEL_cdde1efda0534a6ab7b3f2af1a23b656"
            ],
            "layout": "IPY_MODEL_3e0b69fee0e4498390eb2659562c95c2"
          }
        },
        "92ef7f16332c4fa2892ba538751a4af5": {
          "model_module": "@jupyter-widgets/controls",
          "model_name": "HTMLModel",
          "model_module_version": "1.5.0",
          "state": {
            "_dom_classes": [],
            "_model_module": "@jupyter-widgets/controls",
            "_model_module_version": "1.5.0",
            "_model_name": "HTMLModel",
            "_view_count": null,
            "_view_module": "@jupyter-widgets/controls",
            "_view_module_version": "1.5.0",
            "_view_name": "HTMLView",
            "description": "",
            "description_tooltip": null,
            "layout": "IPY_MODEL_bebe366e7576413eb9e6c7723cfbe334",
            "placeholder": "​",
            "style": "IPY_MODEL_9f1f79aa7bf9481eb59f147e1fe35567",
            "value": "README.md: 100%"
          }
        },
        "754fa619511b4d698448a92930a7a470": {
          "model_module": "@jupyter-widgets/controls",
          "model_name": "FloatProgressModel",
          "model_module_version": "1.5.0",
          "state": {
            "_dom_classes": [],
            "_model_module": "@jupyter-widgets/controls",
            "_model_module_version": "1.5.0",
            "_model_name": "FloatProgressModel",
            "_view_count": null,
            "_view_module": "@jupyter-widgets/controls",
            "_view_module_version": "1.5.0",
            "_view_name": "ProgressView",
            "bar_style": "success",
            "description": "",
            "description_tooltip": null,
            "layout": "IPY_MODEL_f85039ec2844404d985a16047155cf4f",
            "max": 4126,
            "min": 0,
            "orientation": "horizontal",
            "style": "IPY_MODEL_6b9ff9c85cb14b65bfec73d764398bfd",
            "value": 4126
          }
        },
        "cdde1efda0534a6ab7b3f2af1a23b656": {
          "model_module": "@jupyter-widgets/controls",
          "model_name": "HTMLModel",
          "model_module_version": "1.5.0",
          "state": {
            "_dom_classes": [],
            "_model_module": "@jupyter-widgets/controls",
            "_model_module_version": "1.5.0",
            "_model_name": "HTMLModel",
            "_view_count": null,
            "_view_module": "@jupyter-widgets/controls",
            "_view_module_version": "1.5.0",
            "_view_name": "HTMLView",
            "description": "",
            "description_tooltip": null,
            "layout": "IPY_MODEL_f64d5be294ad496d878050fa9962897c",
            "placeholder": "​",
            "style": "IPY_MODEL_8ec726146ebc431190ff160b36a04032",
            "value": " 4.13k/4.13k [00:00&lt;00:00, 255kB/s]"
          }
        },
        "3e0b69fee0e4498390eb2659562c95c2": {
          "model_module": "@jupyter-widgets/base",
          "model_name": "LayoutModel",
          "model_module_version": "1.2.0",
          "state": {
            "_model_module": "@jupyter-widgets/base",
            "_model_module_version": "1.2.0",
            "_model_name": "LayoutModel",
            "_view_count": null,
            "_view_module": "@jupyter-widgets/base",
            "_view_module_version": "1.2.0",
            "_view_name": "LayoutView",
            "align_content": null,
            "align_items": null,
            "align_self": null,
            "border": null,
            "bottom": null,
            "display": null,
            "flex": null,
            "flex_flow": null,
            "grid_area": null,
            "grid_auto_columns": null,
            "grid_auto_flow": null,
            "grid_auto_rows": null,
            "grid_column": null,
            "grid_gap": null,
            "grid_row": null,
            "grid_template_areas": null,
            "grid_template_columns": null,
            "grid_template_rows": null,
            "height": null,
            "justify_content": null,
            "justify_items": null,
            "left": null,
            "margin": null,
            "max_height": null,
            "max_width": null,
            "min_height": null,
            "min_width": null,
            "object_fit": null,
            "object_position": null,
            "order": null,
            "overflow": null,
            "overflow_x": null,
            "overflow_y": null,
            "padding": null,
            "right": null,
            "top": null,
            "visibility": null,
            "width": null
          }
        },
        "bebe366e7576413eb9e6c7723cfbe334": {
          "model_module": "@jupyter-widgets/base",
          "model_name": "LayoutModel",
          "model_module_version": "1.2.0",
          "state": {
            "_model_module": "@jupyter-widgets/base",
            "_model_module_version": "1.2.0",
            "_model_name": "LayoutModel",
            "_view_count": null,
            "_view_module": "@jupyter-widgets/base",
            "_view_module_version": "1.2.0",
            "_view_name": "LayoutView",
            "align_content": null,
            "align_items": null,
            "align_self": null,
            "border": null,
            "bottom": null,
            "display": null,
            "flex": null,
            "flex_flow": null,
            "grid_area": null,
            "grid_auto_columns": null,
            "grid_auto_flow": null,
            "grid_auto_rows": null,
            "grid_column": null,
            "grid_gap": null,
            "grid_row": null,
            "grid_template_areas": null,
            "grid_template_columns": null,
            "grid_template_rows": null,
            "height": null,
            "justify_content": null,
            "justify_items": null,
            "left": null,
            "margin": null,
            "max_height": null,
            "max_width": null,
            "min_height": null,
            "min_width": null,
            "object_fit": null,
            "object_position": null,
            "order": null,
            "overflow": null,
            "overflow_x": null,
            "overflow_y": null,
            "padding": null,
            "right": null,
            "top": null,
            "visibility": null,
            "width": null
          }
        },
        "9f1f79aa7bf9481eb59f147e1fe35567": {
          "model_module": "@jupyter-widgets/controls",
          "model_name": "DescriptionStyleModel",
          "model_module_version": "1.5.0",
          "state": {
            "_model_module": "@jupyter-widgets/controls",
            "_model_module_version": "1.5.0",
            "_model_name": "DescriptionStyleModel",
            "_view_count": null,
            "_view_module": "@jupyter-widgets/base",
            "_view_module_version": "1.2.0",
            "_view_name": "StyleView",
            "description_width": ""
          }
        },
        "f85039ec2844404d985a16047155cf4f": {
          "model_module": "@jupyter-widgets/base",
          "model_name": "LayoutModel",
          "model_module_version": "1.2.0",
          "state": {
            "_model_module": "@jupyter-widgets/base",
            "_model_module_version": "1.2.0",
            "_model_name": "LayoutModel",
            "_view_count": null,
            "_view_module": "@jupyter-widgets/base",
            "_view_module_version": "1.2.0",
            "_view_name": "LayoutView",
            "align_content": null,
            "align_items": null,
            "align_self": null,
            "border": null,
            "bottom": null,
            "display": null,
            "flex": null,
            "flex_flow": null,
            "grid_area": null,
            "grid_auto_columns": null,
            "grid_auto_flow": null,
            "grid_auto_rows": null,
            "grid_column": null,
            "grid_gap": null,
            "grid_row": null,
            "grid_template_areas": null,
            "grid_template_columns": null,
            "grid_template_rows": null,
            "height": null,
            "justify_content": null,
            "justify_items": null,
            "left": null,
            "margin": null,
            "max_height": null,
            "max_width": null,
            "min_height": null,
            "min_width": null,
            "object_fit": null,
            "object_position": null,
            "order": null,
            "overflow": null,
            "overflow_x": null,
            "overflow_y": null,
            "padding": null,
            "right": null,
            "top": null,
            "visibility": null,
            "width": null
          }
        },
        "6b9ff9c85cb14b65bfec73d764398bfd": {
          "model_module": "@jupyter-widgets/controls",
          "model_name": "ProgressStyleModel",
          "model_module_version": "1.5.0",
          "state": {
            "_model_module": "@jupyter-widgets/controls",
            "_model_module_version": "1.5.0",
            "_model_name": "ProgressStyleModel",
            "_view_count": null,
            "_view_module": "@jupyter-widgets/base",
            "_view_module_version": "1.2.0",
            "_view_name": "StyleView",
            "bar_color": null,
            "description_width": ""
          }
        },
        "f64d5be294ad496d878050fa9962897c": {
          "model_module": "@jupyter-widgets/base",
          "model_name": "LayoutModel",
          "model_module_version": "1.2.0",
          "state": {
            "_model_module": "@jupyter-widgets/base",
            "_model_module_version": "1.2.0",
            "_model_name": "LayoutModel",
            "_view_count": null,
            "_view_module": "@jupyter-widgets/base",
            "_view_module_version": "1.2.0",
            "_view_name": "LayoutView",
            "align_content": null,
            "align_items": null,
            "align_self": null,
            "border": null,
            "bottom": null,
            "display": null,
            "flex": null,
            "flex_flow": null,
            "grid_area": null,
            "grid_auto_columns": null,
            "grid_auto_flow": null,
            "grid_auto_rows": null,
            "grid_column": null,
            "grid_gap": null,
            "grid_row": null,
            "grid_template_areas": null,
            "grid_template_columns": null,
            "grid_template_rows": null,
            "height": null,
            "justify_content": null,
            "justify_items": null,
            "left": null,
            "margin": null,
            "max_height": null,
            "max_width": null,
            "min_height": null,
            "min_width": null,
            "object_fit": null,
            "object_position": null,
            "order": null,
            "overflow": null,
            "overflow_x": null,
            "overflow_y": null,
            "padding": null,
            "right": null,
            "top": null,
            "visibility": null,
            "width": null
          }
        },
        "8ec726146ebc431190ff160b36a04032": {
          "model_module": "@jupyter-widgets/controls",
          "model_name": "DescriptionStyleModel",
          "model_module_version": "1.5.0",
          "state": {
            "_model_module": "@jupyter-widgets/controls",
            "_model_module_version": "1.5.0",
            "_model_name": "DescriptionStyleModel",
            "_view_count": null,
            "_view_module": "@jupyter-widgets/base",
            "_view_module_version": "1.2.0",
            "_view_name": "StyleView",
            "description_width": ""
          }
        },
        "7fa09a68ff7f4c1083dfa2473ca4f832": {
          "model_module": "@jupyter-widgets/controls",
          "model_name": "HBoxModel",
          "model_module_version": "1.5.0",
          "state": {
            "_dom_classes": [],
            "_model_module": "@jupyter-widgets/controls",
            "_model_module_version": "1.5.0",
            "_model_name": "HBoxModel",
            "_view_count": null,
            "_view_module": "@jupyter-widgets/controls",
            "_view_module_version": "1.5.0",
            "_view_name": "HBoxView",
            "box_style": "",
            "children": [
              "IPY_MODEL_d1e2e7f850e54eada76dd2e4b0597571",
              "IPY_MODEL_ffae53ec11044342890c4afe20dee297",
              "IPY_MODEL_0abb4af67b8d4b9680cc6a56389a53f4"
            ],
            "layout": "IPY_MODEL_7438fbce1b734a2a946a86f798844e77"
          }
        },
        "d1e2e7f850e54eada76dd2e4b0597571": {
          "model_module": "@jupyter-widgets/controls",
          "model_name": "HTMLModel",
          "model_module_version": "1.5.0",
          "state": {
            "_dom_classes": [],
            "_model_module": "@jupyter-widgets/controls",
            "_model_module_version": "1.5.0",
            "_model_name": "HTMLModel",
            "_view_count": null,
            "_view_module": "@jupyter-widgets/controls",
            "_view_module_version": "1.5.0",
            "_view_name": "HTMLView",
            "description": "",
            "description_tooltip": null,
            "layout": "IPY_MODEL_6140275440744f82b14a4bc41495c029",
            "placeholder": "​",
            "style": "IPY_MODEL_04fc4ed975874c9fbfe6ad21d99b26a1",
            "value": "sentence_bert_config.json: 100%"
          }
        },
        "ffae53ec11044342890c4afe20dee297": {
          "model_module": "@jupyter-widgets/controls",
          "model_name": "FloatProgressModel",
          "model_module_version": "1.5.0",
          "state": {
            "_dom_classes": [],
            "_model_module": "@jupyter-widgets/controls",
            "_model_module_version": "1.5.0",
            "_model_name": "FloatProgressModel",
            "_view_count": null,
            "_view_module": "@jupyter-widgets/controls",
            "_view_module_version": "1.5.0",
            "_view_name": "ProgressView",
            "bar_style": "success",
            "description": "",
            "description_tooltip": null,
            "layout": "IPY_MODEL_ad47b400821b483d9b2386c690505afd",
            "max": 53,
            "min": 0,
            "orientation": "horizontal",
            "style": "IPY_MODEL_61290c68e8ed499cab16654d8fb1cf74",
            "value": 53
          }
        },
        "0abb4af67b8d4b9680cc6a56389a53f4": {
          "model_module": "@jupyter-widgets/controls",
          "model_name": "HTMLModel",
          "model_module_version": "1.5.0",
          "state": {
            "_dom_classes": [],
            "_model_module": "@jupyter-widgets/controls",
            "_model_module_version": "1.5.0",
            "_model_name": "HTMLModel",
            "_view_count": null,
            "_view_module": "@jupyter-widgets/controls",
            "_view_module_version": "1.5.0",
            "_view_name": "HTMLView",
            "description": "",
            "description_tooltip": null,
            "layout": "IPY_MODEL_742b34b459924900a56859f04bfe9890",
            "placeholder": "​",
            "style": "IPY_MODEL_87bd523921e74cfdaf2c7a71652bf402",
            "value": " 53.0/53.0 [00:00&lt;00:00, 3.55kB/s]"
          }
        },
        "7438fbce1b734a2a946a86f798844e77": {
          "model_module": "@jupyter-widgets/base",
          "model_name": "LayoutModel",
          "model_module_version": "1.2.0",
          "state": {
            "_model_module": "@jupyter-widgets/base",
            "_model_module_version": "1.2.0",
            "_model_name": "LayoutModel",
            "_view_count": null,
            "_view_module": "@jupyter-widgets/base",
            "_view_module_version": "1.2.0",
            "_view_name": "LayoutView",
            "align_content": null,
            "align_items": null,
            "align_self": null,
            "border": null,
            "bottom": null,
            "display": null,
            "flex": null,
            "flex_flow": null,
            "grid_area": null,
            "grid_auto_columns": null,
            "grid_auto_flow": null,
            "grid_auto_rows": null,
            "grid_column": null,
            "grid_gap": null,
            "grid_row": null,
            "grid_template_areas": null,
            "grid_template_columns": null,
            "grid_template_rows": null,
            "height": null,
            "justify_content": null,
            "justify_items": null,
            "left": null,
            "margin": null,
            "max_height": null,
            "max_width": null,
            "min_height": null,
            "min_width": null,
            "object_fit": null,
            "object_position": null,
            "order": null,
            "overflow": null,
            "overflow_x": null,
            "overflow_y": null,
            "padding": null,
            "right": null,
            "top": null,
            "visibility": null,
            "width": null
          }
        },
        "6140275440744f82b14a4bc41495c029": {
          "model_module": "@jupyter-widgets/base",
          "model_name": "LayoutModel",
          "model_module_version": "1.2.0",
          "state": {
            "_model_module": "@jupyter-widgets/base",
            "_model_module_version": "1.2.0",
            "_model_name": "LayoutModel",
            "_view_count": null,
            "_view_module": "@jupyter-widgets/base",
            "_view_module_version": "1.2.0",
            "_view_name": "LayoutView",
            "align_content": null,
            "align_items": null,
            "align_self": null,
            "border": null,
            "bottom": null,
            "display": null,
            "flex": null,
            "flex_flow": null,
            "grid_area": null,
            "grid_auto_columns": null,
            "grid_auto_flow": null,
            "grid_auto_rows": null,
            "grid_column": null,
            "grid_gap": null,
            "grid_row": null,
            "grid_template_areas": null,
            "grid_template_columns": null,
            "grid_template_rows": null,
            "height": null,
            "justify_content": null,
            "justify_items": null,
            "left": null,
            "margin": null,
            "max_height": null,
            "max_width": null,
            "min_height": null,
            "min_width": null,
            "object_fit": null,
            "object_position": null,
            "order": null,
            "overflow": null,
            "overflow_x": null,
            "overflow_y": null,
            "padding": null,
            "right": null,
            "top": null,
            "visibility": null,
            "width": null
          }
        },
        "04fc4ed975874c9fbfe6ad21d99b26a1": {
          "model_module": "@jupyter-widgets/controls",
          "model_name": "DescriptionStyleModel",
          "model_module_version": "1.5.0",
          "state": {
            "_model_module": "@jupyter-widgets/controls",
            "_model_module_version": "1.5.0",
            "_model_name": "DescriptionStyleModel",
            "_view_count": null,
            "_view_module": "@jupyter-widgets/base",
            "_view_module_version": "1.2.0",
            "_view_name": "StyleView",
            "description_width": ""
          }
        },
        "ad47b400821b483d9b2386c690505afd": {
          "model_module": "@jupyter-widgets/base",
          "model_name": "LayoutModel",
          "model_module_version": "1.2.0",
          "state": {
            "_model_module": "@jupyter-widgets/base",
            "_model_module_version": "1.2.0",
            "_model_name": "LayoutModel",
            "_view_count": null,
            "_view_module": "@jupyter-widgets/base",
            "_view_module_version": "1.2.0",
            "_view_name": "LayoutView",
            "align_content": null,
            "align_items": null,
            "align_self": null,
            "border": null,
            "bottom": null,
            "display": null,
            "flex": null,
            "flex_flow": null,
            "grid_area": null,
            "grid_auto_columns": null,
            "grid_auto_flow": null,
            "grid_auto_rows": null,
            "grid_column": null,
            "grid_gap": null,
            "grid_row": null,
            "grid_template_areas": null,
            "grid_template_columns": null,
            "grid_template_rows": null,
            "height": null,
            "justify_content": null,
            "justify_items": null,
            "left": null,
            "margin": null,
            "max_height": null,
            "max_width": null,
            "min_height": null,
            "min_width": null,
            "object_fit": null,
            "object_position": null,
            "order": null,
            "overflow": null,
            "overflow_x": null,
            "overflow_y": null,
            "padding": null,
            "right": null,
            "top": null,
            "visibility": null,
            "width": null
          }
        },
        "61290c68e8ed499cab16654d8fb1cf74": {
          "model_module": "@jupyter-widgets/controls",
          "model_name": "ProgressStyleModel",
          "model_module_version": "1.5.0",
          "state": {
            "_model_module": "@jupyter-widgets/controls",
            "_model_module_version": "1.5.0",
            "_model_name": "ProgressStyleModel",
            "_view_count": null,
            "_view_module": "@jupyter-widgets/base",
            "_view_module_version": "1.2.0",
            "_view_name": "StyleView",
            "bar_color": null,
            "description_width": ""
          }
        },
        "742b34b459924900a56859f04bfe9890": {
          "model_module": "@jupyter-widgets/base",
          "model_name": "LayoutModel",
          "model_module_version": "1.2.0",
          "state": {
            "_model_module": "@jupyter-widgets/base",
            "_model_module_version": "1.2.0",
            "_model_name": "LayoutModel",
            "_view_count": null,
            "_view_module": "@jupyter-widgets/base",
            "_view_module_version": "1.2.0",
            "_view_name": "LayoutView",
            "align_content": null,
            "align_items": null,
            "align_self": null,
            "border": null,
            "bottom": null,
            "display": null,
            "flex": null,
            "flex_flow": null,
            "grid_area": null,
            "grid_auto_columns": null,
            "grid_auto_flow": null,
            "grid_auto_rows": null,
            "grid_column": null,
            "grid_gap": null,
            "grid_row": null,
            "grid_template_areas": null,
            "grid_template_columns": null,
            "grid_template_rows": null,
            "height": null,
            "justify_content": null,
            "justify_items": null,
            "left": null,
            "margin": null,
            "max_height": null,
            "max_width": null,
            "min_height": null,
            "min_width": null,
            "object_fit": null,
            "object_position": null,
            "order": null,
            "overflow": null,
            "overflow_x": null,
            "overflow_y": null,
            "padding": null,
            "right": null,
            "top": null,
            "visibility": null,
            "width": null
          }
        },
        "87bd523921e74cfdaf2c7a71652bf402": {
          "model_module": "@jupyter-widgets/controls",
          "model_name": "DescriptionStyleModel",
          "model_module_version": "1.5.0",
          "state": {
            "_model_module": "@jupyter-widgets/controls",
            "_model_module_version": "1.5.0",
            "_model_name": "DescriptionStyleModel",
            "_view_count": null,
            "_view_module": "@jupyter-widgets/base",
            "_view_module_version": "1.2.0",
            "_view_name": "StyleView",
            "description_width": ""
          }
        },
        "9245acff67d44bd08ce197b93e361316": {
          "model_module": "@jupyter-widgets/controls",
          "model_name": "HBoxModel",
          "model_module_version": "1.5.0",
          "state": {
            "_dom_classes": [],
            "_model_module": "@jupyter-widgets/controls",
            "_model_module_version": "1.5.0",
            "_model_name": "HBoxModel",
            "_view_count": null,
            "_view_module": "@jupyter-widgets/controls",
            "_view_module_version": "1.5.0",
            "_view_name": "HBoxView",
            "box_style": "",
            "children": [
              "IPY_MODEL_130571478a0e4437906ee767fca25255",
              "IPY_MODEL_0e6e489c72d0469496466e4b156f6ed1",
              "IPY_MODEL_4bd8de4060514e919ff6514bcb11777d"
            ],
            "layout": "IPY_MODEL_ee737e82deaf4b35956888028cb432d9"
          }
        },
        "130571478a0e4437906ee767fca25255": {
          "model_module": "@jupyter-widgets/controls",
          "model_name": "HTMLModel",
          "model_module_version": "1.5.0",
          "state": {
            "_dom_classes": [],
            "_model_module": "@jupyter-widgets/controls",
            "_model_module_version": "1.5.0",
            "_model_name": "HTMLModel",
            "_view_count": null,
            "_view_module": "@jupyter-widgets/controls",
            "_view_module_version": "1.5.0",
            "_view_name": "HTMLView",
            "description": "",
            "description_tooltip": null,
            "layout": "IPY_MODEL_5f449efd9f564a2dbd852750c40b221b",
            "placeholder": "​",
            "style": "IPY_MODEL_62a7296ad0a44d40845acaef884cc524",
            "value": "config.json: 100%"
          }
        },
        "0e6e489c72d0469496466e4b156f6ed1": {
          "model_module": "@jupyter-widgets/controls",
          "model_name": "FloatProgressModel",
          "model_module_version": "1.5.0",
          "state": {
            "_dom_classes": [],
            "_model_module": "@jupyter-widgets/controls",
            "_model_module_version": "1.5.0",
            "_model_name": "FloatProgressModel",
            "_view_count": null,
            "_view_module": "@jupyter-widgets/controls",
            "_view_module_version": "1.5.0",
            "_view_name": "ProgressView",
            "bar_style": "success",
            "description": "",
            "description_tooltip": null,
            "layout": "IPY_MODEL_07f7f199594d464f8516aef5f6ee5164",
            "max": 723,
            "min": 0,
            "orientation": "horizontal",
            "style": "IPY_MODEL_20173c10be924cc497afc7b647e74295",
            "value": 723
          }
        },
        "4bd8de4060514e919ff6514bcb11777d": {
          "model_module": "@jupyter-widgets/controls",
          "model_name": "HTMLModel",
          "model_module_version": "1.5.0",
          "state": {
            "_dom_classes": [],
            "_model_module": "@jupyter-widgets/controls",
            "_model_module_version": "1.5.0",
            "_model_name": "HTMLModel",
            "_view_count": null,
            "_view_module": "@jupyter-widgets/controls",
            "_view_module_version": "1.5.0",
            "_view_name": "HTMLView",
            "description": "",
            "description_tooltip": null,
            "layout": "IPY_MODEL_75abfd9e50ba4834b143ef1d71b76749",
            "placeholder": "​",
            "style": "IPY_MODEL_327544b0b12a488fb4b14cc5a96a3a55",
            "value": " 723/723 [00:00&lt;00:00, 30.2kB/s]"
          }
        },
        "ee737e82deaf4b35956888028cb432d9": {
          "model_module": "@jupyter-widgets/base",
          "model_name": "LayoutModel",
          "model_module_version": "1.2.0",
          "state": {
            "_model_module": "@jupyter-widgets/base",
            "_model_module_version": "1.2.0",
            "_model_name": "LayoutModel",
            "_view_count": null,
            "_view_module": "@jupyter-widgets/base",
            "_view_module_version": "1.2.0",
            "_view_name": "LayoutView",
            "align_content": null,
            "align_items": null,
            "align_self": null,
            "border": null,
            "bottom": null,
            "display": null,
            "flex": null,
            "flex_flow": null,
            "grid_area": null,
            "grid_auto_columns": null,
            "grid_auto_flow": null,
            "grid_auto_rows": null,
            "grid_column": null,
            "grid_gap": null,
            "grid_row": null,
            "grid_template_areas": null,
            "grid_template_columns": null,
            "grid_template_rows": null,
            "height": null,
            "justify_content": null,
            "justify_items": null,
            "left": null,
            "margin": null,
            "max_height": null,
            "max_width": null,
            "min_height": null,
            "min_width": null,
            "object_fit": null,
            "object_position": null,
            "order": null,
            "overflow": null,
            "overflow_x": null,
            "overflow_y": null,
            "padding": null,
            "right": null,
            "top": null,
            "visibility": null,
            "width": null
          }
        },
        "5f449efd9f564a2dbd852750c40b221b": {
          "model_module": "@jupyter-widgets/base",
          "model_name": "LayoutModel",
          "model_module_version": "1.2.0",
          "state": {
            "_model_module": "@jupyter-widgets/base",
            "_model_module_version": "1.2.0",
            "_model_name": "LayoutModel",
            "_view_count": null,
            "_view_module": "@jupyter-widgets/base",
            "_view_module_version": "1.2.0",
            "_view_name": "LayoutView",
            "align_content": null,
            "align_items": null,
            "align_self": null,
            "border": null,
            "bottom": null,
            "display": null,
            "flex": null,
            "flex_flow": null,
            "grid_area": null,
            "grid_auto_columns": null,
            "grid_auto_flow": null,
            "grid_auto_rows": null,
            "grid_column": null,
            "grid_gap": null,
            "grid_row": null,
            "grid_template_areas": null,
            "grid_template_columns": null,
            "grid_template_rows": null,
            "height": null,
            "justify_content": null,
            "justify_items": null,
            "left": null,
            "margin": null,
            "max_height": null,
            "max_width": null,
            "min_height": null,
            "min_width": null,
            "object_fit": null,
            "object_position": null,
            "order": null,
            "overflow": null,
            "overflow_x": null,
            "overflow_y": null,
            "padding": null,
            "right": null,
            "top": null,
            "visibility": null,
            "width": null
          }
        },
        "62a7296ad0a44d40845acaef884cc524": {
          "model_module": "@jupyter-widgets/controls",
          "model_name": "DescriptionStyleModel",
          "model_module_version": "1.5.0",
          "state": {
            "_model_module": "@jupyter-widgets/controls",
            "_model_module_version": "1.5.0",
            "_model_name": "DescriptionStyleModel",
            "_view_count": null,
            "_view_module": "@jupyter-widgets/base",
            "_view_module_version": "1.2.0",
            "_view_name": "StyleView",
            "description_width": ""
          }
        },
        "07f7f199594d464f8516aef5f6ee5164": {
          "model_module": "@jupyter-widgets/base",
          "model_name": "LayoutModel",
          "model_module_version": "1.2.0",
          "state": {
            "_model_module": "@jupyter-widgets/base",
            "_model_module_version": "1.2.0",
            "_model_name": "LayoutModel",
            "_view_count": null,
            "_view_module": "@jupyter-widgets/base",
            "_view_module_version": "1.2.0",
            "_view_name": "LayoutView",
            "align_content": null,
            "align_items": null,
            "align_self": null,
            "border": null,
            "bottom": null,
            "display": null,
            "flex": null,
            "flex_flow": null,
            "grid_area": null,
            "grid_auto_columns": null,
            "grid_auto_flow": null,
            "grid_auto_rows": null,
            "grid_column": null,
            "grid_gap": null,
            "grid_row": null,
            "grid_template_areas": null,
            "grid_template_columns": null,
            "grid_template_rows": null,
            "height": null,
            "justify_content": null,
            "justify_items": null,
            "left": null,
            "margin": null,
            "max_height": null,
            "max_width": null,
            "min_height": null,
            "min_width": null,
            "object_fit": null,
            "object_position": null,
            "order": null,
            "overflow": null,
            "overflow_x": null,
            "overflow_y": null,
            "padding": null,
            "right": null,
            "top": null,
            "visibility": null,
            "width": null
          }
        },
        "20173c10be924cc497afc7b647e74295": {
          "model_module": "@jupyter-widgets/controls",
          "model_name": "ProgressStyleModel",
          "model_module_version": "1.5.0",
          "state": {
            "_model_module": "@jupyter-widgets/controls",
            "_model_module_version": "1.5.0",
            "_model_name": "ProgressStyleModel",
            "_view_count": null,
            "_view_module": "@jupyter-widgets/base",
            "_view_module_version": "1.2.0",
            "_view_name": "StyleView",
            "bar_color": null,
            "description_width": ""
          }
        },
        "75abfd9e50ba4834b143ef1d71b76749": {
          "model_module": "@jupyter-widgets/base",
          "model_name": "LayoutModel",
          "model_module_version": "1.2.0",
          "state": {
            "_model_module": "@jupyter-widgets/base",
            "_model_module_version": "1.2.0",
            "_model_name": "LayoutModel",
            "_view_count": null,
            "_view_module": "@jupyter-widgets/base",
            "_view_module_version": "1.2.0",
            "_view_name": "LayoutView",
            "align_content": null,
            "align_items": null,
            "align_self": null,
            "border": null,
            "bottom": null,
            "display": null,
            "flex": null,
            "flex_flow": null,
            "grid_area": null,
            "grid_auto_columns": null,
            "grid_auto_flow": null,
            "grid_auto_rows": null,
            "grid_column": null,
            "grid_gap": null,
            "grid_row": null,
            "grid_template_areas": null,
            "grid_template_columns": null,
            "grid_template_rows": null,
            "height": null,
            "justify_content": null,
            "justify_items": null,
            "left": null,
            "margin": null,
            "max_height": null,
            "max_width": null,
            "min_height": null,
            "min_width": null,
            "object_fit": null,
            "object_position": null,
            "order": null,
            "overflow": null,
            "overflow_x": null,
            "overflow_y": null,
            "padding": null,
            "right": null,
            "top": null,
            "visibility": null,
            "width": null
          }
        },
        "327544b0b12a488fb4b14cc5a96a3a55": {
          "model_module": "@jupyter-widgets/controls",
          "model_name": "DescriptionStyleModel",
          "model_module_version": "1.5.0",
          "state": {
            "_model_module": "@jupyter-widgets/controls",
            "_model_module_version": "1.5.0",
            "_model_name": "DescriptionStyleModel",
            "_view_count": null,
            "_view_module": "@jupyter-widgets/base",
            "_view_module_version": "1.2.0",
            "_view_name": "StyleView",
            "description_width": ""
          }
        },
        "c975e7130f0242d88f763531bc12bc50": {
          "model_module": "@jupyter-widgets/controls",
          "model_name": "HBoxModel",
          "model_module_version": "1.5.0",
          "state": {
            "_dom_classes": [],
            "_model_module": "@jupyter-widgets/controls",
            "_model_module_version": "1.5.0",
            "_model_name": "HBoxModel",
            "_view_count": null,
            "_view_module": "@jupyter-widgets/controls",
            "_view_module_version": "1.5.0",
            "_view_name": "HBoxView",
            "box_style": "",
            "children": [
              "IPY_MODEL_faeb88c87c5b43cf9c18f3a3e5b6ba0e",
              "IPY_MODEL_4d0aa27e9e714557ab140b68464860bc",
              "IPY_MODEL_dec1bdbde24a4b6897cf68326033aac5"
            ],
            "layout": "IPY_MODEL_fdda0149ff2842078f0fa2d72e991493"
          }
        },
        "faeb88c87c5b43cf9c18f3a3e5b6ba0e": {
          "model_module": "@jupyter-widgets/controls",
          "model_name": "HTMLModel",
          "model_module_version": "1.5.0",
          "state": {
            "_dom_classes": [],
            "_model_module": "@jupyter-widgets/controls",
            "_model_module_version": "1.5.0",
            "_model_name": "HTMLModel",
            "_view_count": null,
            "_view_module": "@jupyter-widgets/controls",
            "_view_module_version": "1.5.0",
            "_view_name": "HTMLView",
            "description": "",
            "description_tooltip": null,
            "layout": "IPY_MODEL_01d2eda649034339897aee2e9a92c576",
            "placeholder": "​",
            "style": "IPY_MODEL_03bf1ed1aa434dd3ab37f2e6aa05d331",
            "value": "model.safetensors: 100%"
          }
        },
        "4d0aa27e9e714557ab140b68464860bc": {
          "model_module": "@jupyter-widgets/controls",
          "model_name": "FloatProgressModel",
          "model_module_version": "1.5.0",
          "state": {
            "_dom_classes": [],
            "_model_module": "@jupyter-widgets/controls",
            "_model_module_version": "1.5.0",
            "_model_name": "FloatProgressModel",
            "_view_count": null,
            "_view_module": "@jupyter-widgets/controls",
            "_view_module_version": "1.5.0",
            "_view_name": "ProgressView",
            "bar_style": "success",
            "description": "",
            "description_tooltip": null,
            "layout": "IPY_MODEL_f70dbb0856cc4d6c8cb01b5cb513df7d",
            "max": 1112201288,
            "min": 0,
            "orientation": "horizontal",
            "style": "IPY_MODEL_daf0fc5dabc844dd9867953359eb79f7",
            "value": 1112201288
          }
        },
        "dec1bdbde24a4b6897cf68326033aac5": {
          "model_module": "@jupyter-widgets/controls",
          "model_name": "HTMLModel",
          "model_module_version": "1.5.0",
          "state": {
            "_dom_classes": [],
            "_model_module": "@jupyter-widgets/controls",
            "_model_module_version": "1.5.0",
            "_model_name": "HTMLModel",
            "_view_count": null,
            "_view_module": "@jupyter-widgets/controls",
            "_view_module_version": "1.5.0",
            "_view_name": "HTMLView",
            "description": "",
            "description_tooltip": null,
            "layout": "IPY_MODEL_f57f0f446c7448ddbc8bd4ac4210ed29",
            "placeholder": "​",
            "style": "IPY_MODEL_a1aa9f4feb2d41e4a5debc6d952161b7",
            "value": " 1.11G/1.11G [00:10&lt;00:00, 46.3MB/s]"
          }
        },
        "fdda0149ff2842078f0fa2d72e991493": {
          "model_module": "@jupyter-widgets/base",
          "model_name": "LayoutModel",
          "model_module_version": "1.2.0",
          "state": {
            "_model_module": "@jupyter-widgets/base",
            "_model_module_version": "1.2.0",
            "_model_name": "LayoutModel",
            "_view_count": null,
            "_view_module": "@jupyter-widgets/base",
            "_view_module_version": "1.2.0",
            "_view_name": "LayoutView",
            "align_content": null,
            "align_items": null,
            "align_self": null,
            "border": null,
            "bottom": null,
            "display": null,
            "flex": null,
            "flex_flow": null,
            "grid_area": null,
            "grid_auto_columns": null,
            "grid_auto_flow": null,
            "grid_auto_rows": null,
            "grid_column": null,
            "grid_gap": null,
            "grid_row": null,
            "grid_template_areas": null,
            "grid_template_columns": null,
            "grid_template_rows": null,
            "height": null,
            "justify_content": null,
            "justify_items": null,
            "left": null,
            "margin": null,
            "max_height": null,
            "max_width": null,
            "min_height": null,
            "min_width": null,
            "object_fit": null,
            "object_position": null,
            "order": null,
            "overflow": null,
            "overflow_x": null,
            "overflow_y": null,
            "padding": null,
            "right": null,
            "top": null,
            "visibility": null,
            "width": null
          }
        },
        "01d2eda649034339897aee2e9a92c576": {
          "model_module": "@jupyter-widgets/base",
          "model_name": "LayoutModel",
          "model_module_version": "1.2.0",
          "state": {
            "_model_module": "@jupyter-widgets/base",
            "_model_module_version": "1.2.0",
            "_model_name": "LayoutModel",
            "_view_count": null,
            "_view_module": "@jupyter-widgets/base",
            "_view_module_version": "1.2.0",
            "_view_name": "LayoutView",
            "align_content": null,
            "align_items": null,
            "align_self": null,
            "border": null,
            "bottom": null,
            "display": null,
            "flex": null,
            "flex_flow": null,
            "grid_area": null,
            "grid_auto_columns": null,
            "grid_auto_flow": null,
            "grid_auto_rows": null,
            "grid_column": null,
            "grid_gap": null,
            "grid_row": null,
            "grid_template_areas": null,
            "grid_template_columns": null,
            "grid_template_rows": null,
            "height": null,
            "justify_content": null,
            "justify_items": null,
            "left": null,
            "margin": null,
            "max_height": null,
            "max_width": null,
            "min_height": null,
            "min_width": null,
            "object_fit": null,
            "object_position": null,
            "order": null,
            "overflow": null,
            "overflow_x": null,
            "overflow_y": null,
            "padding": null,
            "right": null,
            "top": null,
            "visibility": null,
            "width": null
          }
        },
        "03bf1ed1aa434dd3ab37f2e6aa05d331": {
          "model_module": "@jupyter-widgets/controls",
          "model_name": "DescriptionStyleModel",
          "model_module_version": "1.5.0",
          "state": {
            "_model_module": "@jupyter-widgets/controls",
            "_model_module_version": "1.5.0",
            "_model_name": "DescriptionStyleModel",
            "_view_count": null,
            "_view_module": "@jupyter-widgets/base",
            "_view_module_version": "1.2.0",
            "_view_name": "StyleView",
            "description_width": ""
          }
        },
        "f70dbb0856cc4d6c8cb01b5cb513df7d": {
          "model_module": "@jupyter-widgets/base",
          "model_name": "LayoutModel",
          "model_module_version": "1.2.0",
          "state": {
            "_model_module": "@jupyter-widgets/base",
            "_model_module_version": "1.2.0",
            "_model_name": "LayoutModel",
            "_view_count": null,
            "_view_module": "@jupyter-widgets/base",
            "_view_module_version": "1.2.0",
            "_view_name": "LayoutView",
            "align_content": null,
            "align_items": null,
            "align_self": null,
            "border": null,
            "bottom": null,
            "display": null,
            "flex": null,
            "flex_flow": null,
            "grid_area": null,
            "grid_auto_columns": null,
            "grid_auto_flow": null,
            "grid_auto_rows": null,
            "grid_column": null,
            "grid_gap": null,
            "grid_row": null,
            "grid_template_areas": null,
            "grid_template_columns": null,
            "grid_template_rows": null,
            "height": null,
            "justify_content": null,
            "justify_items": null,
            "left": null,
            "margin": null,
            "max_height": null,
            "max_width": null,
            "min_height": null,
            "min_width": null,
            "object_fit": null,
            "object_position": null,
            "order": null,
            "overflow": null,
            "overflow_x": null,
            "overflow_y": null,
            "padding": null,
            "right": null,
            "top": null,
            "visibility": null,
            "width": null
          }
        },
        "daf0fc5dabc844dd9867953359eb79f7": {
          "model_module": "@jupyter-widgets/controls",
          "model_name": "ProgressStyleModel",
          "model_module_version": "1.5.0",
          "state": {
            "_model_module": "@jupyter-widgets/controls",
            "_model_module_version": "1.5.0",
            "_model_name": "ProgressStyleModel",
            "_view_count": null,
            "_view_module": "@jupyter-widgets/base",
            "_view_module_version": "1.2.0",
            "_view_name": "StyleView",
            "bar_color": null,
            "description_width": ""
          }
        },
        "f57f0f446c7448ddbc8bd4ac4210ed29": {
          "model_module": "@jupyter-widgets/base",
          "model_name": "LayoutModel",
          "model_module_version": "1.2.0",
          "state": {
            "_model_module": "@jupyter-widgets/base",
            "_model_module_version": "1.2.0",
            "_model_name": "LayoutModel",
            "_view_count": null,
            "_view_module": "@jupyter-widgets/base",
            "_view_module_version": "1.2.0",
            "_view_name": "LayoutView",
            "align_content": null,
            "align_items": null,
            "align_self": null,
            "border": null,
            "bottom": null,
            "display": null,
            "flex": null,
            "flex_flow": null,
            "grid_area": null,
            "grid_auto_columns": null,
            "grid_auto_flow": null,
            "grid_auto_rows": null,
            "grid_column": null,
            "grid_gap": null,
            "grid_row": null,
            "grid_template_areas": null,
            "grid_template_columns": null,
            "grid_template_rows": null,
            "height": null,
            "justify_content": null,
            "justify_items": null,
            "left": null,
            "margin": null,
            "max_height": null,
            "max_width": null,
            "min_height": null,
            "min_width": null,
            "object_fit": null,
            "object_position": null,
            "order": null,
            "overflow": null,
            "overflow_x": null,
            "overflow_y": null,
            "padding": null,
            "right": null,
            "top": null,
            "visibility": null,
            "width": null
          }
        },
        "a1aa9f4feb2d41e4a5debc6d952161b7": {
          "model_module": "@jupyter-widgets/controls",
          "model_name": "DescriptionStyleModel",
          "model_module_version": "1.5.0",
          "state": {
            "_model_module": "@jupyter-widgets/controls",
            "_model_module_version": "1.5.0",
            "_model_name": "DescriptionStyleModel",
            "_view_count": null,
            "_view_module": "@jupyter-widgets/base",
            "_view_module_version": "1.2.0",
            "_view_name": "StyleView",
            "description_width": ""
          }
        },
        "8b8b22f27a55489fba95d5bec45c39f9": {
          "model_module": "@jupyter-widgets/controls",
          "model_name": "HBoxModel",
          "model_module_version": "1.5.0",
          "state": {
            "_dom_classes": [],
            "_model_module": "@jupyter-widgets/controls",
            "_model_module_version": "1.5.0",
            "_model_name": "HBoxModel",
            "_view_count": null,
            "_view_module": "@jupyter-widgets/controls",
            "_view_module_version": "1.5.0",
            "_view_name": "HBoxView",
            "box_style": "",
            "children": [
              "IPY_MODEL_906cadb474a64ecf9156819928198292",
              "IPY_MODEL_e9d71b99ff704727b39555ddbffb66a9",
              "IPY_MODEL_b9726edf268e44c2ad8e54e456e40855"
            ],
            "layout": "IPY_MODEL_6da6655e59b9459d9ea7352e96f0fedb"
          }
        },
        "906cadb474a64ecf9156819928198292": {
          "model_module": "@jupyter-widgets/controls",
          "model_name": "HTMLModel",
          "model_module_version": "1.5.0",
          "state": {
            "_dom_classes": [],
            "_model_module": "@jupyter-widgets/controls",
            "_model_module_version": "1.5.0",
            "_model_name": "HTMLModel",
            "_view_count": null,
            "_view_module": "@jupyter-widgets/controls",
            "_view_module_version": "1.5.0",
            "_view_name": "HTMLView",
            "description": "",
            "description_tooltip": null,
            "layout": "IPY_MODEL_2438e6e3af6e47a78ec86ebbb9a10c75",
            "placeholder": "​",
            "style": "IPY_MODEL_b66bf18ef6a147b4b4d4e3aec82aa6cf",
            "value": "tokenizer_config.json: 100%"
          }
        },
        "e9d71b99ff704727b39555ddbffb66a9": {
          "model_module": "@jupyter-widgets/controls",
          "model_name": "FloatProgressModel",
          "model_module_version": "1.5.0",
          "state": {
            "_dom_classes": [],
            "_model_module": "@jupyter-widgets/controls",
            "_model_module_version": "1.5.0",
            "_model_name": "FloatProgressModel",
            "_view_count": null,
            "_view_module": "@jupyter-widgets/controls",
            "_view_module_version": "1.5.0",
            "_view_name": "ProgressView",
            "bar_style": "success",
            "description": "",
            "description_tooltip": null,
            "layout": "IPY_MODEL_76cd62742d4a448e87814befc8d9601d",
            "max": 402,
            "min": 0,
            "orientation": "horizontal",
            "style": "IPY_MODEL_4b110cbc69d948778ce5996f1c37c7d2",
            "value": 402
          }
        },
        "b9726edf268e44c2ad8e54e456e40855": {
          "model_module": "@jupyter-widgets/controls",
          "model_name": "HTMLModel",
          "model_module_version": "1.5.0",
          "state": {
            "_dom_classes": [],
            "_model_module": "@jupyter-widgets/controls",
            "_model_module_version": "1.5.0",
            "_model_name": "HTMLModel",
            "_view_count": null,
            "_view_module": "@jupyter-widgets/controls",
            "_view_module_version": "1.5.0",
            "_view_name": "HTMLView",
            "description": "",
            "description_tooltip": null,
            "layout": "IPY_MODEL_6e7684ed4a61457e823c6adaca40e497",
            "placeholder": "​",
            "style": "IPY_MODEL_46dfe682acfb4b1bb8031e2bba41ebfe",
            "value": " 402/402 [00:00&lt;00:00, 20.9kB/s]"
          }
        },
        "6da6655e59b9459d9ea7352e96f0fedb": {
          "model_module": "@jupyter-widgets/base",
          "model_name": "LayoutModel",
          "model_module_version": "1.2.0",
          "state": {
            "_model_module": "@jupyter-widgets/base",
            "_model_module_version": "1.2.0",
            "_model_name": "LayoutModel",
            "_view_count": null,
            "_view_module": "@jupyter-widgets/base",
            "_view_module_version": "1.2.0",
            "_view_name": "LayoutView",
            "align_content": null,
            "align_items": null,
            "align_self": null,
            "border": null,
            "bottom": null,
            "display": null,
            "flex": null,
            "flex_flow": null,
            "grid_area": null,
            "grid_auto_columns": null,
            "grid_auto_flow": null,
            "grid_auto_rows": null,
            "grid_column": null,
            "grid_gap": null,
            "grid_row": null,
            "grid_template_areas": null,
            "grid_template_columns": null,
            "grid_template_rows": null,
            "height": null,
            "justify_content": null,
            "justify_items": null,
            "left": null,
            "margin": null,
            "max_height": null,
            "max_width": null,
            "min_height": null,
            "min_width": null,
            "object_fit": null,
            "object_position": null,
            "order": null,
            "overflow": null,
            "overflow_x": null,
            "overflow_y": null,
            "padding": null,
            "right": null,
            "top": null,
            "visibility": null,
            "width": null
          }
        },
        "2438e6e3af6e47a78ec86ebbb9a10c75": {
          "model_module": "@jupyter-widgets/base",
          "model_name": "LayoutModel",
          "model_module_version": "1.2.0",
          "state": {
            "_model_module": "@jupyter-widgets/base",
            "_model_module_version": "1.2.0",
            "_model_name": "LayoutModel",
            "_view_count": null,
            "_view_module": "@jupyter-widgets/base",
            "_view_module_version": "1.2.0",
            "_view_name": "LayoutView",
            "align_content": null,
            "align_items": null,
            "align_self": null,
            "border": null,
            "bottom": null,
            "display": null,
            "flex": null,
            "flex_flow": null,
            "grid_area": null,
            "grid_auto_columns": null,
            "grid_auto_flow": null,
            "grid_auto_rows": null,
            "grid_column": null,
            "grid_gap": null,
            "grid_row": null,
            "grid_template_areas": null,
            "grid_template_columns": null,
            "grid_template_rows": null,
            "height": null,
            "justify_content": null,
            "justify_items": null,
            "left": null,
            "margin": null,
            "max_height": null,
            "max_width": null,
            "min_height": null,
            "min_width": null,
            "object_fit": null,
            "object_position": null,
            "order": null,
            "overflow": null,
            "overflow_x": null,
            "overflow_y": null,
            "padding": null,
            "right": null,
            "top": null,
            "visibility": null,
            "width": null
          }
        },
        "b66bf18ef6a147b4b4d4e3aec82aa6cf": {
          "model_module": "@jupyter-widgets/controls",
          "model_name": "DescriptionStyleModel",
          "model_module_version": "1.5.0",
          "state": {
            "_model_module": "@jupyter-widgets/controls",
            "_model_module_version": "1.5.0",
            "_model_name": "DescriptionStyleModel",
            "_view_count": null,
            "_view_module": "@jupyter-widgets/base",
            "_view_module_version": "1.2.0",
            "_view_name": "StyleView",
            "description_width": ""
          }
        },
        "76cd62742d4a448e87814befc8d9601d": {
          "model_module": "@jupyter-widgets/base",
          "model_name": "LayoutModel",
          "model_module_version": "1.2.0",
          "state": {
            "_model_module": "@jupyter-widgets/base",
            "_model_module_version": "1.2.0",
            "_model_name": "LayoutModel",
            "_view_count": null,
            "_view_module": "@jupyter-widgets/base",
            "_view_module_version": "1.2.0",
            "_view_name": "LayoutView",
            "align_content": null,
            "align_items": null,
            "align_self": null,
            "border": null,
            "bottom": null,
            "display": null,
            "flex": null,
            "flex_flow": null,
            "grid_area": null,
            "grid_auto_columns": null,
            "grid_auto_flow": null,
            "grid_auto_rows": null,
            "grid_column": null,
            "grid_gap": null,
            "grid_row": null,
            "grid_template_areas": null,
            "grid_template_columns": null,
            "grid_template_rows": null,
            "height": null,
            "justify_content": null,
            "justify_items": null,
            "left": null,
            "margin": null,
            "max_height": null,
            "max_width": null,
            "min_height": null,
            "min_width": null,
            "object_fit": null,
            "object_position": null,
            "order": null,
            "overflow": null,
            "overflow_x": null,
            "overflow_y": null,
            "padding": null,
            "right": null,
            "top": null,
            "visibility": null,
            "width": null
          }
        },
        "4b110cbc69d948778ce5996f1c37c7d2": {
          "model_module": "@jupyter-widgets/controls",
          "model_name": "ProgressStyleModel",
          "model_module_version": "1.5.0",
          "state": {
            "_model_module": "@jupyter-widgets/controls",
            "_model_module_version": "1.5.0",
            "_model_name": "ProgressStyleModel",
            "_view_count": null,
            "_view_module": "@jupyter-widgets/base",
            "_view_module_version": "1.2.0",
            "_view_name": "StyleView",
            "bar_color": null,
            "description_width": ""
          }
        },
        "6e7684ed4a61457e823c6adaca40e497": {
          "model_module": "@jupyter-widgets/base",
          "model_name": "LayoutModel",
          "model_module_version": "1.2.0",
          "state": {
            "_model_module": "@jupyter-widgets/base",
            "_model_module_version": "1.2.0",
            "_model_name": "LayoutModel",
            "_view_count": null,
            "_view_module": "@jupyter-widgets/base",
            "_view_module_version": "1.2.0",
            "_view_name": "LayoutView",
            "align_content": null,
            "align_items": null,
            "align_self": null,
            "border": null,
            "bottom": null,
            "display": null,
            "flex": null,
            "flex_flow": null,
            "grid_area": null,
            "grid_auto_columns": null,
            "grid_auto_flow": null,
            "grid_auto_rows": null,
            "grid_column": null,
            "grid_gap": null,
            "grid_row": null,
            "grid_template_areas": null,
            "grid_template_columns": null,
            "grid_template_rows": null,
            "height": null,
            "justify_content": null,
            "justify_items": null,
            "left": null,
            "margin": null,
            "max_height": null,
            "max_width": null,
            "min_height": null,
            "min_width": null,
            "object_fit": null,
            "object_position": null,
            "order": null,
            "overflow": null,
            "overflow_x": null,
            "overflow_y": null,
            "padding": null,
            "right": null,
            "top": null,
            "visibility": null,
            "width": null
          }
        },
        "46dfe682acfb4b1bb8031e2bba41ebfe": {
          "model_module": "@jupyter-widgets/controls",
          "model_name": "DescriptionStyleModel",
          "model_module_version": "1.5.0",
          "state": {
            "_model_module": "@jupyter-widgets/controls",
            "_model_module_version": "1.5.0",
            "_model_name": "DescriptionStyleModel",
            "_view_count": null,
            "_view_module": "@jupyter-widgets/base",
            "_view_module_version": "1.2.0",
            "_view_name": "StyleView",
            "description_width": ""
          }
        },
        "16cbd33029064cab89f17815b11c945f": {
          "model_module": "@jupyter-widgets/controls",
          "model_name": "HBoxModel",
          "model_module_version": "1.5.0",
          "state": {
            "_dom_classes": [],
            "_model_module": "@jupyter-widgets/controls",
            "_model_module_version": "1.5.0",
            "_model_name": "HBoxModel",
            "_view_count": null,
            "_view_module": "@jupyter-widgets/controls",
            "_view_module_version": "1.5.0",
            "_view_name": "HBoxView",
            "box_style": "",
            "children": [
              "IPY_MODEL_1de9280676b54053ab1d26ea445b9d66",
              "IPY_MODEL_703827d9696a4d51a7711d9de832f415",
              "IPY_MODEL_789ff79448604c87915addeb582aba3b"
            ],
            "layout": "IPY_MODEL_ca5f40d6fa6a4940b59d0493b8c3e622"
          }
        },
        "1de9280676b54053ab1d26ea445b9d66": {
          "model_module": "@jupyter-widgets/controls",
          "model_name": "HTMLModel",
          "model_module_version": "1.5.0",
          "state": {
            "_dom_classes": [],
            "_model_module": "@jupyter-widgets/controls",
            "_model_module_version": "1.5.0",
            "_model_name": "HTMLModel",
            "_view_count": null,
            "_view_module": "@jupyter-widgets/controls",
            "_view_module_version": "1.5.0",
            "_view_name": "HTMLView",
            "description": "",
            "description_tooltip": null,
            "layout": "IPY_MODEL_dc2c2adaa44e4e35be8ad7210adbca46",
            "placeholder": "​",
            "style": "IPY_MODEL_042daf150c6b4a1c817ad6a04eb2b05c",
            "value": "sentencepiece.bpe.model: 100%"
          }
        },
        "703827d9696a4d51a7711d9de832f415": {
          "model_module": "@jupyter-widgets/controls",
          "model_name": "FloatProgressModel",
          "model_module_version": "1.5.0",
          "state": {
            "_dom_classes": [],
            "_model_module": "@jupyter-widgets/controls",
            "_model_module_version": "1.5.0",
            "_model_name": "FloatProgressModel",
            "_view_count": null,
            "_view_module": "@jupyter-widgets/controls",
            "_view_module_version": "1.5.0",
            "_view_name": "ProgressView",
            "bar_style": "success",
            "description": "",
            "description_tooltip": null,
            "layout": "IPY_MODEL_92aae077d6ab4ee4839e3f9a6f17dc71",
            "max": 5069051,
            "min": 0,
            "orientation": "horizontal",
            "style": "IPY_MODEL_dbe57b5f072440008d6fbb11fa5ac1a2",
            "value": 5069051
          }
        },
        "789ff79448604c87915addeb582aba3b": {
          "model_module": "@jupyter-widgets/controls",
          "model_name": "HTMLModel",
          "model_module_version": "1.5.0",
          "state": {
            "_dom_classes": [],
            "_model_module": "@jupyter-widgets/controls",
            "_model_module_version": "1.5.0",
            "_model_name": "HTMLModel",
            "_view_count": null,
            "_view_module": "@jupyter-widgets/controls",
            "_view_module_version": "1.5.0",
            "_view_name": "HTMLView",
            "description": "",
            "description_tooltip": null,
            "layout": "IPY_MODEL_bc1c645c01064af190303640cc86cd19",
            "placeholder": "​",
            "style": "IPY_MODEL_6cfb9661581a46f4aad0764d07882786",
            "value": " 5.07M/5.07M [00:00&lt;00:00, 83.0MB/s]"
          }
        },
        "ca5f40d6fa6a4940b59d0493b8c3e622": {
          "model_module": "@jupyter-widgets/base",
          "model_name": "LayoutModel",
          "model_module_version": "1.2.0",
          "state": {
            "_model_module": "@jupyter-widgets/base",
            "_model_module_version": "1.2.0",
            "_model_name": "LayoutModel",
            "_view_count": null,
            "_view_module": "@jupyter-widgets/base",
            "_view_module_version": "1.2.0",
            "_view_name": "LayoutView",
            "align_content": null,
            "align_items": null,
            "align_self": null,
            "border": null,
            "bottom": null,
            "display": null,
            "flex": null,
            "flex_flow": null,
            "grid_area": null,
            "grid_auto_columns": null,
            "grid_auto_flow": null,
            "grid_auto_rows": null,
            "grid_column": null,
            "grid_gap": null,
            "grid_row": null,
            "grid_template_areas": null,
            "grid_template_columns": null,
            "grid_template_rows": null,
            "height": null,
            "justify_content": null,
            "justify_items": null,
            "left": null,
            "margin": null,
            "max_height": null,
            "max_width": null,
            "min_height": null,
            "min_width": null,
            "object_fit": null,
            "object_position": null,
            "order": null,
            "overflow": null,
            "overflow_x": null,
            "overflow_y": null,
            "padding": null,
            "right": null,
            "top": null,
            "visibility": null,
            "width": null
          }
        },
        "dc2c2adaa44e4e35be8ad7210adbca46": {
          "model_module": "@jupyter-widgets/base",
          "model_name": "LayoutModel",
          "model_module_version": "1.2.0",
          "state": {
            "_model_module": "@jupyter-widgets/base",
            "_model_module_version": "1.2.0",
            "_model_name": "LayoutModel",
            "_view_count": null,
            "_view_module": "@jupyter-widgets/base",
            "_view_module_version": "1.2.0",
            "_view_name": "LayoutView",
            "align_content": null,
            "align_items": null,
            "align_self": null,
            "border": null,
            "bottom": null,
            "display": null,
            "flex": null,
            "flex_flow": null,
            "grid_area": null,
            "grid_auto_columns": null,
            "grid_auto_flow": null,
            "grid_auto_rows": null,
            "grid_column": null,
            "grid_gap": null,
            "grid_row": null,
            "grid_template_areas": null,
            "grid_template_columns": null,
            "grid_template_rows": null,
            "height": null,
            "justify_content": null,
            "justify_items": null,
            "left": null,
            "margin": null,
            "max_height": null,
            "max_width": null,
            "min_height": null,
            "min_width": null,
            "object_fit": null,
            "object_position": null,
            "order": null,
            "overflow": null,
            "overflow_x": null,
            "overflow_y": null,
            "padding": null,
            "right": null,
            "top": null,
            "visibility": null,
            "width": null
          }
        },
        "042daf150c6b4a1c817ad6a04eb2b05c": {
          "model_module": "@jupyter-widgets/controls",
          "model_name": "DescriptionStyleModel",
          "model_module_version": "1.5.0",
          "state": {
            "_model_module": "@jupyter-widgets/controls",
            "_model_module_version": "1.5.0",
            "_model_name": "DescriptionStyleModel",
            "_view_count": null,
            "_view_module": "@jupyter-widgets/base",
            "_view_module_version": "1.2.0",
            "_view_name": "StyleView",
            "description_width": ""
          }
        },
        "92aae077d6ab4ee4839e3f9a6f17dc71": {
          "model_module": "@jupyter-widgets/base",
          "model_name": "LayoutModel",
          "model_module_version": "1.2.0",
          "state": {
            "_model_module": "@jupyter-widgets/base",
            "_model_module_version": "1.2.0",
            "_model_name": "LayoutModel",
            "_view_count": null,
            "_view_module": "@jupyter-widgets/base",
            "_view_module_version": "1.2.0",
            "_view_name": "LayoutView",
            "align_content": null,
            "align_items": null,
            "align_self": null,
            "border": null,
            "bottom": null,
            "display": null,
            "flex": null,
            "flex_flow": null,
            "grid_area": null,
            "grid_auto_columns": null,
            "grid_auto_flow": null,
            "grid_auto_rows": null,
            "grid_column": null,
            "grid_gap": null,
            "grid_row": null,
            "grid_template_areas": null,
            "grid_template_columns": null,
            "grid_template_rows": null,
            "height": null,
            "justify_content": null,
            "justify_items": null,
            "left": null,
            "margin": null,
            "max_height": null,
            "max_width": null,
            "min_height": null,
            "min_width": null,
            "object_fit": null,
            "object_position": null,
            "order": null,
            "overflow": null,
            "overflow_x": null,
            "overflow_y": null,
            "padding": null,
            "right": null,
            "top": null,
            "visibility": null,
            "width": null
          }
        },
        "dbe57b5f072440008d6fbb11fa5ac1a2": {
          "model_module": "@jupyter-widgets/controls",
          "model_name": "ProgressStyleModel",
          "model_module_version": "1.5.0",
          "state": {
            "_model_module": "@jupyter-widgets/controls",
            "_model_module_version": "1.5.0",
            "_model_name": "ProgressStyleModel",
            "_view_count": null,
            "_view_module": "@jupyter-widgets/base",
            "_view_module_version": "1.2.0",
            "_view_name": "StyleView",
            "bar_color": null,
            "description_width": ""
          }
        },
        "bc1c645c01064af190303640cc86cd19": {
          "model_module": "@jupyter-widgets/base",
          "model_name": "LayoutModel",
          "model_module_version": "1.2.0",
          "state": {
            "_model_module": "@jupyter-widgets/base",
            "_model_module_version": "1.2.0",
            "_model_name": "LayoutModel",
            "_view_count": null,
            "_view_module": "@jupyter-widgets/base",
            "_view_module_version": "1.2.0",
            "_view_name": "LayoutView",
            "align_content": null,
            "align_items": null,
            "align_self": null,
            "border": null,
            "bottom": null,
            "display": null,
            "flex": null,
            "flex_flow": null,
            "grid_area": null,
            "grid_auto_columns": null,
            "grid_auto_flow": null,
            "grid_auto_rows": null,
            "grid_column": null,
            "grid_gap": null,
            "grid_row": null,
            "grid_template_areas": null,
            "grid_template_columns": null,
            "grid_template_rows": null,
            "height": null,
            "justify_content": null,
            "justify_items": null,
            "left": null,
            "margin": null,
            "max_height": null,
            "max_width": null,
            "min_height": null,
            "min_width": null,
            "object_fit": null,
            "object_position": null,
            "order": null,
            "overflow": null,
            "overflow_x": null,
            "overflow_y": null,
            "padding": null,
            "right": null,
            "top": null,
            "visibility": null,
            "width": null
          }
        },
        "6cfb9661581a46f4aad0764d07882786": {
          "model_module": "@jupyter-widgets/controls",
          "model_name": "DescriptionStyleModel",
          "model_module_version": "1.5.0",
          "state": {
            "_model_module": "@jupyter-widgets/controls",
            "_model_module_version": "1.5.0",
            "_model_name": "DescriptionStyleModel",
            "_view_count": null,
            "_view_module": "@jupyter-widgets/base",
            "_view_module_version": "1.2.0",
            "_view_name": "StyleView",
            "description_width": ""
          }
        },
        "a898ae0b86574a6394d012705e0eb613": {
          "model_module": "@jupyter-widgets/controls",
          "model_name": "HBoxModel",
          "model_module_version": "1.5.0",
          "state": {
            "_dom_classes": [],
            "_model_module": "@jupyter-widgets/controls",
            "_model_module_version": "1.5.0",
            "_model_name": "HBoxModel",
            "_view_count": null,
            "_view_module": "@jupyter-widgets/controls",
            "_view_module_version": "1.5.0",
            "_view_name": "HBoxView",
            "box_style": "",
            "children": [
              "IPY_MODEL_bf6e5575a066401bb03a9356bc81cc50",
              "IPY_MODEL_6693ac28764f43829f8862c0042b6aac",
              "IPY_MODEL_385da9608ac246fe9135b0f1675ba957"
            ],
            "layout": "IPY_MODEL_bc626bc6444f4e3e8bcd68b3324e7951"
          }
        },
        "bf6e5575a066401bb03a9356bc81cc50": {
          "model_module": "@jupyter-widgets/controls",
          "model_name": "HTMLModel",
          "model_module_version": "1.5.0",
          "state": {
            "_dom_classes": [],
            "_model_module": "@jupyter-widgets/controls",
            "_model_module_version": "1.5.0",
            "_model_name": "HTMLModel",
            "_view_count": null,
            "_view_module": "@jupyter-widgets/controls",
            "_view_module_version": "1.5.0",
            "_view_name": "HTMLView",
            "description": "",
            "description_tooltip": null,
            "layout": "IPY_MODEL_98e8507589f44cf4a2295c30ebd10468",
            "placeholder": "​",
            "style": "IPY_MODEL_cd4a35e1a9254f1e90b927fd5d31023c",
            "value": "tokenizer.json: 100%"
          }
        },
        "6693ac28764f43829f8862c0042b6aac": {
          "model_module": "@jupyter-widgets/controls",
          "model_name": "FloatProgressModel",
          "model_module_version": "1.5.0",
          "state": {
            "_dom_classes": [],
            "_model_module": "@jupyter-widgets/controls",
            "_model_module_version": "1.5.0",
            "_model_name": "FloatProgressModel",
            "_view_count": null,
            "_view_module": "@jupyter-widgets/controls",
            "_view_module_version": "1.5.0",
            "_view_name": "ProgressView",
            "bar_style": "success",
            "description": "",
            "description_tooltip": null,
            "layout": "IPY_MODEL_19dcbddd50e342a8baa442af8571b2c4",
            "max": 9081518,
            "min": 0,
            "orientation": "horizontal",
            "style": "IPY_MODEL_e8e3a699fa7a494688506dc79cd5aeff",
            "value": 9081518
          }
        },
        "385da9608ac246fe9135b0f1675ba957": {
          "model_module": "@jupyter-widgets/controls",
          "model_name": "HTMLModel",
          "model_module_version": "1.5.0",
          "state": {
            "_dom_classes": [],
            "_model_module": "@jupyter-widgets/controls",
            "_model_module_version": "1.5.0",
            "_model_name": "HTMLModel",
            "_view_count": null,
            "_view_module": "@jupyter-widgets/controls",
            "_view_module_version": "1.5.0",
            "_view_name": "HTMLView",
            "description": "",
            "description_tooltip": null,
            "layout": "IPY_MODEL_1490d4a9fad246e697d1217ebd081405",
            "placeholder": "​",
            "style": "IPY_MODEL_8dcfe5f69cc24d3597bbe7fb37c9266a",
            "value": " 9.08M/9.08M [00:00&lt;00:00, 17.7MB/s]"
          }
        },
        "bc626bc6444f4e3e8bcd68b3324e7951": {
          "model_module": "@jupyter-widgets/base",
          "model_name": "LayoutModel",
          "model_module_version": "1.2.0",
          "state": {
            "_model_module": "@jupyter-widgets/base",
            "_model_module_version": "1.2.0",
            "_model_name": "LayoutModel",
            "_view_count": null,
            "_view_module": "@jupyter-widgets/base",
            "_view_module_version": "1.2.0",
            "_view_name": "LayoutView",
            "align_content": null,
            "align_items": null,
            "align_self": null,
            "border": null,
            "bottom": null,
            "display": null,
            "flex": null,
            "flex_flow": null,
            "grid_area": null,
            "grid_auto_columns": null,
            "grid_auto_flow": null,
            "grid_auto_rows": null,
            "grid_column": null,
            "grid_gap": null,
            "grid_row": null,
            "grid_template_areas": null,
            "grid_template_columns": null,
            "grid_template_rows": null,
            "height": null,
            "justify_content": null,
            "justify_items": null,
            "left": null,
            "margin": null,
            "max_height": null,
            "max_width": null,
            "min_height": null,
            "min_width": null,
            "object_fit": null,
            "object_position": null,
            "order": null,
            "overflow": null,
            "overflow_x": null,
            "overflow_y": null,
            "padding": null,
            "right": null,
            "top": null,
            "visibility": null,
            "width": null
          }
        },
        "98e8507589f44cf4a2295c30ebd10468": {
          "model_module": "@jupyter-widgets/base",
          "model_name": "LayoutModel",
          "model_module_version": "1.2.0",
          "state": {
            "_model_module": "@jupyter-widgets/base",
            "_model_module_version": "1.2.0",
            "_model_name": "LayoutModel",
            "_view_count": null,
            "_view_module": "@jupyter-widgets/base",
            "_view_module_version": "1.2.0",
            "_view_name": "LayoutView",
            "align_content": null,
            "align_items": null,
            "align_self": null,
            "border": null,
            "bottom": null,
            "display": null,
            "flex": null,
            "flex_flow": null,
            "grid_area": null,
            "grid_auto_columns": null,
            "grid_auto_flow": null,
            "grid_auto_rows": null,
            "grid_column": null,
            "grid_gap": null,
            "grid_row": null,
            "grid_template_areas": null,
            "grid_template_columns": null,
            "grid_template_rows": null,
            "height": null,
            "justify_content": null,
            "justify_items": null,
            "left": null,
            "margin": null,
            "max_height": null,
            "max_width": null,
            "min_height": null,
            "min_width": null,
            "object_fit": null,
            "object_position": null,
            "order": null,
            "overflow": null,
            "overflow_x": null,
            "overflow_y": null,
            "padding": null,
            "right": null,
            "top": null,
            "visibility": null,
            "width": null
          }
        },
        "cd4a35e1a9254f1e90b927fd5d31023c": {
          "model_module": "@jupyter-widgets/controls",
          "model_name": "DescriptionStyleModel",
          "model_module_version": "1.5.0",
          "state": {
            "_model_module": "@jupyter-widgets/controls",
            "_model_module_version": "1.5.0",
            "_model_name": "DescriptionStyleModel",
            "_view_count": null,
            "_view_module": "@jupyter-widgets/base",
            "_view_module_version": "1.2.0",
            "_view_name": "StyleView",
            "description_width": ""
          }
        },
        "19dcbddd50e342a8baa442af8571b2c4": {
          "model_module": "@jupyter-widgets/base",
          "model_name": "LayoutModel",
          "model_module_version": "1.2.0",
          "state": {
            "_model_module": "@jupyter-widgets/base",
            "_model_module_version": "1.2.0",
            "_model_name": "LayoutModel",
            "_view_count": null,
            "_view_module": "@jupyter-widgets/base",
            "_view_module_version": "1.2.0",
            "_view_name": "LayoutView",
            "align_content": null,
            "align_items": null,
            "align_self": null,
            "border": null,
            "bottom": null,
            "display": null,
            "flex": null,
            "flex_flow": null,
            "grid_area": null,
            "grid_auto_columns": null,
            "grid_auto_flow": null,
            "grid_auto_rows": null,
            "grid_column": null,
            "grid_gap": null,
            "grid_row": null,
            "grid_template_areas": null,
            "grid_template_columns": null,
            "grid_template_rows": null,
            "height": null,
            "justify_content": null,
            "justify_items": null,
            "left": null,
            "margin": null,
            "max_height": null,
            "max_width": null,
            "min_height": null,
            "min_width": null,
            "object_fit": null,
            "object_position": null,
            "order": null,
            "overflow": null,
            "overflow_x": null,
            "overflow_y": null,
            "padding": null,
            "right": null,
            "top": null,
            "visibility": null,
            "width": null
          }
        },
        "e8e3a699fa7a494688506dc79cd5aeff": {
          "model_module": "@jupyter-widgets/controls",
          "model_name": "ProgressStyleModel",
          "model_module_version": "1.5.0",
          "state": {
            "_model_module": "@jupyter-widgets/controls",
            "_model_module_version": "1.5.0",
            "_model_name": "ProgressStyleModel",
            "_view_count": null,
            "_view_module": "@jupyter-widgets/base",
            "_view_module_version": "1.2.0",
            "_view_name": "StyleView",
            "bar_color": null,
            "description_width": ""
          }
        },
        "1490d4a9fad246e697d1217ebd081405": {
          "model_module": "@jupyter-widgets/base",
          "model_name": "LayoutModel",
          "model_module_version": "1.2.0",
          "state": {
            "_model_module": "@jupyter-widgets/base",
            "_model_module_version": "1.2.0",
            "_model_name": "LayoutModel",
            "_view_count": null,
            "_view_module": "@jupyter-widgets/base",
            "_view_module_version": "1.2.0",
            "_view_name": "LayoutView",
            "align_content": null,
            "align_items": null,
            "align_self": null,
            "border": null,
            "bottom": null,
            "display": null,
            "flex": null,
            "flex_flow": null,
            "grid_area": null,
            "grid_auto_columns": null,
            "grid_auto_flow": null,
            "grid_auto_rows": null,
            "grid_column": null,
            "grid_gap": null,
            "grid_row": null,
            "grid_template_areas": null,
            "grid_template_columns": null,
            "grid_template_rows": null,
            "height": null,
            "justify_content": null,
            "justify_items": null,
            "left": null,
            "margin": null,
            "max_height": null,
            "max_width": null,
            "min_height": null,
            "min_width": null,
            "object_fit": null,
            "object_position": null,
            "order": null,
            "overflow": null,
            "overflow_x": null,
            "overflow_y": null,
            "padding": null,
            "right": null,
            "top": null,
            "visibility": null,
            "width": null
          }
        },
        "8dcfe5f69cc24d3597bbe7fb37c9266a": {
          "model_module": "@jupyter-widgets/controls",
          "model_name": "DescriptionStyleModel",
          "model_module_version": "1.5.0",
          "state": {
            "_model_module": "@jupyter-widgets/controls",
            "_model_module_version": "1.5.0",
            "_model_name": "DescriptionStyleModel",
            "_view_count": null,
            "_view_module": "@jupyter-widgets/base",
            "_view_module_version": "1.2.0",
            "_view_name": "StyleView",
            "description_width": ""
          }
        },
        "0c19c318565e488886d77c87db802cf8": {
          "model_module": "@jupyter-widgets/controls",
          "model_name": "HBoxModel",
          "model_module_version": "1.5.0",
          "state": {
            "_dom_classes": [],
            "_model_module": "@jupyter-widgets/controls",
            "_model_module_version": "1.5.0",
            "_model_name": "HBoxModel",
            "_view_count": null,
            "_view_module": "@jupyter-widgets/controls",
            "_view_module_version": "1.5.0",
            "_view_name": "HBoxView",
            "box_style": "",
            "children": [
              "IPY_MODEL_daedb1b2c0db4570b6e91bd207f92664",
              "IPY_MODEL_995bb56c1f134ac6a064ec701e51a449",
              "IPY_MODEL_410181d988fc480cbc274b3c79f7ac74"
            ],
            "layout": "IPY_MODEL_d2d17a1002854fde9d8cecc5f353f6d9"
          }
        },
        "daedb1b2c0db4570b6e91bd207f92664": {
          "model_module": "@jupyter-widgets/controls",
          "model_name": "HTMLModel",
          "model_module_version": "1.5.0",
          "state": {
            "_dom_classes": [],
            "_model_module": "@jupyter-widgets/controls",
            "_model_module_version": "1.5.0",
            "_model_name": "HTMLModel",
            "_view_count": null,
            "_view_module": "@jupyter-widgets/controls",
            "_view_module_version": "1.5.0",
            "_view_name": "HTMLView",
            "description": "",
            "description_tooltip": null,
            "layout": "IPY_MODEL_6adeb65a653e4fb68eda1d50dcbfc29a",
            "placeholder": "​",
            "style": "IPY_MODEL_4b5fbd286f814c049f1d49c4fae60cf6",
            "value": "special_tokens_map.json: 100%"
          }
        },
        "995bb56c1f134ac6a064ec701e51a449": {
          "model_module": "@jupyter-widgets/controls",
          "model_name": "FloatProgressModel",
          "model_module_version": "1.5.0",
          "state": {
            "_dom_classes": [],
            "_model_module": "@jupyter-widgets/controls",
            "_model_module_version": "1.5.0",
            "_model_name": "FloatProgressModel",
            "_view_count": null,
            "_view_module": "@jupyter-widgets/controls",
            "_view_module_version": "1.5.0",
            "_view_name": "ProgressView",
            "bar_style": "success",
            "description": "",
            "description_tooltip": null,
            "layout": "IPY_MODEL_d9049adedfa14bb58f13a1403ae2cb35",
            "max": 239,
            "min": 0,
            "orientation": "horizontal",
            "style": "IPY_MODEL_4620bf678f2f408ea62d340e00457653",
            "value": 239
          }
        },
        "410181d988fc480cbc274b3c79f7ac74": {
          "model_module": "@jupyter-widgets/controls",
          "model_name": "HTMLModel",
          "model_module_version": "1.5.0",
          "state": {
            "_dom_classes": [],
            "_model_module": "@jupyter-widgets/controls",
            "_model_module_version": "1.5.0",
            "_model_name": "HTMLModel",
            "_view_count": null,
            "_view_module": "@jupyter-widgets/controls",
            "_view_module_version": "1.5.0",
            "_view_name": "HTMLView",
            "description": "",
            "description_tooltip": null,
            "layout": "IPY_MODEL_17d3d1f446cd4c0d934fe4af3dedb09c",
            "placeholder": "​",
            "style": "IPY_MODEL_160b10f9767940d88b86cd3d374c179f",
            "value": " 239/239 [00:00&lt;00:00, 14.1kB/s]"
          }
        },
        "d2d17a1002854fde9d8cecc5f353f6d9": {
          "model_module": "@jupyter-widgets/base",
          "model_name": "LayoutModel",
          "model_module_version": "1.2.0",
          "state": {
            "_model_module": "@jupyter-widgets/base",
            "_model_module_version": "1.2.0",
            "_model_name": "LayoutModel",
            "_view_count": null,
            "_view_module": "@jupyter-widgets/base",
            "_view_module_version": "1.2.0",
            "_view_name": "LayoutView",
            "align_content": null,
            "align_items": null,
            "align_self": null,
            "border": null,
            "bottom": null,
            "display": null,
            "flex": null,
            "flex_flow": null,
            "grid_area": null,
            "grid_auto_columns": null,
            "grid_auto_flow": null,
            "grid_auto_rows": null,
            "grid_column": null,
            "grid_gap": null,
            "grid_row": null,
            "grid_template_areas": null,
            "grid_template_columns": null,
            "grid_template_rows": null,
            "height": null,
            "justify_content": null,
            "justify_items": null,
            "left": null,
            "margin": null,
            "max_height": null,
            "max_width": null,
            "min_height": null,
            "min_width": null,
            "object_fit": null,
            "object_position": null,
            "order": null,
            "overflow": null,
            "overflow_x": null,
            "overflow_y": null,
            "padding": null,
            "right": null,
            "top": null,
            "visibility": null,
            "width": null
          }
        },
        "6adeb65a653e4fb68eda1d50dcbfc29a": {
          "model_module": "@jupyter-widgets/base",
          "model_name": "LayoutModel",
          "model_module_version": "1.2.0",
          "state": {
            "_model_module": "@jupyter-widgets/base",
            "_model_module_version": "1.2.0",
            "_model_name": "LayoutModel",
            "_view_count": null,
            "_view_module": "@jupyter-widgets/base",
            "_view_module_version": "1.2.0",
            "_view_name": "LayoutView",
            "align_content": null,
            "align_items": null,
            "align_self": null,
            "border": null,
            "bottom": null,
            "display": null,
            "flex": null,
            "flex_flow": null,
            "grid_area": null,
            "grid_auto_columns": null,
            "grid_auto_flow": null,
            "grid_auto_rows": null,
            "grid_column": null,
            "grid_gap": null,
            "grid_row": null,
            "grid_template_areas": null,
            "grid_template_columns": null,
            "grid_template_rows": null,
            "height": null,
            "justify_content": null,
            "justify_items": null,
            "left": null,
            "margin": null,
            "max_height": null,
            "max_width": null,
            "min_height": null,
            "min_width": null,
            "object_fit": null,
            "object_position": null,
            "order": null,
            "overflow": null,
            "overflow_x": null,
            "overflow_y": null,
            "padding": null,
            "right": null,
            "top": null,
            "visibility": null,
            "width": null
          }
        },
        "4b5fbd286f814c049f1d49c4fae60cf6": {
          "model_module": "@jupyter-widgets/controls",
          "model_name": "DescriptionStyleModel",
          "model_module_version": "1.5.0",
          "state": {
            "_model_module": "@jupyter-widgets/controls",
            "_model_module_version": "1.5.0",
            "_model_name": "DescriptionStyleModel",
            "_view_count": null,
            "_view_module": "@jupyter-widgets/base",
            "_view_module_version": "1.2.0",
            "_view_name": "StyleView",
            "description_width": ""
          }
        },
        "d9049adedfa14bb58f13a1403ae2cb35": {
          "model_module": "@jupyter-widgets/base",
          "model_name": "LayoutModel",
          "model_module_version": "1.2.0",
          "state": {
            "_model_module": "@jupyter-widgets/base",
            "_model_module_version": "1.2.0",
            "_model_name": "LayoutModel",
            "_view_count": null,
            "_view_module": "@jupyter-widgets/base",
            "_view_module_version": "1.2.0",
            "_view_name": "LayoutView",
            "align_content": null,
            "align_items": null,
            "align_self": null,
            "border": null,
            "bottom": null,
            "display": null,
            "flex": null,
            "flex_flow": null,
            "grid_area": null,
            "grid_auto_columns": null,
            "grid_auto_flow": null,
            "grid_auto_rows": null,
            "grid_column": null,
            "grid_gap": null,
            "grid_row": null,
            "grid_template_areas": null,
            "grid_template_columns": null,
            "grid_template_rows": null,
            "height": null,
            "justify_content": null,
            "justify_items": null,
            "left": null,
            "margin": null,
            "max_height": null,
            "max_width": null,
            "min_height": null,
            "min_width": null,
            "object_fit": null,
            "object_position": null,
            "order": null,
            "overflow": null,
            "overflow_x": null,
            "overflow_y": null,
            "padding": null,
            "right": null,
            "top": null,
            "visibility": null,
            "width": null
          }
        },
        "4620bf678f2f408ea62d340e00457653": {
          "model_module": "@jupyter-widgets/controls",
          "model_name": "ProgressStyleModel",
          "model_module_version": "1.5.0",
          "state": {
            "_model_module": "@jupyter-widgets/controls",
            "_model_module_version": "1.5.0",
            "_model_name": "ProgressStyleModel",
            "_view_count": null,
            "_view_module": "@jupyter-widgets/base",
            "_view_module_version": "1.2.0",
            "_view_name": "StyleView",
            "bar_color": null,
            "description_width": ""
          }
        },
        "17d3d1f446cd4c0d934fe4af3dedb09c": {
          "model_module": "@jupyter-widgets/base",
          "model_name": "LayoutModel",
          "model_module_version": "1.2.0",
          "state": {
            "_model_module": "@jupyter-widgets/base",
            "_model_module_version": "1.2.0",
            "_model_name": "LayoutModel",
            "_view_count": null,
            "_view_module": "@jupyter-widgets/base",
            "_view_module_version": "1.2.0",
            "_view_name": "LayoutView",
            "align_content": null,
            "align_items": null,
            "align_self": null,
            "border": null,
            "bottom": null,
            "display": null,
            "flex": null,
            "flex_flow": null,
            "grid_area": null,
            "grid_auto_columns": null,
            "grid_auto_flow": null,
            "grid_auto_rows": null,
            "grid_column": null,
            "grid_gap": null,
            "grid_row": null,
            "grid_template_areas": null,
            "grid_template_columns": null,
            "grid_template_rows": null,
            "height": null,
            "justify_content": null,
            "justify_items": null,
            "left": null,
            "margin": null,
            "max_height": null,
            "max_width": null,
            "min_height": null,
            "min_width": null,
            "object_fit": null,
            "object_position": null,
            "order": null,
            "overflow": null,
            "overflow_x": null,
            "overflow_y": null,
            "padding": null,
            "right": null,
            "top": null,
            "visibility": null,
            "width": null
          }
        },
        "160b10f9767940d88b86cd3d374c179f": {
          "model_module": "@jupyter-widgets/controls",
          "model_name": "DescriptionStyleModel",
          "model_module_version": "1.5.0",
          "state": {
            "_model_module": "@jupyter-widgets/controls",
            "_model_module_version": "1.5.0",
            "_model_name": "DescriptionStyleModel",
            "_view_count": null,
            "_view_module": "@jupyter-widgets/base",
            "_view_module_version": "1.2.0",
            "_view_name": "StyleView",
            "description_width": ""
          }
        },
        "c79907de1d8d43c7aee704c6c198943d": {
          "model_module": "@jupyter-widgets/controls",
          "model_name": "HBoxModel",
          "model_module_version": "1.5.0",
          "state": {
            "_dom_classes": [],
            "_model_module": "@jupyter-widgets/controls",
            "_model_module_version": "1.5.0",
            "_model_name": "HBoxModel",
            "_view_count": null,
            "_view_module": "@jupyter-widgets/controls",
            "_view_module_version": "1.5.0",
            "_view_name": "HBoxView",
            "box_style": "",
            "children": [
              "IPY_MODEL_7000a85c99304f89a0822b37606bf904",
              "IPY_MODEL_47ca9642f1c2428abf849beeb8fa2f81",
              "IPY_MODEL_69d38a6f4a2c44e4904ab11871b14e66"
            ],
            "layout": "IPY_MODEL_a9edd67bacac4ac49f2fd8137015605b"
          }
        },
        "7000a85c99304f89a0822b37606bf904": {
          "model_module": "@jupyter-widgets/controls",
          "model_name": "HTMLModel",
          "model_module_version": "1.5.0",
          "state": {
            "_dom_classes": [],
            "_model_module": "@jupyter-widgets/controls",
            "_model_module_version": "1.5.0",
            "_model_name": "HTMLModel",
            "_view_count": null,
            "_view_module": "@jupyter-widgets/controls",
            "_view_module_version": "1.5.0",
            "_view_name": "HTMLView",
            "description": "",
            "description_tooltip": null,
            "layout": "IPY_MODEL_c18886d2262e49ab9b05b6ef198445de",
            "placeholder": "​",
            "style": "IPY_MODEL_606488be7a83420f84778ba2eeeb1222",
            "value": "1_Pooling/config.json: 100%"
          }
        },
        "47ca9642f1c2428abf849beeb8fa2f81": {
          "model_module": "@jupyter-widgets/controls",
          "model_name": "FloatProgressModel",
          "model_module_version": "1.5.0",
          "state": {
            "_dom_classes": [],
            "_model_module": "@jupyter-widgets/controls",
            "_model_module_version": "1.5.0",
            "_model_name": "FloatProgressModel",
            "_view_count": null,
            "_view_module": "@jupyter-widgets/controls",
            "_view_module_version": "1.5.0",
            "_view_name": "ProgressView",
            "bar_style": "success",
            "description": "",
            "description_tooltip": null,
            "layout": "IPY_MODEL_1901fa5684a04f2780ceb7e83abc84f7",
            "max": 190,
            "min": 0,
            "orientation": "horizontal",
            "style": "IPY_MODEL_d40adbf5ad4246a898bbbbfacf8d96bb",
            "value": 190
          }
        },
        "69d38a6f4a2c44e4904ab11871b14e66": {
          "model_module": "@jupyter-widgets/controls",
          "model_name": "HTMLModel",
          "model_module_version": "1.5.0",
          "state": {
            "_dom_classes": [],
            "_model_module": "@jupyter-widgets/controls",
            "_model_module_version": "1.5.0",
            "_model_name": "HTMLModel",
            "_view_count": null,
            "_view_module": "@jupyter-widgets/controls",
            "_view_module_version": "1.5.0",
            "_view_name": "HTMLView",
            "description": "",
            "description_tooltip": null,
            "layout": "IPY_MODEL_b3e85a13a4e64defb11cde3ff8a35b6e",
            "placeholder": "​",
            "style": "IPY_MODEL_a6ec3efbac944fa690e1ec52a6b82b98",
            "value": " 190/190 [00:00&lt;00:00, 7.63kB/s]"
          }
        },
        "a9edd67bacac4ac49f2fd8137015605b": {
          "model_module": "@jupyter-widgets/base",
          "model_name": "LayoutModel",
          "model_module_version": "1.2.0",
          "state": {
            "_model_module": "@jupyter-widgets/base",
            "_model_module_version": "1.2.0",
            "_model_name": "LayoutModel",
            "_view_count": null,
            "_view_module": "@jupyter-widgets/base",
            "_view_module_version": "1.2.0",
            "_view_name": "LayoutView",
            "align_content": null,
            "align_items": null,
            "align_self": null,
            "border": null,
            "bottom": null,
            "display": null,
            "flex": null,
            "flex_flow": null,
            "grid_area": null,
            "grid_auto_columns": null,
            "grid_auto_flow": null,
            "grid_auto_rows": null,
            "grid_column": null,
            "grid_gap": null,
            "grid_row": null,
            "grid_template_areas": null,
            "grid_template_columns": null,
            "grid_template_rows": null,
            "height": null,
            "justify_content": null,
            "justify_items": null,
            "left": null,
            "margin": null,
            "max_height": null,
            "max_width": null,
            "min_height": null,
            "min_width": null,
            "object_fit": null,
            "object_position": null,
            "order": null,
            "overflow": null,
            "overflow_x": null,
            "overflow_y": null,
            "padding": null,
            "right": null,
            "top": null,
            "visibility": null,
            "width": null
          }
        },
        "c18886d2262e49ab9b05b6ef198445de": {
          "model_module": "@jupyter-widgets/base",
          "model_name": "LayoutModel",
          "model_module_version": "1.2.0",
          "state": {
            "_model_module": "@jupyter-widgets/base",
            "_model_module_version": "1.2.0",
            "_model_name": "LayoutModel",
            "_view_count": null,
            "_view_module": "@jupyter-widgets/base",
            "_view_module_version": "1.2.0",
            "_view_name": "LayoutView",
            "align_content": null,
            "align_items": null,
            "align_self": null,
            "border": null,
            "bottom": null,
            "display": null,
            "flex": null,
            "flex_flow": null,
            "grid_area": null,
            "grid_auto_columns": null,
            "grid_auto_flow": null,
            "grid_auto_rows": null,
            "grid_column": null,
            "grid_gap": null,
            "grid_row": null,
            "grid_template_areas": null,
            "grid_template_columns": null,
            "grid_template_rows": null,
            "height": null,
            "justify_content": null,
            "justify_items": null,
            "left": null,
            "margin": null,
            "max_height": null,
            "max_width": null,
            "min_height": null,
            "min_width": null,
            "object_fit": null,
            "object_position": null,
            "order": null,
            "overflow": null,
            "overflow_x": null,
            "overflow_y": null,
            "padding": null,
            "right": null,
            "top": null,
            "visibility": null,
            "width": null
          }
        },
        "606488be7a83420f84778ba2eeeb1222": {
          "model_module": "@jupyter-widgets/controls",
          "model_name": "DescriptionStyleModel",
          "model_module_version": "1.5.0",
          "state": {
            "_model_module": "@jupyter-widgets/controls",
            "_model_module_version": "1.5.0",
            "_model_name": "DescriptionStyleModel",
            "_view_count": null,
            "_view_module": "@jupyter-widgets/base",
            "_view_module_version": "1.2.0",
            "_view_name": "StyleView",
            "description_width": ""
          }
        },
        "1901fa5684a04f2780ceb7e83abc84f7": {
          "model_module": "@jupyter-widgets/base",
          "model_name": "LayoutModel",
          "model_module_version": "1.2.0",
          "state": {
            "_model_module": "@jupyter-widgets/base",
            "_model_module_version": "1.2.0",
            "_model_name": "LayoutModel",
            "_view_count": null,
            "_view_module": "@jupyter-widgets/base",
            "_view_module_version": "1.2.0",
            "_view_name": "LayoutView",
            "align_content": null,
            "align_items": null,
            "align_self": null,
            "border": null,
            "bottom": null,
            "display": null,
            "flex": null,
            "flex_flow": null,
            "grid_area": null,
            "grid_auto_columns": null,
            "grid_auto_flow": null,
            "grid_auto_rows": null,
            "grid_column": null,
            "grid_gap": null,
            "grid_row": null,
            "grid_template_areas": null,
            "grid_template_columns": null,
            "grid_template_rows": null,
            "height": null,
            "justify_content": null,
            "justify_items": null,
            "left": null,
            "margin": null,
            "max_height": null,
            "max_width": null,
            "min_height": null,
            "min_width": null,
            "object_fit": null,
            "object_position": null,
            "order": null,
            "overflow": null,
            "overflow_x": null,
            "overflow_y": null,
            "padding": null,
            "right": null,
            "top": null,
            "visibility": null,
            "width": null
          }
        },
        "d40adbf5ad4246a898bbbbfacf8d96bb": {
          "model_module": "@jupyter-widgets/controls",
          "model_name": "ProgressStyleModel",
          "model_module_version": "1.5.0",
          "state": {
            "_model_module": "@jupyter-widgets/controls",
            "_model_module_version": "1.5.0",
            "_model_name": "ProgressStyleModel",
            "_view_count": null,
            "_view_module": "@jupyter-widgets/base",
            "_view_module_version": "1.2.0",
            "_view_name": "StyleView",
            "bar_color": null,
            "description_width": ""
          }
        },
        "b3e85a13a4e64defb11cde3ff8a35b6e": {
          "model_module": "@jupyter-widgets/base",
          "model_name": "LayoutModel",
          "model_module_version": "1.2.0",
          "state": {
            "_model_module": "@jupyter-widgets/base",
            "_model_module_version": "1.2.0",
            "_model_name": "LayoutModel",
            "_view_count": null,
            "_view_module": "@jupyter-widgets/base",
            "_view_module_version": "1.2.0",
            "_view_name": "LayoutView",
            "align_content": null,
            "align_items": null,
            "align_self": null,
            "border": null,
            "bottom": null,
            "display": null,
            "flex": null,
            "flex_flow": null,
            "grid_area": null,
            "grid_auto_columns": null,
            "grid_auto_flow": null,
            "grid_auto_rows": null,
            "grid_column": null,
            "grid_gap": null,
            "grid_row": null,
            "grid_template_areas": null,
            "grid_template_columns": null,
            "grid_template_rows": null,
            "height": null,
            "justify_content": null,
            "justify_items": null,
            "left": null,
            "margin": null,
            "max_height": null,
            "max_width": null,
            "min_height": null,
            "min_width": null,
            "object_fit": null,
            "object_position": null,
            "order": null,
            "overflow": null,
            "overflow_x": null,
            "overflow_y": null,
            "padding": null,
            "right": null,
            "top": null,
            "visibility": null,
            "width": null
          }
        },
        "a6ec3efbac944fa690e1ec52a6b82b98": {
          "model_module": "@jupyter-widgets/controls",
          "model_name": "DescriptionStyleModel",
          "model_module_version": "1.5.0",
          "state": {
            "_model_module": "@jupyter-widgets/controls",
            "_model_module_version": "1.5.0",
            "_model_name": "DescriptionStyleModel",
            "_view_count": null,
            "_view_module": "@jupyter-widgets/base",
            "_view_module_version": "1.2.0",
            "_view_name": "StyleView",
            "description_width": ""
          }
        }
      }
    }
  },
  "cells": [
    {
      "cell_type": "markdown",
      "metadata": {
        "id": "view-in-github",
        "colab_type": "text"
      },
      "source": [
        "<a href=\"https://colab.research.google.com/github/ChurikovSV/RAG_GigaChain/blob/main/RAG_v2_file.ipynb\" target=\"_parent\"><img src=\"https://colab.research.google.com/assets/colab-badge.svg\" alt=\"Open In Colab\"/></a>"
      ]
    },
    {
      "cell_type": "code",
      "execution_count": 1,
      "metadata": {
        "colab": {
          "base_uri": "https://localhost:8080/"
        },
        "id": "ULQRKc9YoPdU",
        "outputId": "748c2084-1da8-48a1-fa94-6adf0a389bf4"
      },
      "outputs": [
        {
          "output_type": "stream",
          "name": "stdout",
          "text": [
            "\u001b[?25l     \u001b[90m━━━━━━━━━━━━━━━━━━━━━━━━━━━━━━━━━━━━━━━━\u001b[0m \u001b[32m0.0/981.5 kB\u001b[0m \u001b[31m?\u001b[0m eta \u001b[36m-:--:--\u001b[0m\r\u001b[2K     \u001b[91m━━━━━━━━━━━━━━━━━━━━━━━━━━━━━━━━━━━━━━━\u001b[0m\u001b[91m╸\u001b[0m \u001b[32m972.8/981.5 kB\u001b[0m \u001b[31m54.6 MB/s\u001b[0m eta \u001b[36m0:00:01\u001b[0m\r\u001b[2K     \u001b[90m━━━━━━━━━━━━━━━━━━━━━━━━━━━━━━━━━━━━━━━━\u001b[0m \u001b[32m981.5/981.5 kB\u001b[0m \u001b[31m24.5 MB/s\u001b[0m eta \u001b[36m0:00:00\u001b[0m\n",
            "\u001b[?25h  Preparing metadata (setup.py) ... \u001b[?25l\u001b[?25hdone\n",
            "\u001b[2K     \u001b[90m━━━━━━━━━━━━━━━━━━━━━━━━━━━━━━━━━━━━━━━━\u001b[0m \u001b[32m48.2/48.2 kB\u001b[0m \u001b[31m2.0 MB/s\u001b[0m eta \u001b[36m0:00:00\u001b[0m\n",
            "\u001b[2K     \u001b[90m━━━━━━━━━━━━━━━━━━━━━━━━━━━━━━━━━━━━━━━━\u001b[0m \u001b[32m117.0/117.0 kB\u001b[0m \u001b[31m8.0 MB/s\u001b[0m eta \u001b[36m0:00:00\u001b[0m\n",
            "\u001b[?25h  Preparing metadata (setup.py) ... \u001b[?25l\u001b[?25hdone\n",
            "\u001b[2K   \u001b[90m━━━━━━━━━━━━━━━━━━━━━━━━━━━━━━━━━━━━━━━━\u001b[0m \u001b[32m1.0/1.0 MB\u001b[0m \u001b[31m39.6 MB/s\u001b[0m eta \u001b[36m0:00:00\u001b[0m\n",
            "\u001b[2K   \u001b[90m━━━━━━━━━━━━━━━━━━━━━━━━━━━━━━━━━━━━━━━━\u001b[0m \u001b[32m2.4/2.4 MB\u001b[0m \u001b[31m57.1 MB/s\u001b[0m eta \u001b[36m0:00:00\u001b[0m\n",
            "\u001b[2K   \u001b[90m━━━━━━━━━━━━━━━━━━━━━━━━━━━━━━━━━━━━━━━━\u001b[0m \u001b[32m27.5/27.5 MB\u001b[0m \u001b[31m43.8 MB/s\u001b[0m eta \u001b[36m0:00:00\u001b[0m\n",
            "\u001b[2K   \u001b[90m━━━━━━━━━━━━━━━━━━━━━━━━━━━━━━━━━━━━━━━━\u001b[0m \u001b[32m403.7/403.7 kB\u001b[0m \u001b[31m16.5 MB/s\u001b[0m eta \u001b[36m0:00:00\u001b[0m\n",
            "\u001b[2K   \u001b[90m━━━━━━━━━━━━━━━━━━━━━━━━━━━━━━━━━━━━━━━━\u001b[0m \u001b[32m65.1/65.1 kB\u001b[0m \u001b[31m3.9 MB/s\u001b[0m eta \u001b[36m0:00:00\u001b[0m\n",
            "\u001b[2K   \u001b[90m━━━━━━━━━━━━━━━━━━━━━━━━━━━━━━━━━━━━━━━━\u001b[0m \u001b[32m311.8/311.8 kB\u001b[0m \u001b[31m15.6 MB/s\u001b[0m eta \u001b[36m0:00:00\u001b[0m\n",
            "\u001b[2K   \u001b[90m━━━━━━━━━━━━━━━━━━━━━━━━━━━━━━━━━━━━━━━━\u001b[0m \u001b[32m244.3/244.3 kB\u001b[0m \u001b[31m14.0 MB/s\u001b[0m eta \u001b[36m0:00:00\u001b[0m\n",
            "\u001b[2K   \u001b[90m━━━━━━━━━━━━━━━━━━━━━━━━━━━━━━━━━━━━━━━━\u001b[0m \u001b[32m472.8/472.8 kB\u001b[0m \u001b[31m28.6 MB/s\u001b[0m eta \u001b[36m0:00:00\u001b[0m\n",
            "\u001b[2K   \u001b[90m━━━━━━━━━━━━━━━━━━━━━━━━━━━━━━━━━━━━━━━━\u001b[0m \u001b[32m48.8/48.8 kB\u001b[0m \u001b[31m2.9 MB/s\u001b[0m eta \u001b[36m0:00:00\u001b[0m\n",
            "\u001b[2K   \u001b[90m━━━━━━━━━━━━━━━━━━━━━━━━━━━━━━━━━━━━━━━━\u001b[0m \u001b[32m5.6/5.6 MB\u001b[0m \u001b[31m66.4 MB/s\u001b[0m eta \u001b[36m0:00:00\u001b[0m\n",
            "\u001b[2K   \u001b[90m━━━━━━━━━━━━━━━━━━━━━━━━━━━━━━━━━━━━━━━━\u001b[0m \u001b[32m112.5/112.5 kB\u001b[0m \u001b[31m6.8 MB/s\u001b[0m eta \u001b[36m0:00:00\u001b[0m\n",
            "\u001b[2K   \u001b[90m━━━━━━━━━━━━━━━━━━━━━━━━━━━━━━━━━━━━━━━━\u001b[0m \u001b[32m590.6/590.6 kB\u001b[0m \u001b[31m25.5 MB/s\u001b[0m eta \u001b[36m0:00:00\u001b[0m\n",
            "\u001b[2K   \u001b[90m━━━━━━━━━━━━━━━━━━━━━━━━━━━━━━━━━━━━━━━━\u001b[0m \u001b[32m514.6/514.6 kB\u001b[0m \u001b[31m27.8 MB/s\u001b[0m eta \u001b[36m0:00:00\u001b[0m\n",
            "\u001b[2K   \u001b[90m━━━━━━━━━━━━━━━━━━━━━━━━━━━━━━━━━━━━━━━━\u001b[0m \u001b[32m16.0/16.0 MB\u001b[0m \u001b[31m54.3 MB/s\u001b[0m eta \u001b[36m0:00:00\u001b[0m\n",
            "\u001b[2K   \u001b[90m━━━━━━━━━━━━━━━━━━━━━━━━━━━━━━━━━━━━━━━━\u001b[0m \u001b[32m1.2/1.2 MB\u001b[0m \u001b[31m40.0 MB/s\u001b[0m eta \u001b[36m0:00:00\u001b[0m\n",
            "\u001b[2K   \u001b[90m━━━━━━━━━━━━━━━━━━━━━━━━━━━━━━━━━━━━━━━━\u001b[0m \u001b[32m2.4/2.4 MB\u001b[0m \u001b[31m64.7 MB/s\u001b[0m eta \u001b[36m0:00:00\u001b[0m\n",
            "\u001b[2K   \u001b[90m━━━━━━━━━━━━━━━━━━━━━━━━━━━━━━━━━━━━━━━━\u001b[0m \u001b[32m298.0/298.0 kB\u001b[0m \u001b[31m18.5 MB/s\u001b[0m eta \u001b[36m0:00:00\u001b[0m\n",
            "\u001b[2K   \u001b[90m━━━━━━━━━━━━━━━━━━━━━━━━━━━━━━━━━━━━━━━━\u001b[0m \u001b[32m274.9/274.9 kB\u001b[0m \u001b[31m18.4 MB/s\u001b[0m eta \u001b[36m0:00:00\u001b[0m\n",
            "\u001b[2K   \u001b[90m━━━━━━━━━━━━━━━━━━━━━━━━━━━━━━━━━━━━━━━━\u001b[0m \u001b[32m3.1/3.1 MB\u001b[0m \u001b[31m50.8 MB/s\u001b[0m eta \u001b[36m0:00:00\u001b[0m\n",
            "\u001b[2K   \u001b[90m━━━━━━━━━━━━━━━━━━━━━━━━━━━━━━━━━━━━━━━━\u001b[0m \u001b[32m1.8/1.8 MB\u001b[0m \u001b[31m39.1 MB/s\u001b[0m eta \u001b[36m0:00:00\u001b[0m\n",
            "\u001b[2K   \u001b[90m━━━━━━━━━━━━━━━━━━━━━━━━━━━━━━━━━━━━━━━━\u001b[0m \u001b[32m63.6/63.6 kB\u001b[0m \u001b[31m4.3 MB/s\u001b[0m eta \u001b[36m0:00:00\u001b[0m\n",
            "\u001b[2K   \u001b[90m━━━━━━━━━━━━━━━━━━━━━━━━━━━━━━━━━━━━━━━━\u001b[0m \u001b[32m76.4/76.4 kB\u001b[0m \u001b[31m4.4 MB/s\u001b[0m eta \u001b[36m0:00:00\u001b[0m\n",
            "\u001b[2K   \u001b[90m━━━━━━━━━━━━━━━━━━━━━━━━━━━━━━━━━━━━━━━━\u001b[0m \u001b[32m255.5/255.5 kB\u001b[0m \u001b[31m16.6 MB/s\u001b[0m eta \u001b[36m0:00:00\u001b[0m\n",
            "\u001b[2K   \u001b[90m━━━━━━━━━━━━━━━━━━━━━━━━━━━━━━━━━━━━━━━━\u001b[0m \u001b[32m50.8/50.8 kB\u001b[0m \u001b[31m3.0 MB/s\u001b[0m eta \u001b[36m0:00:00\u001b[0m\n",
            "\u001b[2K   \u001b[90m━━━━━━━━━━━━━━━━━━━━━━━━━━━━━━━━━━━━━━━━\u001b[0m \u001b[32m79.5/79.5 kB\u001b[0m \u001b[31m4.5 MB/s\u001b[0m eta \u001b[36m0:00:00\u001b[0m\n",
            "\u001b[2K   \u001b[90m━━━━━━━━━━━━━━━━━━━━━━━━━━━━━━━━━━━━━━━━\u001b[0m \u001b[32m13.3/13.3 MB\u001b[0m \u001b[31m55.4 MB/s\u001b[0m eta \u001b[36m0:00:00\u001b[0m\n",
            "\u001b[2K   \u001b[90m━━━━━━━━━━━━━━━━━━━━━━━━━━━━━━━━━━━━━━━━\u001b[0m \u001b[32m162.8/162.8 kB\u001b[0m \u001b[31m9.8 MB/s\u001b[0m eta \u001b[36m0:00:00\u001b[0m\n",
            "\u001b[2K   \u001b[90m━━━━━━━━━━━━━━━━━━━━━━━━━━━━━━━━━━━━━━━━\u001b[0m \u001b[32m114.6/114.6 kB\u001b[0m \u001b[31m6.2 MB/s\u001b[0m eta \u001b[36m0:00:00\u001b[0m\n",
            "\u001b[2K   \u001b[90m━━━━━━━━━━━━━━━━━━━━━━━━━━━━━━━━━━━━━━━━\u001b[0m \u001b[32m2.9/2.9 MB\u001b[0m \u001b[31m49.5 MB/s\u001b[0m eta \u001b[36m0:00:00\u001b[0m\n",
            "\u001b[2K   \u001b[90m━━━━━━━━━━━━━━━━━━━━━━━━━━━━━━━━━━━━━━━━\u001b[0m \u001b[32m96.0/96.0 kB\u001b[0m \u001b[31m5.5 MB/s\u001b[0m eta \u001b[36m0:00:00\u001b[0m\n",
            "\u001b[2K   \u001b[90m━━━━━━━━━━━━━━━━━━━━━━━━━━━━━━━━━━━━━━━━\u001b[0m \u001b[32m46.0/46.0 kB\u001b[0m \u001b[31m2.4 MB/s\u001b[0m eta \u001b[36m0:00:00\u001b[0m\n",
            "\u001b[2K   \u001b[90m━━━━━━━━━━━━━━━━━━━━━━━━━━━━━━━━━━━━━━━━\u001b[0m \u001b[32m86.8/86.8 kB\u001b[0m \u001b[31m4.6 MB/s\u001b[0m eta \u001b[36m0:00:00\u001b[0m\n",
            "\u001b[?25h  Building wheel for langdetect (setup.py) ... \u001b[?25l\u001b[?25hdone\n",
            "  Building wheel for antlr4-python3-runtime (setup.py) ... \u001b[?25l\u001b[?25hdone\n",
            "\u001b[31mERROR: pip's dependency resolver does not currently take into account all the packages that are installed. This behaviour is the source of the following dependency conflicts.\n",
            "jupyter-server 1.24.0 requires anyio<4,>=3.1.0, but you have anyio 4.8.0 which is incompatible.\u001b[0m\u001b[31m\n",
            "\u001b[0m"
          ]
        }
      ],
      "source": [
        "!pip install gigachain gigachain-community unstructured[all-docs] faiss-cpu sentence-transformers --quiet"
      ]
    },
    {
      "cell_type": "markdown",
      "source": [
        "Создание фрагментов на основе PDF"
      ],
      "metadata": {
        "id": "dFIfOZbYpPLs"
      }
    },
    {
      "cell_type": "code",
      "source": [
        "from langchain_community.document_loaders import  PyPDFLoader\n",
        "from langchain.text_splitter import RecursiveCharacterTextSplitter\n",
        "\n",
        "text_splitter = RecursiveCharacterTextSplitter(chunk_size=1000,\n",
        "                                              chunk_overlap=100)\n",
        "pdf_file = '/content/Шаблон_дз_по_курсу_Юнит_экономика_Беканова_Марианна.pdf'\n",
        "loader =  PyPDFLoader(pdf_file)\n",
        "splitted_data = loader.load_and_split(text_splitter)"
      ],
      "metadata": {
        "id": "8nS5uzLypD_W"
      },
      "execution_count": 9,
      "outputs": []
    },
    {
      "cell_type": "markdown",
      "source": [
        "Посмотрим сколько фрагментов получилось."
      ],
      "metadata": {
        "id": "hmQvbEF8pYGg"
      }
    },
    {
      "cell_type": "code",
      "source": [
        "len(splitted_data)"
      ],
      "metadata": {
        "colab": {
          "base_uri": "https://localhost:8080/"
        },
        "id": "yy13NWbupZIg",
        "outputId": "0b61ecc3-ff53-477d-b6bf-c3b5613b6959"
      },
      "execution_count": 11,
      "outputs": [
        {
          "output_type": "execute_result",
          "data": {
            "text/plain": [
              "23"
            ]
          },
          "metadata": {},
          "execution_count": 11
        }
      ]
    },
    {
      "cell_type": "markdown",
      "source": [
        "Выведем на экран два соседних фрагмента, чтобы показать перекрытие."
      ],
      "metadata": {
        "id": "-N2l3Fzdpbu0"
      }
    },
    {
      "cell_type": "code",
      "source": [
        "splitted_data[10]"
      ],
      "metadata": {
        "colab": {
          "base_uri": "https://localhost:8080/"
        },
        "id": "0SoKUOhgpezq",
        "outputId": "0f655dde-c6ac-437c-9ca7-98115ef896d9"
      },
      "execution_count": 12,
      "outputs": [
        {
          "output_type": "execute_result",
          "data": {
            "text/plain": [
              "Document(metadata={'source': '/content/Шаблон_дз_по_курсу_Юнит_экономика_Беканова_Марианна.pdf', 'page': 1}, page_content='Referal R Показатель реферальных клиентов. То есть, пользователей, которые пришли к вам по рекомендации других пользователей.Необязательная метрика, которая покажет удовлетворённость нашими услугами.\\nNet Promoter Score NPS Индекс лояльности пользователей. Так же как и referal, не несёт обязательного характера, но с его помощью можно оценить, насколько родители готовы порекомендовать нас своим друзьям и знакомым.\\nСпецифичные метрики (если есть)\\nКоэффициент приобретения дополнительных услуг в отношении к общему числу детей -\\nПоказатель который получается путем количества покупок дополнительных курсов по отношению к общеу количеству детей на выбранный промежуток времениНеобходим для того, что бы можно было контролировать наиболее популярные среди родителей курсы и делать на них акцент при привлечении новых клиентов.')"
            ]
          },
          "metadata": {},
          "execution_count": 12
        }
      ]
    },
    {
      "cell_type": "code",
      "source": [
        "splitted_data[11]"
      ],
      "metadata": {
        "colab": {
          "base_uri": "https://localhost:8080/"
        },
        "id": "e4rbhER2pkiG",
        "outputId": "520dbaa8-0925-4dbe-c953-d5f8946eba1f"
      },
      "execution_count": 13,
      "outputs": [
        {
          "output_type": "execute_result",
          "data": {
            "text/plain": [
              "Document(metadata={'source': '/content/Шаблон_дз_по_курсу_Юнит_экономика_Беканова_Марианна.pdf', 'page': 1}, page_content='Custorer Satisfaction Indicator CSI Коэффициент удовлетворённости персоналом - метрика определяемая путём опроса родителей (возможно методом анкетирования). Необходим для понимания сильных и слабых сторон персонала.\\nКоличество детей на одного воспитателя - Отношение количества детей, которые посещают детский сад, к количетву воспитателей и нянечек.Может быть важным фактором, влияющим на качество ухода за детьми и эффективность использования персонала.\\nРождаемость - Рождаемость за определенный перид времениДаст понимание в актуальности предлагаемых услуг.')"
            ]
          },
          "metadata": {},
          "execution_count": 13
        }
      ]
    },
    {
      "cell_type": "markdown",
      "source": [
        "Создание векторных представлений и векторного хранилища\n",
        "\n",
        "В этом туториале опять используем модель paraphrase-multilingual-mpnet-base-v2 для векторизации фрагментов.\n",
        "\n",
        "В качестве хранилища опять используем FAISS. Помимо этой векторной БД в GigaChain/LangChain есть большое количество интеграций с векторными хранилищами, как локальными так и облачными. Перечень доступных векторных хранилищ можно посмотреть здесь."
      ],
      "metadata": {
        "id": "_NsAY5Rluyzb"
      }
    },
    {
      "cell_type": "code",
      "source": [
        "from langchain.embeddings import HuggingFaceEmbeddings\n",
        "from langchain.vectorstores.faiss import FAISS"
      ],
      "metadata": {
        "id": "YOPFnjrjuzmL"
      },
      "execution_count": 14,
      "outputs": []
    },
    {
      "cell_type": "code",
      "source": [
        "%%time\n",
        "model_name = \"sentence-transformers/paraphrase-multilingual-mpnet-base-v2\"\n",
        "model_kwargs = {'device': 'cpu'}\n",
        "encode_kwargs = {'normalize_embeddings': False}\n",
        "embedding = HuggingFaceEmbeddings(model_name=model_name,\n",
        "                                  model_kwargs=model_kwargs,\n",
        "                                  encode_kwargs=encode_kwargs)\n",
        "\n",
        "vector_store = FAISS.from_documents(splitted_data, embedding=embedding)"
      ],
      "metadata": {
        "colab": {
          "base_uri": "https://localhost:8080/",
          "height": 741,
          "referenced_widgets": [
            "2b732d2565b242ad91762eb053bf2ed3",
            "13b4d8e5b1874a4b90ef86030c340e89",
            "66abee47d2e44f1c9943228a9203407c",
            "145c448af40a49acab180c31f78ad813",
            "78f23c803c6e47d3a339a83186756b1c",
            "ed2cda2a2c534bd1a0fc9b910c45e017",
            "8cbecbaf30d5495da37dc3023158487a",
            "0cb11df5aca446baadf5296c23de7d63",
            "13a294030b904844a643b66188929b6c",
            "3d5d9ab3009b452294fdeee87705f2ea",
            "85356db2402947c69c3976057146a1e2",
            "0d31101130fb4a87822b1f969fdf4544",
            "1347e04b8ee547fc9b868e6d1dee7cb6",
            "327e24c44a6840ea845953d5e9d8a950",
            "ec4c7482b5e543b58d87698473a13f66",
            "85d85146165e42839794e2474c54a4cf",
            "f6030963e58d47b29c2158667b14d1bd",
            "97daebc7a63f42a985d2656a54b62d0c",
            "db1a0b9f6195451db683bfe3eaee0898",
            "9494f442586f4b6db48182804d0d533f",
            "d25d310e3c924ac28d2e9c6bd9544f40",
            "904905b2e30a4fc38e299404d402a18d",
            "618217ff1cc4492baf2ce448aedd8983",
            "92ef7f16332c4fa2892ba538751a4af5",
            "754fa619511b4d698448a92930a7a470",
            "cdde1efda0534a6ab7b3f2af1a23b656",
            "3e0b69fee0e4498390eb2659562c95c2",
            "bebe366e7576413eb9e6c7723cfbe334",
            "9f1f79aa7bf9481eb59f147e1fe35567",
            "f85039ec2844404d985a16047155cf4f",
            "6b9ff9c85cb14b65bfec73d764398bfd",
            "f64d5be294ad496d878050fa9962897c",
            "8ec726146ebc431190ff160b36a04032",
            "7fa09a68ff7f4c1083dfa2473ca4f832",
            "d1e2e7f850e54eada76dd2e4b0597571",
            "ffae53ec11044342890c4afe20dee297",
            "0abb4af67b8d4b9680cc6a56389a53f4",
            "7438fbce1b734a2a946a86f798844e77",
            "6140275440744f82b14a4bc41495c029",
            "04fc4ed975874c9fbfe6ad21d99b26a1",
            "ad47b400821b483d9b2386c690505afd",
            "61290c68e8ed499cab16654d8fb1cf74",
            "742b34b459924900a56859f04bfe9890",
            "87bd523921e74cfdaf2c7a71652bf402",
            "9245acff67d44bd08ce197b93e361316",
            "130571478a0e4437906ee767fca25255",
            "0e6e489c72d0469496466e4b156f6ed1",
            "4bd8de4060514e919ff6514bcb11777d",
            "ee737e82deaf4b35956888028cb432d9",
            "5f449efd9f564a2dbd852750c40b221b",
            "62a7296ad0a44d40845acaef884cc524",
            "07f7f199594d464f8516aef5f6ee5164",
            "20173c10be924cc497afc7b647e74295",
            "75abfd9e50ba4834b143ef1d71b76749",
            "327544b0b12a488fb4b14cc5a96a3a55",
            "c975e7130f0242d88f763531bc12bc50",
            "faeb88c87c5b43cf9c18f3a3e5b6ba0e",
            "4d0aa27e9e714557ab140b68464860bc",
            "dec1bdbde24a4b6897cf68326033aac5",
            "fdda0149ff2842078f0fa2d72e991493",
            "01d2eda649034339897aee2e9a92c576",
            "03bf1ed1aa434dd3ab37f2e6aa05d331",
            "f70dbb0856cc4d6c8cb01b5cb513df7d",
            "daf0fc5dabc844dd9867953359eb79f7",
            "f57f0f446c7448ddbc8bd4ac4210ed29",
            "a1aa9f4feb2d41e4a5debc6d952161b7",
            "8b8b22f27a55489fba95d5bec45c39f9",
            "906cadb474a64ecf9156819928198292",
            "e9d71b99ff704727b39555ddbffb66a9",
            "b9726edf268e44c2ad8e54e456e40855",
            "6da6655e59b9459d9ea7352e96f0fedb",
            "2438e6e3af6e47a78ec86ebbb9a10c75",
            "b66bf18ef6a147b4b4d4e3aec82aa6cf",
            "76cd62742d4a448e87814befc8d9601d",
            "4b110cbc69d948778ce5996f1c37c7d2",
            "6e7684ed4a61457e823c6adaca40e497",
            "46dfe682acfb4b1bb8031e2bba41ebfe",
            "16cbd33029064cab89f17815b11c945f",
            "1de9280676b54053ab1d26ea445b9d66",
            "703827d9696a4d51a7711d9de832f415",
            "789ff79448604c87915addeb582aba3b",
            "ca5f40d6fa6a4940b59d0493b8c3e622",
            "dc2c2adaa44e4e35be8ad7210adbca46",
            "042daf150c6b4a1c817ad6a04eb2b05c",
            "92aae077d6ab4ee4839e3f9a6f17dc71",
            "dbe57b5f072440008d6fbb11fa5ac1a2",
            "bc1c645c01064af190303640cc86cd19",
            "6cfb9661581a46f4aad0764d07882786",
            "a898ae0b86574a6394d012705e0eb613",
            "bf6e5575a066401bb03a9356bc81cc50",
            "6693ac28764f43829f8862c0042b6aac",
            "385da9608ac246fe9135b0f1675ba957",
            "bc626bc6444f4e3e8bcd68b3324e7951",
            "98e8507589f44cf4a2295c30ebd10468",
            "cd4a35e1a9254f1e90b927fd5d31023c",
            "19dcbddd50e342a8baa442af8571b2c4",
            "e8e3a699fa7a494688506dc79cd5aeff",
            "1490d4a9fad246e697d1217ebd081405",
            "8dcfe5f69cc24d3597bbe7fb37c9266a",
            "0c19c318565e488886d77c87db802cf8",
            "daedb1b2c0db4570b6e91bd207f92664",
            "995bb56c1f134ac6a064ec701e51a449",
            "410181d988fc480cbc274b3c79f7ac74",
            "d2d17a1002854fde9d8cecc5f353f6d9",
            "6adeb65a653e4fb68eda1d50dcbfc29a",
            "4b5fbd286f814c049f1d49c4fae60cf6",
            "d9049adedfa14bb58f13a1403ae2cb35",
            "4620bf678f2f408ea62d340e00457653",
            "17d3d1f446cd4c0d934fe4af3dedb09c",
            "160b10f9767940d88b86cd3d374c179f",
            "c79907de1d8d43c7aee704c6c198943d",
            "7000a85c99304f89a0822b37606bf904",
            "47ca9642f1c2428abf849beeb8fa2f81",
            "69d38a6f4a2c44e4904ab11871b14e66",
            "a9edd67bacac4ac49f2fd8137015605b",
            "c18886d2262e49ab9b05b6ef198445de",
            "606488be7a83420f84778ba2eeeb1222",
            "1901fa5684a04f2780ceb7e83abc84f7",
            "d40adbf5ad4246a898bbbbfacf8d96bb",
            "b3e85a13a4e64defb11cde3ff8a35b6e",
            "a6ec3efbac944fa690e1ec52a6b82b98"
          ]
        },
        "id": "_u5i0rQXu3YS",
        "outputId": "1b26bfe4-5e7c-4417-d2d2-72f92f07133e"
      },
      "execution_count": 15,
      "outputs": [
        {
          "output_type": "stream",
          "name": "stderr",
          "text": [
            "<timed exec>:4: LangChainDeprecationWarning: The class `HuggingFaceEmbeddings` was deprecated in LangChain 0.2.2 and will be removed in 1.0. An updated version of the class exists in the langchain-huggingface package and should be used instead. To use it run `pip install -U langchain-huggingface` and import as `from langchain_huggingface import HuggingFaceEmbeddings`.\n",
            "/usr/local/lib/python3.11/dist-packages/huggingface_hub/utils/_auth.py:94: UserWarning: \n",
            "The secret `HF_TOKEN` does not exist in your Colab secrets.\n",
            "To authenticate with the Hugging Face Hub, create a token in your settings tab (https://huggingface.co/settings/tokens), set it as secret in your Google Colab and restart your session.\n",
            "You will be able to reuse this secret in all of your notebooks.\n",
            "Please note that authentication is recommended but still optional to access public models or datasets.\n",
            "  warnings.warn(\n"
          ]
        },
        {
          "output_type": "display_data",
          "data": {
            "text/plain": [
              "modules.json:   0%|          | 0.00/229 [00:00<?, ?B/s]"
            ],
            "application/vnd.jupyter.widget-view+json": {
              "version_major": 2,
              "version_minor": 0,
              "model_id": "2b732d2565b242ad91762eb053bf2ed3"
            }
          },
          "metadata": {}
        },
        {
          "output_type": "display_data",
          "data": {
            "text/plain": [
              "config_sentence_transformers.json:   0%|          | 0.00/122 [00:00<?, ?B/s]"
            ],
            "application/vnd.jupyter.widget-view+json": {
              "version_major": 2,
              "version_minor": 0,
              "model_id": "0d31101130fb4a87822b1f969fdf4544"
            }
          },
          "metadata": {}
        },
        {
          "output_type": "display_data",
          "data": {
            "text/plain": [
              "README.md:   0%|          | 0.00/4.13k [00:00<?, ?B/s]"
            ],
            "application/vnd.jupyter.widget-view+json": {
              "version_major": 2,
              "version_minor": 0,
              "model_id": "618217ff1cc4492baf2ce448aedd8983"
            }
          },
          "metadata": {}
        },
        {
          "output_type": "display_data",
          "data": {
            "text/plain": [
              "sentence_bert_config.json:   0%|          | 0.00/53.0 [00:00<?, ?B/s]"
            ],
            "application/vnd.jupyter.widget-view+json": {
              "version_major": 2,
              "version_minor": 0,
              "model_id": "7fa09a68ff7f4c1083dfa2473ca4f832"
            }
          },
          "metadata": {}
        },
        {
          "output_type": "display_data",
          "data": {
            "text/plain": [
              "config.json:   0%|          | 0.00/723 [00:00<?, ?B/s]"
            ],
            "application/vnd.jupyter.widget-view+json": {
              "version_major": 2,
              "version_minor": 0,
              "model_id": "9245acff67d44bd08ce197b93e361316"
            }
          },
          "metadata": {}
        },
        {
          "output_type": "display_data",
          "data": {
            "text/plain": [
              "model.safetensors:   0%|          | 0.00/1.11G [00:00<?, ?B/s]"
            ],
            "application/vnd.jupyter.widget-view+json": {
              "version_major": 2,
              "version_minor": 0,
              "model_id": "c975e7130f0242d88f763531bc12bc50"
            }
          },
          "metadata": {}
        },
        {
          "output_type": "display_data",
          "data": {
            "text/plain": [
              "tokenizer_config.json:   0%|          | 0.00/402 [00:00<?, ?B/s]"
            ],
            "application/vnd.jupyter.widget-view+json": {
              "version_major": 2,
              "version_minor": 0,
              "model_id": "8b8b22f27a55489fba95d5bec45c39f9"
            }
          },
          "metadata": {}
        },
        {
          "output_type": "display_data",
          "data": {
            "text/plain": [
              "sentencepiece.bpe.model:   0%|          | 0.00/5.07M [00:00<?, ?B/s]"
            ],
            "application/vnd.jupyter.widget-view+json": {
              "version_major": 2,
              "version_minor": 0,
              "model_id": "16cbd33029064cab89f17815b11c945f"
            }
          },
          "metadata": {}
        },
        {
          "output_type": "display_data",
          "data": {
            "text/plain": [
              "tokenizer.json:   0%|          | 0.00/9.08M [00:00<?, ?B/s]"
            ],
            "application/vnd.jupyter.widget-view+json": {
              "version_major": 2,
              "version_minor": 0,
              "model_id": "a898ae0b86574a6394d012705e0eb613"
            }
          },
          "metadata": {}
        },
        {
          "output_type": "display_data",
          "data": {
            "text/plain": [
              "special_tokens_map.json:   0%|          | 0.00/239 [00:00<?, ?B/s]"
            ],
            "application/vnd.jupyter.widget-view+json": {
              "version_major": 2,
              "version_minor": 0,
              "model_id": "0c19c318565e488886d77c87db802cf8"
            }
          },
          "metadata": {}
        },
        {
          "output_type": "display_data",
          "data": {
            "text/plain": [
              "1_Pooling/config.json:   0%|          | 0.00/190 [00:00<?, ?B/s]"
            ],
            "application/vnd.jupyter.widget-view+json": {
              "version_major": 2,
              "version_minor": 0,
              "model_id": "c79907de1d8d43c7aee704c6c198943d"
            }
          },
          "metadata": {}
        },
        {
          "output_type": "stream",
          "name": "stdout",
          "text": [
            "CPU times: user 23.5 s, sys: 6.41 s, total: 29.9 s\n",
            "Wall time: 43.9 s\n"
          ]
        }
      ]
    },
    {
      "cell_type": "code",
      "source": [
        "q1 = 'Насколько родители готовы порекомендовать нас своим друзьям и знакомым?'\n",
        "q2 = 'Какие метрики использовались для оценки эффективности использования генеративных предобученных языковых моделей в статье?'\n",
        "q3 = 'Имя какого английского писателя упоминается в статье?'"
      ],
      "metadata": {
        "id": "vODpAecfvmzG"
      },
      "execution_count": 16,
      "outputs": []
    },
    {
      "cell_type": "code",
      "source": [
        "vector_store.similarity_search(q1)"
      ],
      "metadata": {
        "colab": {
          "base_uri": "https://localhost:8080/"
        },
        "id": "Xu515qFevrB6",
        "outputId": "f7b17b98-6cb5-412f-b296-95999ab6d28b"
      },
      "execution_count": 17,
      "outputs": [
        {
          "output_type": "execute_result",
          "data": {
            "text/plain": [
              "[Document(metadata={'source': '/content/Шаблон_дз_по_курсу_Юнит_экономика_Беканова_Марианна.pdf', 'page': 0}, page_content='Открытие частного детского сада с фокусом на высоком уровне образования и заботы.\\nИнтегрированная образовательная программа, развивающая интеллектуальные и социальные навыки детей.Гибкий график и индивидуальный подход к каждому ребенку. В случае необходимости индивидуальные занятия с логопедом, дефектологом, психологом, нейропсихологом и ABA-терапевтом.\\nЛожная реклама: Конкурент может предоставлять ложные или вводящие в заблуждение сведения о своих услугах, чтобы привлечь родителей. Ценовой демпинг: Конкурент может временно снизить цены до нерентабельного уровня с целью временно привлечь больше клиентов и вытеснить других участников рынка.'),\n",
              " Document(metadata={'source': '/content/Шаблон_дз_по_курсу_Юнит_экономика_Беканова_Марианна.pdf', 'page': 0}, page_content='обучение.Семьи, предпочитающие обучение в рамках определенной культурной или религиозной обстановки.Семейный статус:Родители-одиночки.Семьи с несколькими детьми.Существующие альтернативыКлючевые метрикиВысокоуровневый концептКаналы выхода на клиентовРанние последователиЧастные сады города, с похожим профилем оказываемых услуг.Местные школы и образовательные организации.Специалисты по развитию детей.'),\n",
              " Document(metadata={'source': '/content/Шаблон_дз_по_курсу_Юнит_экономика_Беканова_Марианна.pdf', 'page': 0}, page_content='Заполненность мест в течение первого года.Уровень удовлетворенности родителей.Развитие детей согласно образовательным стандартам.\\nИнтегрированная образовательная программа, способствующая развитию интеллектуальных и социальных навыков детей.Гибкий график и индивидуальный подход к каждому ребенку, учитывающий их уникальные потребности и темпы обучения.\\nОнлайн-продвижение через социальные сети и веб-сайт.Участие в локальных мероприятиях и ярмарках.\\nНянечки, на дому принимавшие детей.Аделаида Семеновна Симонович - одна из первых основателей детских садов в России в конце 19 века.\\nСтруктура расходов Потоки выручкиЗаработная плата персонала.Образовательные материалы и игрушки.Расходы на организацию питания.Реклама и маркетинг.Аренда помещения и оборудование + коммунальные услуги + ремонт.Расходы на безопасность.Уборка и обслуживание.\\nЕжемесячные платежи от родителей за услуги.Разовые регистрационные взносы.Дополнительные платные услуги (подготовка к школе, дополнительные занятия).'),\n",
              " Document(metadata={'source': '/content/Шаблон_дз_по_курсу_Юнит_экономика_Беканова_Марианна.pdf', 'page': 1}, page_content='Высокий коэффициент удержания клиентов указывает на удовлетворенность родителей и качество услуг.\\nCustomer С Число клиентов, которые пользуются услугами детского сада по уходу и обучению для своих детей.Необходимо для понимания эффективности выбранных маркетиновых стратегий.\\nChurn rate CR\\nКоэффициент оттока, для частного детского сада измеряет процент клиентов (в данном случае, семей с детьми), которые прекратили пользоваться услугами детского сада за определенный период времени\\nChurn rate для частного детского сада важен, поскольку позволяет оценить, насколько успешно удается удерживать клиентов и поддерживать стабильность клиентской базы. Высокий churn rate может указывать на проблемы, такие как неудовлетворенность клиентов, изменение обстоятельств семей или конкуренцию со стороны других детских садов.')]"
            ]
          },
          "metadata": {},
          "execution_count": 17
        }
      ]
    },
    {
      "cell_type": "code",
      "source": [
        "vector_store.similarity_search(q2)"
      ],
      "metadata": {
        "id": "MiT7Lv4jvrkU"
      },
      "execution_count": null,
      "outputs": []
    },
    {
      "cell_type": "code",
      "source": [
        "vector_store.similarity_search(q3)"
      ],
      "metadata": {
        "id": "gl4o4QjRvuDY"
      },
      "execution_count": null,
      "outputs": []
    },
    {
      "cell_type": "markdown",
      "source": [
        "\n",
        "Создание фрагментов на основе DOCX\n",
        "\n"
      ],
      "metadata": {
        "id": "WLUmzcpgwrrW"
      }
    },
    {
      "cell_type": "code",
      "source": [
        "from langchain_community.document_loaders import PyWordDocumentLoader\n",
        "loader = PyWordDocumentLoader('aspekty-sozdaniya-korporativnoy-voprosno-otvetnoy-sistemy-s-ispolzovaniem-generativnyh-predobuchennyh-yazykovyh-modeley.docx')\n",
        "splitted_docx = loader.load_and_split(text_splitter)"
      ],
      "metadata": {
        "colab": {
          "base_uri": "https://localhost:8080/",
          "height": 402
        },
        "id": "n9f2qW5Dwyi3",
        "outputId": "c745be66-4cd4-4c24-99aa-16e42e1f0e29"
      },
      "execution_count": 19,
      "outputs": [
        {
          "output_type": "error",
          "ename": "ImportError",
          "evalue": "cannot import name 'PyWordDocumentLoader' from 'langchain_community.document_loaders' (/usr/local/lib/python3.11/dist-packages/langchain_community/document_loaders/__init__.py)",
          "traceback": [
            "\u001b[0;31m---------------------------------------------------------------------------\u001b[0m",
            "\u001b[0;31mImportError\u001b[0m                               Traceback (most recent call last)",
            "\u001b[0;32m<ipython-input-19-953e21270fa3>\u001b[0m in \u001b[0;36m<cell line: 0>\u001b[0;34m()\u001b[0m\n\u001b[0;32m----> 1\u001b[0;31m \u001b[0;32mfrom\u001b[0m \u001b[0mlangchain_community\u001b[0m\u001b[0;34m.\u001b[0m\u001b[0mdocument_loaders\u001b[0m \u001b[0;32mimport\u001b[0m \u001b[0mPyWordDocumentLoader\u001b[0m\u001b[0;34m\u001b[0m\u001b[0;34m\u001b[0m\u001b[0m\n\u001b[0m\u001b[1;32m      2\u001b[0m \u001b[0mloader\u001b[0m \u001b[0;34m=\u001b[0m \u001b[0mPyWordDocumentLoader\u001b[0m\u001b[0;34m(\u001b[0m\u001b[0;34m'aspekty-sozdaniya-korporativnoy-voprosno-otvetnoy-sistemy-s-ispolzovaniem-generativnyh-predobuchennyh-yazykovyh-modeley.docx'\u001b[0m\u001b[0;34m)\u001b[0m\u001b[0;34m\u001b[0m\u001b[0;34m\u001b[0m\u001b[0m\n\u001b[1;32m      3\u001b[0m \u001b[0msplitted_docx\u001b[0m \u001b[0;34m=\u001b[0m \u001b[0mloader\u001b[0m\u001b[0;34m.\u001b[0m\u001b[0mload_and_split\u001b[0m\u001b[0;34m(\u001b[0m\u001b[0mtext_splitter\u001b[0m\u001b[0;34m)\u001b[0m\u001b[0;34m\u001b[0m\u001b[0;34m\u001b[0m\u001b[0m\n",
            "\u001b[0;31mImportError\u001b[0m: cannot import name 'PyWordDocumentLoader' from 'langchain_community.document_loaders' (/usr/local/lib/python3.11/dist-packages/langchain_community/document_loaders/__init__.py)",
            "",
            "\u001b[0;31m---------------------------------------------------------------------------\u001b[0;32m\nNOTE: If your import is failing due to a missing package, you can\nmanually install dependencies using either !pip or !apt.\n\nTo view examples of installing some common dependencies, click the\n\"Open Examples\" button below.\n\u001b[0;31m---------------------------------------------------------------------------\u001b[0m\n"
          ],
          "errorDetails": {
            "actions": [
              {
                "action": "open_url",
                "actionText": "Open Examples",
                "url": "/notebooks/snippets/importing_libraries.ipynb"
              }
            ]
          }
        }
      ]
    },
    {
      "cell_type": "code",
      "source": [
        "len(splitted_docx)"
      ],
      "metadata": {
        "id": "MGMp3xU8xGbR"
      },
      "execution_count": null,
      "outputs": []
    },
    {
      "cell_type": "code",
      "source": [
        "splitted_data[10]"
      ],
      "metadata": {
        "id": "jT5cpw6zxJCA"
      },
      "execution_count": null,
      "outputs": []
    },
    {
      "cell_type": "code",
      "source": [
        "splitted_docx[10]"
      ],
      "metadata": {
        "id": "7B9lC9cjxMgH"
      },
      "execution_count": null,
      "outputs": []
    },
    {
      "cell_type": "code",
      "source": [
        "docs = embedding.embed_documents([splitted_data[10].page_content, splitted_docx[12].page_content])"
      ],
      "metadata": {
        "id": "QzvlIXfsxPjK"
      },
      "execution_count": null,
      "outputs": []
    },
    {
      "cell_type": "code",
      "source": [
        "docs"
      ],
      "metadata": {
        "id": "bdaZimv_xRxf"
      },
      "execution_count": null,
      "outputs": []
    },
    {
      "cell_type": "code",
      "source": [
        "import numpy as np\n",
        "cosine_similarity = np.dot(docs[0], docs[1]) / (np.linalg.norm(docs[0]) * np.linalg.norm(docs[1]))\n",
        "\n",
        "print(f\"Косинусное сходство: {cosine_similarity}\")"
      ],
      "metadata": {
        "id": "JEdc9ftSxUhw"
      },
      "execution_count": null,
      "outputs": []
    },
    {
      "cell_type": "markdown",
      "source": [
        "Создание векторных представлений и векторного хранилища"
      ],
      "metadata": {
        "id": "zBoP8MXoxdCj"
      }
    },
    {
      "cell_type": "code",
      "source": [
        "vector_store_docx = FAISS.from_documents(splitted_docx, embedding=embedding)"
      ],
      "metadata": {
        "id": "RVKFz6gexfhS"
      },
      "execution_count": null,
      "outputs": []
    },
    {
      "cell_type": "code",
      "source": [
        "vector_store_docx.similarity_search(q1)"
      ],
      "metadata": {
        "id": "a6w6Wnt2xh4-"
      },
      "execution_count": null,
      "outputs": []
    },
    {
      "cell_type": "markdown",
      "source": [
        "Табличные данные"
      ],
      "metadata": {
        "id": "xEeKZvhkxoQl"
      }
    },
    {
      "cell_type": "markdown",
      "source": [
        "Теперь рассмотрим стандартные форматы табличных файлов: CSV и XLSX.\n",
        "\n",
        "Для этого используем загрузчики CSVLoader и UnstructuredExcelLoader.\n",
        "\n",
        "В качестве табличного файла используем документ \"Динамика уровня и структуры затрат организаций на рабочую силу\" с сайта Росстата.\n",
        "\n",
        "Файл представляет собой несколько таблиц в основном с количественными данными. Поскольку файл изначально в формате XLSX, сделаем из него и документы в формате CSV. Так как в XLSX-файле несколько листов, придется создать отдельный CSV-файл под каждый лист"
      ],
      "metadata": {
        "id": "x8mQZPSrxswA"
      }
    },
    {
      "cell_type": "code",
      "source": [
        "import pandas as pd\n",
        "\n",
        "# Загрузите Excel файл\n",
        "file_path = '/content/din-zatrat-rs.xlsx'\n",
        "\n",
        "# Читаем все листы из Excel файла\n",
        "sheets = pd.read_excel(file_path, sheet_name=None)\n",
        "\n",
        "# Сохраняем каждый лист как отдельный CSV файл\n",
        "for sheet_name, df in sheets.items():\n",
        "    csv_file = f\"{sheet_name}.csv\"\n",
        "    df.to_csv(csv_file, index=False)\n",
        "    print(f\"Сохранено: {csv_file}\")"
      ],
      "metadata": {
        "colab": {
          "base_uri": "https://localhost:8080/"
        },
        "id": "917aDeW1xoyj",
        "outputId": "d64ab468-ab6e-413b-b1ac-3d208d065391"
      },
      "execution_count": 20,
      "outputs": [
        {
          "output_type": "stream",
          "name": "stdout",
          "text": [
            "Сохранено: Содержание.csv\n",
            "Сохранено: 1..csv\n",
            "Сохранено: 2..csv\n",
            "Сохранено: 3..csv\n",
            "Сохранено: 4..csv\n",
            "Сохранено: 5..csv\n",
            "Сохранено: 6..csv\n",
            "Сохранено: Основные понятия и определения.csv\n"
          ]
        }
      ]
    },
    {
      "cell_type": "code",
      "source": [
        "from langchain_community.document_loaders.csv_loader import CSVLoader\n",
        "from glob import glob\n",
        "files = glob('*.csv')\n",
        "\n",
        "splitted_csv = []\n",
        "for f in files:\n",
        "  loader = CSVLoader(f)\n",
        "  splitted_csv.extend(loader.load())"
      ],
      "metadata": {
        "id": "yCvYsjDbyBOP"
      },
      "execution_count": 21,
      "outputs": []
    },
    {
      "cell_type": "code",
      "source": [
        "len(splitted_csv)"
      ],
      "metadata": {
        "colab": {
          "base_uri": "https://localhost:8080/"
        },
        "id": "0sY5s3kHyHHw",
        "outputId": "190c8512-4b5f-4c54-d074-c4a444a9ecbc"
      },
      "execution_count": 22,
      "outputs": [
        {
          "output_type": "execute_result",
          "data": {
            "text/plain": [
              "140"
            ]
          },
          "metadata": {},
          "execution_count": 22
        }
      ]
    },
    {
      "cell_type": "code",
      "source": [
        "splitted_csv[139]"
      ],
      "metadata": {
        "colab": {
          "base_uri": "https://localhost:8080/"
        },
        "id": "q7Y7r8awyKFt",
        "outputId": "9b60c4c7-5153-4c66-c371-c3ebb784468b"
      },
      "execution_count": 23,
      "outputs": [
        {
          "output_type": "execute_result",
          "data": {
            "text/plain": [
              "Document(metadata={'source': '5..csv', 'row': 25}, page_content='К содержанию: Оплата питания и проживания, всего\\nUnnamed: 1: 0.5\\nUnnamed: 2: 0.5\\nUnnamed: 3: 0.2\\nUnnamed: 4: 0.2\\nUnnamed: 5: 0.6\\nUnnamed: 6: 0.5')"
            ]
          },
          "metadata": {},
          "execution_count": 23
        }
      ]
    },
    {
      "cell_type": "markdown",
      "source": [
        "Создание векторных представлений и векторного хранилища"
      ],
      "metadata": {
        "id": "Hq_FeqkMyMxx"
      }
    },
    {
      "cell_type": "code",
      "source": [
        "vector_store_csv = FAISS.from_documents(splitted_csv, embedding=embedding)"
      ],
      "metadata": {
        "id": "mIdZ5CS1yNOO"
      },
      "execution_count": 24,
      "outputs": []
    },
    {
      "cell_type": "code",
      "source": [
        "q4 = 'Какой процент расходов на социальную защиту работников в добыче полезных ископаемых был зафиксирован в 2021 году?'\n",
        "q5 = 'Какой процент от общих затрат на рабочую силу составляла заработная плата в 2005 году по всем обследованным видам экономической деятельности?'\n",
        "q6 = 'В каком году был зафиксирован наибольший процент заработной платы в обрабатывающей промышленности и чему он равен?'"
      ],
      "metadata": {
        "id": "bI5oTshtyPyA"
      },
      "execution_count": 25,
      "outputs": []
    },
    {
      "cell_type": "code",
      "source": [
        "vector_store_csv.similarity_search(q4)"
      ],
      "metadata": {
        "colab": {
          "base_uri": "https://localhost:8080/"
        },
        "id": "Jo_cb53IyVfv",
        "outputId": "d0bcb362-f1f2-4a55-884c-31f1a2876f60"
      },
      "execution_count": 26,
      "outputs": [
        {
          "output_type": "execute_result",
          "data": {
            "text/plain": [
              "[Document(metadata={'source': 'Основные понятия и определения.csv', 'row': 2}, page_content='К содержанию: Затраты организаций на рабочую силу - это сумма вознаграждений работников (среднесписочной численности) в денежной и неденежной формах за отработанное и неотработанное время, расходы организации, связанные с обеспечением работников жильем, профессиональным обучением, культурно-бытовым обслуживанием, социальной защитой, включая расходы на пенсионное, медицинское и другие виды страхования, командировочные расходы, а также налоги и сборы, связанные с использованием наемной рабочей силы. В составе затрат на рабочую силу можно выделить две группы затрат: прямые и косвенные.\\nПрямые затраты включают расходы, направленные организациями непосредственно на удовлетворение потребностей работников: заработная плата, расходы на жилье, выплаты социального характера, расходы на профессиональное обучение и культурно-бытовое обслуживание, оплата проезда и другие расходы, не отнесенные к приведенным классификационным группам.\\nК косвенным затратам относятся средства, которые отчислялись в виде страховых взносов на обязательное пенсионное страхование, обязательное медицинское страхование, обязательное социальное страхование на случай временной нетрудоспособности и в связи с материнством, обязательное социальное страхование от несчастных случаев на производстве и профессиональных заболеваний.\\nСреднемесячные затраты организаций на рабочую силу - сумма затрат организаций на рабочую силу, рассчитанная на одного работника в месяц.\\nВ среднесписочную численность работников включаются работники, работавшие по трудовому договору и выполнявшие постоянную, временную, сезонную работу, как фактически работавшие, так и отсутствовавшие на работе по каким-либо причинам (находившиеся в служебных командировках, не явившиеся на работу по болезни, находившиеся в ежегодных и дополнительных отпусках и др.), а также выполнявшие работу на дому и работавшие собственники организации, получавшие заработную плату в данной организации. Работник, получивший в одной организации две или полторы ставки, учитывается как один человек. \\nРаботники, принятые на работу на неполное рабочее время, учитываются пропорционально отработанному времени.\\nЛица, принятые на работу по совместительству из других организаций, и лица, выполнявшие работу по договорам гражданско-правового характера, не включаются в среднесписочную численность работников.\\nСведения о затратах на рабочую силу собираются от организаций-юридических лиц (кроме микропредприятий) и их обособленных подразделений (на выборочной основе с распространением данных на генеральную совокупность организаций) следующих видов экономической деятельности: добыча полезных ископаемых; обрабатывающие производства; обеспечение электрической энергией, газом и паром; кондиционирование воздуха; водоснабжение; водоотведение, организация сбора и утилизации отходов, деятельность по ликвидации загрязнений; строительство; торговля оптовая и розничная; ремонт автотранспортных средств и мотоциклов; транспортировка и хранение; деятельность гостиниц и предприятий общественного питания; деятельность в области информации и связи; деятельность финансовая и страховая; деятельность по операциям с недвижимым имуществом; деятельность профессиональная, научная и техническая; деятельность административная и сопутствующие дополнительные услуги.'),\n",
              " Document(metadata={'source': '3..csv', 'row': 16}, page_content='К содержанию: 1) Затраты приведены в сопоставимой структуре без налогов и сборов, связанных с использованием рабочей силы.\\nРазработка официальной статистической информации о составе затрат организаций на рабочую силу по видам экономической деятельности с 2017 года проводится с использованием Общероссийского классификатора видов экономической деятельности ОК 029-2014 (КДЕС Ред. 2).\\nUnnamed: 1: \\nUnnamed: 2: \\nUnnamed: 3: \\nUnnamed: 4: \\nUnnamed: 5: \\nUnnamed: 6: \\nUnnamed: 7: \\nUnnamed: 8: \\nUnnamed: 9: \\nUnnamed: 10: \\nUnnamed: 11: \\nUnnamed: 12: \\nUnnamed: 13: \\nUnnamed: 14: \\nUnnamed: 15: \\nUnnamed: 16: \\nUnnamed: 17: \\nUnnamed: 18: \\nUnnamed: 19: \\nUnnamed: 20: \\nUnnamed: 21: \\nUnnamed: 22: \\nUnnamed: 23: \\nUnnamed: 24: \\nUnnamed: 25: \\nUnnamed: 26: \\nUnnamed: 27: \\nUnnamed: 28: '),\n",
              " Document(metadata={'source': '2..csv', 'row': 16}, page_content='К содержанию: 1) Затраты приведены в сопоставимой структуре без налогов и сборов, связанных с использованием рабочей силы. \\nРазработка официальной статистической информации о составе затрат организаций на рабочую силу по видам экономической деятельности за 2005, 2007, 2009, 2013 гг. проводилась  с использованием Общероссийского классификатора видов экономической деятельности ОК 029-2007 (КДЕС Ред. 1.1).\\nUnnamed: 1: \\nUnnamed: 2: \\nUnnamed: 3: \\nUnnamed: 4: \\nUnnamed: 5: \\nUnnamed: 6: \\nUnnamed: 7: \\nUnnamed: 8: \\nUnnamed: 9: \\nUnnamed: 10: \\nUnnamed: 11: \\nUnnamed: 12: \\nUnnamed: 13: \\nUnnamed: 14: \\nUnnamed: 15: \\nUnnamed: 16: \\nUnnamed: 17: \\nUnnamed: 18: \\nUnnamed: 19: \\nUnnamed: 20: \\nUnnamed: 21: \\nUnnamed: 22: \\nUnnamed: 23: \\nUnnamed: 24: \\nUnnamed: 25: \\nUnnamed: 26: \\nUnnamed: 27: \\nUnnamed: 28: \\nUnnamed: 29: \\nUnnamed: 30: \\nUnnamed: 31: \\nUnnamed: 32: \\nUnnamed: 33: \\nUnnamed: 34: \\nUnnamed: 35: \\nUnnamed: 36: \\nUnnamed: 37: \\nUnnamed: 38: \\nUnnamed: 39: \\nUnnamed: 40: \\nUnnamed: 41: \\nUnnamed: 42: \\nUnnamed: 43: \\nUnnamed: 44: \\nUnnamed: 45: \\nUnnamed: 46: \\nUnnamed: 47: \\nUnnamed: 48: \\nUnnamed: 49: \\nUnnamed: 50: \\nUnnamed: 51: \\nUnnamed: 52: \\nUnnamed: 53: \\nUnnamed: 54: \\nUnnamed: 55: \\nUnnamed: 56: \\nUnnamed: 57: \\nUnnamed: 58: \\nUnnamed: 59: \\nUnnamed: 60: \\nUnnamed: 61: \\nUnnamed: 62: \\nUnnamed: 63: \\nUnnamed: 64: \\nUnnamed: 65: \\nUnnamed: 66: \\nUnnamed: 67: \\nUnnamed: 68: \\nUnnamed: 69: \\nUnnamed: 70: \\nUnnamed: 71: \\nUnnamed: 72: \\nUnnamed: 73: \\nUnnamed: 74: \\nUnnamed: 75: \\nUnnamed: 76: \\nUnnamed: 77: \\nUnnamed: 78: \\nUnnamed: 79: \\nUnnamed: 80: \\nUnnamed: 81: \\nUnnamed: 82: \\nUnnamed: 83: \\nUnnamed: 84: \\nUnnamed: 85: \\nUnnamed: 86: \\nUnnamed: 87: \\nUnnamed: 88: \\nUnnamed: 89: \\nUnnamed: 90: \\nUnnamed: 91: \\nUnnamed: 92: \\nUnnamed: 93: \\nUnnamed: 94: \\nUnnamed: 95: \\nUnnamed: 96: \\nUnnamed: 97: \\nUnnamed: 98: \\nUnnamed: 99: \\nUnnamed: 100: '),\n",
              " Document(metadata={'source': 'Содержание.csv', 'row': 8}, page_content='Содержание:: 6.\\nUnnamed: 1: Структура среднемесячных затрат на рабочую силу в зависимости от размеров организаций по Российской Федерации за 2017 и 2021 гг.')]"
            ]
          },
          "metadata": {},
          "execution_count": 26
        }
      ]
    },
    {
      "cell_type": "code",
      "source": [
        "vector_store_csv.similarity_search(q5)"
      ],
      "metadata": {
        "colab": {
          "base_uri": "https://localhost:8080/"
        },
        "id": "IFUjujz6yXvx",
        "outputId": "a3e1f6e3-7ef0-45b4-f368-d4995d84e3cd"
      },
      "execution_count": 27,
      "outputs": [
        {
          "output_type": "execute_result",
          "data": {
            "text/plain": [
              "[Document(metadata={'source': 'Основные понятия и определения.csv', 'row': 2}, page_content='К содержанию: Затраты организаций на рабочую силу - это сумма вознаграждений работников (среднесписочной численности) в денежной и неденежной формах за отработанное и неотработанное время, расходы организации, связанные с обеспечением работников жильем, профессиональным обучением, культурно-бытовым обслуживанием, социальной защитой, включая расходы на пенсионное, медицинское и другие виды страхования, командировочные расходы, а также налоги и сборы, связанные с использованием наемной рабочей силы. В составе затрат на рабочую силу можно выделить две группы затрат: прямые и косвенные.\\nПрямые затраты включают расходы, направленные организациями непосредственно на удовлетворение потребностей работников: заработная плата, расходы на жилье, выплаты социального характера, расходы на профессиональное обучение и культурно-бытовое обслуживание, оплата проезда и другие расходы, не отнесенные к приведенным классификационным группам.\\nК косвенным затратам относятся средства, которые отчислялись в виде страховых взносов на обязательное пенсионное страхование, обязательное медицинское страхование, обязательное социальное страхование на случай временной нетрудоспособности и в связи с материнством, обязательное социальное страхование от несчастных случаев на производстве и профессиональных заболеваний.\\nСреднемесячные затраты организаций на рабочую силу - сумма затрат организаций на рабочую силу, рассчитанная на одного работника в месяц.\\nВ среднесписочную численность работников включаются работники, работавшие по трудовому договору и выполнявшие постоянную, временную, сезонную работу, как фактически работавшие, так и отсутствовавшие на работе по каким-либо причинам (находившиеся в служебных командировках, не явившиеся на работу по болезни, находившиеся в ежегодных и дополнительных отпусках и др.), а также выполнявшие работу на дому и работавшие собственники организации, получавшие заработную плату в данной организации. Работник, получивший в одной организации две или полторы ставки, учитывается как один человек. \\nРаботники, принятые на работу на неполное рабочее время, учитываются пропорционально отработанному времени.\\nЛица, принятые на работу по совместительству из других организаций, и лица, выполнявшие работу по договорам гражданско-правового характера, не включаются в среднесписочную численность работников.\\nСведения о затратах на рабочую силу собираются от организаций-юридических лиц (кроме микропредприятий) и их обособленных подразделений (на выборочной основе с распространением данных на генеральную совокупность организаций) следующих видов экономической деятельности: добыча полезных ископаемых; обрабатывающие производства; обеспечение электрической энергией, газом и паром; кондиционирование воздуха; водоснабжение; водоотведение, организация сбора и утилизации отходов, деятельность по ликвидации загрязнений; строительство; торговля оптовая и розничная; ремонт автотранспортных средств и мотоциклов; транспортировка и хранение; деятельность гостиниц и предприятий общественного питания; деятельность в области информации и связи; деятельность финансовая и страховая; деятельность по операциям с недвижимым имуществом; деятельность профессиональная, научная и техническая; деятельность административная и сопутствующие дополнительные услуги.'),\n",
              " Document(metadata={'source': '2..csv', 'row': 16}, page_content='К содержанию: 1) Затраты приведены в сопоставимой структуре без налогов и сборов, связанных с использованием рабочей силы. \\nРазработка официальной статистической информации о составе затрат организаций на рабочую силу по видам экономической деятельности за 2005, 2007, 2009, 2013 гг. проводилась  с использованием Общероссийского классификатора видов экономической деятельности ОК 029-2007 (КДЕС Ред. 1.1).\\nUnnamed: 1: \\nUnnamed: 2: \\nUnnamed: 3: \\nUnnamed: 4: \\nUnnamed: 5: \\nUnnamed: 6: \\nUnnamed: 7: \\nUnnamed: 8: \\nUnnamed: 9: \\nUnnamed: 10: \\nUnnamed: 11: \\nUnnamed: 12: \\nUnnamed: 13: \\nUnnamed: 14: \\nUnnamed: 15: \\nUnnamed: 16: \\nUnnamed: 17: \\nUnnamed: 18: \\nUnnamed: 19: \\nUnnamed: 20: \\nUnnamed: 21: \\nUnnamed: 22: \\nUnnamed: 23: \\nUnnamed: 24: \\nUnnamed: 25: \\nUnnamed: 26: \\nUnnamed: 27: \\nUnnamed: 28: \\nUnnamed: 29: \\nUnnamed: 30: \\nUnnamed: 31: \\nUnnamed: 32: \\nUnnamed: 33: \\nUnnamed: 34: \\nUnnamed: 35: \\nUnnamed: 36: \\nUnnamed: 37: \\nUnnamed: 38: \\nUnnamed: 39: \\nUnnamed: 40: \\nUnnamed: 41: \\nUnnamed: 42: \\nUnnamed: 43: \\nUnnamed: 44: \\nUnnamed: 45: \\nUnnamed: 46: \\nUnnamed: 47: \\nUnnamed: 48: \\nUnnamed: 49: \\nUnnamed: 50: \\nUnnamed: 51: \\nUnnamed: 52: \\nUnnamed: 53: \\nUnnamed: 54: \\nUnnamed: 55: \\nUnnamed: 56: \\nUnnamed: 57: \\nUnnamed: 58: \\nUnnamed: 59: \\nUnnamed: 60: \\nUnnamed: 61: \\nUnnamed: 62: \\nUnnamed: 63: \\nUnnamed: 64: \\nUnnamed: 65: \\nUnnamed: 66: \\nUnnamed: 67: \\nUnnamed: 68: \\nUnnamed: 69: \\nUnnamed: 70: \\nUnnamed: 71: \\nUnnamed: 72: \\nUnnamed: 73: \\nUnnamed: 74: \\nUnnamed: 75: \\nUnnamed: 76: \\nUnnamed: 77: \\nUnnamed: 78: \\nUnnamed: 79: \\nUnnamed: 80: \\nUnnamed: 81: \\nUnnamed: 82: \\nUnnamed: 83: \\nUnnamed: 84: \\nUnnamed: 85: \\nUnnamed: 86: \\nUnnamed: 87: \\nUnnamed: 88: \\nUnnamed: 89: \\nUnnamed: 90: \\nUnnamed: 91: \\nUnnamed: 92: \\nUnnamed: 93: \\nUnnamed: 94: \\nUnnamed: 95: \\nUnnamed: 96: \\nUnnamed: 97: \\nUnnamed: 98: \\nUnnamed: 99: \\nUnnamed: 100: '),\n",
              " Document(metadata={'source': '3..csv', 'row': 16}, page_content='К содержанию: 1) Затраты приведены в сопоставимой структуре без налогов и сборов, связанных с использованием рабочей силы.\\nРазработка официальной статистической информации о составе затрат организаций на рабочую силу по видам экономической деятельности с 2017 года проводится с использованием Общероссийского классификатора видов экономической деятельности ОК 029-2014 (КДЕС Ред. 2).\\nUnnamed: 1: \\nUnnamed: 2: \\nUnnamed: 3: \\nUnnamed: 4: \\nUnnamed: 5: \\nUnnamed: 6: \\nUnnamed: 7: \\nUnnamed: 8: \\nUnnamed: 9: \\nUnnamed: 10: \\nUnnamed: 11: \\nUnnamed: 12: \\nUnnamed: 13: \\nUnnamed: 14: \\nUnnamed: 15: \\nUnnamed: 16: \\nUnnamed: 17: \\nUnnamed: 18: \\nUnnamed: 19: \\nUnnamed: 20: \\nUnnamed: 21: \\nUnnamed: 22: \\nUnnamed: 23: \\nUnnamed: 24: \\nUnnamed: 25: \\nUnnamed: 26: \\nUnnamed: 27: \\nUnnamed: 28: '),\n",
              " Document(metadata={'source': 'Содержание.csv', 'row': 7}, page_content='Содержание:: 5.\\nUnnamed: 1: Структура заработной платы работников по Российской Федерации по формам собственности за 2017 и 2021 гг.')]"
            ]
          },
          "metadata": {},
          "execution_count": 27
        }
      ]
    },
    {
      "cell_type": "code",
      "source": [
        "vector_store_csv.similarity_search(q6)"
      ],
      "metadata": {
        "colab": {
          "base_uri": "https://localhost:8080/"
        },
        "id": "HVB9Sm3AyZ34",
        "outputId": "2f40a52d-30d8-40a2-859d-47db32ad7b02"
      },
      "execution_count": 28,
      "outputs": [
        {
          "output_type": "execute_result",
          "data": {
            "text/plain": [
              "[Document(metadata={'source': 'Основные понятия и определения.csv', 'row': 2}, page_content='К содержанию: Затраты организаций на рабочую силу - это сумма вознаграждений работников (среднесписочной численности) в денежной и неденежной формах за отработанное и неотработанное время, расходы организации, связанные с обеспечением работников жильем, профессиональным обучением, культурно-бытовым обслуживанием, социальной защитой, включая расходы на пенсионное, медицинское и другие виды страхования, командировочные расходы, а также налоги и сборы, связанные с использованием наемной рабочей силы. В составе затрат на рабочую силу можно выделить две группы затрат: прямые и косвенные.\\nПрямые затраты включают расходы, направленные организациями непосредственно на удовлетворение потребностей работников: заработная плата, расходы на жилье, выплаты социального характера, расходы на профессиональное обучение и культурно-бытовое обслуживание, оплата проезда и другие расходы, не отнесенные к приведенным классификационным группам.\\nК косвенным затратам относятся средства, которые отчислялись в виде страховых взносов на обязательное пенсионное страхование, обязательное медицинское страхование, обязательное социальное страхование на случай временной нетрудоспособности и в связи с материнством, обязательное социальное страхование от несчастных случаев на производстве и профессиональных заболеваний.\\nСреднемесячные затраты организаций на рабочую силу - сумма затрат организаций на рабочую силу, рассчитанная на одного работника в месяц.\\nВ среднесписочную численность работников включаются работники, работавшие по трудовому договору и выполнявшие постоянную, временную, сезонную работу, как фактически работавшие, так и отсутствовавшие на работе по каким-либо причинам (находившиеся в служебных командировках, не явившиеся на работу по болезни, находившиеся в ежегодных и дополнительных отпусках и др.), а также выполнявшие работу на дому и работавшие собственники организации, получавшие заработную плату в данной организации. Работник, получивший в одной организации две или полторы ставки, учитывается как один человек. \\nРаботники, принятые на работу на неполное рабочее время, учитываются пропорционально отработанному времени.\\nЛица, принятые на работу по совместительству из других организаций, и лица, выполнявшие работу по договорам гражданско-правового характера, не включаются в среднесписочную численность работников.\\nСведения о затратах на рабочую силу собираются от организаций-юридических лиц (кроме микропредприятий) и их обособленных подразделений (на выборочной основе с распространением данных на генеральную совокупность организаций) следующих видов экономической деятельности: добыча полезных ископаемых; обрабатывающие производства; обеспечение электрической энергией, газом и паром; кондиционирование воздуха; водоснабжение; водоотведение, организация сбора и утилизации отходов, деятельность по ликвидации загрязнений; строительство; торговля оптовая и розничная; ремонт автотранспортных средств и мотоциклов; транспортировка и хранение; деятельность гостиниц и предприятий общественного питания; деятельность в области информации и связи; деятельность финансовая и страховая; деятельность по операциям с недвижимым имуществом; деятельность профессиональная, научная и техническая; деятельность административная и сопутствующие дополнительные услуги.'),\n",
              " Document(metadata={'source': 'Содержание.csv', 'row': 7}, page_content='Содержание:: 5.\\nUnnamed: 1: Структура заработной платы работников по Российской Федерации по формам собственности за 2017 и 2021 гг.'),\n",
              " Document(metadata={'source': '2..csv', 'row': 16}, page_content='К содержанию: 1) Затраты приведены в сопоставимой структуре без налогов и сборов, связанных с использованием рабочей силы. \\nРазработка официальной статистической информации о составе затрат организаций на рабочую силу по видам экономической деятельности за 2005, 2007, 2009, 2013 гг. проводилась  с использованием Общероссийского классификатора видов экономической деятельности ОК 029-2007 (КДЕС Ред. 1.1).\\nUnnamed: 1: \\nUnnamed: 2: \\nUnnamed: 3: \\nUnnamed: 4: \\nUnnamed: 5: \\nUnnamed: 6: \\nUnnamed: 7: \\nUnnamed: 8: \\nUnnamed: 9: \\nUnnamed: 10: \\nUnnamed: 11: \\nUnnamed: 12: \\nUnnamed: 13: \\nUnnamed: 14: \\nUnnamed: 15: \\nUnnamed: 16: \\nUnnamed: 17: \\nUnnamed: 18: \\nUnnamed: 19: \\nUnnamed: 20: \\nUnnamed: 21: \\nUnnamed: 22: \\nUnnamed: 23: \\nUnnamed: 24: \\nUnnamed: 25: \\nUnnamed: 26: \\nUnnamed: 27: \\nUnnamed: 28: \\nUnnamed: 29: \\nUnnamed: 30: \\nUnnamed: 31: \\nUnnamed: 32: \\nUnnamed: 33: \\nUnnamed: 34: \\nUnnamed: 35: \\nUnnamed: 36: \\nUnnamed: 37: \\nUnnamed: 38: \\nUnnamed: 39: \\nUnnamed: 40: \\nUnnamed: 41: \\nUnnamed: 42: \\nUnnamed: 43: \\nUnnamed: 44: \\nUnnamed: 45: \\nUnnamed: 46: \\nUnnamed: 47: \\nUnnamed: 48: \\nUnnamed: 49: \\nUnnamed: 50: \\nUnnamed: 51: \\nUnnamed: 52: \\nUnnamed: 53: \\nUnnamed: 54: \\nUnnamed: 55: \\nUnnamed: 56: \\nUnnamed: 57: \\nUnnamed: 58: \\nUnnamed: 59: \\nUnnamed: 60: \\nUnnamed: 61: \\nUnnamed: 62: \\nUnnamed: 63: \\nUnnamed: 64: \\nUnnamed: 65: \\nUnnamed: 66: \\nUnnamed: 67: \\nUnnamed: 68: \\nUnnamed: 69: \\nUnnamed: 70: \\nUnnamed: 71: \\nUnnamed: 72: \\nUnnamed: 73: \\nUnnamed: 74: \\nUnnamed: 75: \\nUnnamed: 76: \\nUnnamed: 77: \\nUnnamed: 78: \\nUnnamed: 79: \\nUnnamed: 80: \\nUnnamed: 81: \\nUnnamed: 82: \\nUnnamed: 83: \\nUnnamed: 84: \\nUnnamed: 85: \\nUnnamed: 86: \\nUnnamed: 87: \\nUnnamed: 88: \\nUnnamed: 89: \\nUnnamed: 90: \\nUnnamed: 91: \\nUnnamed: 92: \\nUnnamed: 93: \\nUnnamed: 94: \\nUnnamed: 95: \\nUnnamed: 96: \\nUnnamed: 97: \\nUnnamed: 98: \\nUnnamed: 99: \\nUnnamed: 100: '),\n",
              " Document(metadata={'source': '6..csv', 'row': 7}, page_content='К содержанию: Всего затрат на рабочую силу, процентов\\nUnnamed: 1: 100\\nUnnamed: 2: 100.0\\nUnnamed: 3: 100\\nUnnamed: 4: 100.0\\nUnnamed: 5: 100\\nUnnamed: 6: 100.0\\nUnnamed: 7: 100\\nUnnamed: 8: 100.0\\nUnnamed: 9: 100\\nUnnamed: 10: 100.0\\nUnnamed: 11: 100\\nUnnamed: 12: 100.0\\nUnnamed: 13: 100\\nUnnamed: 14: 100.0')]"
            ]
          },
          "metadata": {},
          "execution_count": 28
        }
      ]
    },
    {
      "cell_type": "markdown",
      "source": [
        "Загрузка табличных данных из xlsx-файла"
      ],
      "metadata": {
        "id": "Wo-mkLrSyglA"
      }
    },
    {
      "cell_type": "code",
      "source": [
        "!pip install nltk --quiet\n",
        "import nltk\n",
        "\n",
        "# Download the required data for sentence tokenization\n",
        "nltk.download('punkt_tab')\n",
        "# Download the averaged_perceptron_tagger for English\n",
        "nltk.download('averaged_perceptron_tagger')\n",
        "nltk.download('averaged_perceptron_tagger_eng')\n",
        "\n",
        "from langchain_community.document_loaders import UnstructuredExcelLoader\n",
        "\n",
        "loader = UnstructuredExcelLoader('/content/din-zatrat-rs.xlsx')\n",
        "splitted_xlsx = loader.load_and_split(text_splitter)"
      ],
      "metadata": {
        "colab": {
          "base_uri": "https://localhost:8080/"
        },
        "id": "qzQXXyEVy2uz",
        "outputId": "e10fc305-46c7-458d-a03b-3784bbd68994"
      },
      "execution_count": 40,
      "outputs": [
        {
          "output_type": "stream",
          "name": "stderr",
          "text": [
            "[nltk_data] Downloading package punkt_tab to /root/nltk_data...\n",
            "[nltk_data]   Package punkt_tab is already up-to-date!\n",
            "[nltk_data] Downloading package averaged_perceptron_tagger to\n",
            "[nltk_data]     /root/nltk_data...\n",
            "[nltk_data]   Package averaged_perceptron_tagger is already up-to-\n",
            "[nltk_data]       date!\n",
            "[nltk_data] Downloading package averaged_perceptron_tagger_eng to\n",
            "[nltk_data]     /root/nltk_data...\n",
            "[nltk_data]   Unzipping taggers/averaged_perceptron_tagger_eng.zip.\n"
          ]
        }
      ]
    },
    {
      "cell_type": "code",
      "source": [
        "len(splitted_xlsx)"
      ],
      "metadata": {
        "colab": {
          "base_uri": "https://localhost:8080/"
        },
        "id": "waX4ftf24rWH",
        "outputId": "6ae05274-826e-4831-aeef-a313409ec071"
      },
      "execution_count": 41,
      "outputs": [
        {
          "output_type": "execute_result",
          "data": {
            "text/plain": [
              "28"
            ]
          },
          "metadata": {},
          "execution_count": 41
        }
      ]
    },
    {
      "cell_type": "code",
      "source": [
        "splitted_xlsx[5]"
      ],
      "metadata": {
        "colab": {
          "base_uri": "https://localhost:8080/"
        },
        "id": "y7yNtcT54t8J",
        "outputId": "96f904b9-a5d8-4018-abe2-756584cd50e1"
      },
      "execution_count": 42,
      "outputs": [
        {
          "output_type": "execute_result",
          "data": {
            "text/plain": [
              "Document(metadata={'source': '/content/din-zatrat-rs.xlsx'}, page_content='2013.0 2005 2007.0 2009.0 2013.0 Затраты на рабочую силу1) 100 100.0 100.0 100.0 100 100.0 100.0 100.0 100 100.0 100.0 100.0 100 100.0 100.0 100.0 100 100.0 100.0 100.0 100 100.0 100.0 100.0 100 100.0 100.0 100.0 100 100.0 100.0 100.0 100 100.0 100.0 100.0 100 100.0 100.0 100.0 100 100.0 100.0 100.0 100 100.0 100.0 100.0 100 100.0 100.0 100.0 100 100.0 100.0 100.0 100 100.0 100.0 100.0 100 100.0 100.0 100.0 100 100.0 100.0 100.0 100 100.0 100.0 100.0 100 100.0 100.0 100.0 100 100.0 100.0 100.0 100 100.0 100.0 100.0 100 100.0 100.0 100.0 100 100.0 100.0 100.0 100 100.0 100.0 100.0 100 100.0 100.0 100.0 в том числе: заработная плата 76.6 77.9 78.1 75.4 73.9 74.8 75.5 72.7 75.5 76.8 76.9 74.2 78.4 79.5 79.8 76.7 78.7 80.1 80.7 78.2 78.6 79.9 79.7 77.3 77.4 78.2 78.0 76.2 76.8 78.8 78.5 76.6 74.6 75.3 76.9 73.0 74.4 75.2 75.5 72.3 76.2 76.5 76.7 74.4 76.1 77.3 77.3 75.0 73.6 75.7 74.6 73.7 76.8 77.3 78.2 74.9 77.3 78.2 77.8 75.0 80.4 81.1 80.8 77.2 80.1 80.9 80.2 76.7 75.5 76.1 76.8 74.4')"
            ]
          },
          "metadata": {},
          "execution_count": 42
        }
      ]
    },
    {
      "cell_type": "code",
      "source": [
        "splitted_xlsx1 = loader.load_and_split()"
      ],
      "metadata": {
        "id": "iV0HHQUz4xpI"
      },
      "execution_count": 43,
      "outputs": []
    },
    {
      "cell_type": "code",
      "source": [
        "len(splitted_xlsx1)"
      ],
      "metadata": {
        "colab": {
          "base_uri": "https://localhost:8080/"
        },
        "id": "dAMJXlyF41gu",
        "outputId": "3a69d127-0b68-4d30-d402-879fcf1cc667"
      },
      "execution_count": 44,
      "outputs": [
        {
          "output_type": "execute_result",
          "data": {
            "text/plain": [
              "7"
            ]
          },
          "metadata": {},
          "execution_count": 44
        }
      ]
    },
    {
      "cell_type": "code",
      "source": [
        "splitted_xlsx1[3]"
      ],
      "metadata": {
        "colab": {
          "base_uri": "https://localhost:8080/"
        },
        "id": "E6pQSzpT43-Y",
        "outputId": "c70f3912-2fa5-4898-d7d5-d44461805b87"
      },
      "execution_count": 45,
      "outputs": [
        {
          "output_type": "execute_result",
          "data": {
            "text/plain": [
              "Document(metadata={'source': '/content/din-zatrat-rs.xlsx'}, page_content='1) Затраты приведены в сопоставимой структуре без налогов и сборов, связанных с использованием рабочей силы. \\nРазработка официальной статистической информации о составе затрат организаций на рабочую силу по видам экономической деятельности за 2005, 2007, 2009, 2013 гг. проводилась  с использованием Общероссийского классификатора видов экономической деятельности ОК 029-2007 (КДЕС Ред. 1.1).\\n\\nК содержанию\\n\\nСтруктура затрат на рабочую силу по Российской Федерации по видам экономической деятельности в 2017 и 2021 гг.\\n\\n(по организациям (без микропредприятий) обследуемых видов экономической деятельности; в процентах)\\n\\nВсего по обследованным видам экономической деятельности Добыча полезных ископаемых Обрабатывающие производства Обеспечение электрической энергией, газом и паром; кондиционирование воздуха Водоснабжение; водоотведение, организация сбора и утилизации отходов, деятельность по ликвидации загрязнений Строительство Торговля оптовая и розничная; ремонт автотранспортных средств и мотоциклов Транспортировка и хранение Деятельность гостиниц и предприятий общественного питания Деятельность в области информации и связи Деятельность финансовая и страховая Деятельность по операциям с недвижимым имуществом Деятельность профессиональная, научная и техническая Деятельность административная и сопутствующие дополнительные услуги\\n\\n2017 2021.00 2017 2021.00 2017 2021.00 2017 2021.00 2017 2021.00 2017 2021.00 2017 2021.00 2017 2021.00 2017 2021.00 2017 2021.00 2017 2021.00 2017 2021.00 2017 2021.00 2017 2021.00 Затраты на рабочую силу1) 100 100.00 100 100.00 100 100.00 100 100.00 100 100.00 100 100.00 100 100.00 100 100.00 100 100.00 100 100.00 100 100.00 100 100.00 100 100.00 100 100.00 в том числе: заработная плата 75 76.37 71.7 73.34 73.9 74.91 74.4 74.52 76.1 76.38 75.4 76.92 77.1 77.74 73.6 74.01 76.8 74.80 77.5 82.84 78.3 78.91 77.3 77.78 75.1 77.21 75.9 76.89 расходы по обеспечению работников жильем 0.1 0.13 0.4 0.60 0.1 0.10 0.1 0.10 0 0.05 0.1 0.20 0 0.05 0.3 0.15 0 0.09 0 0.03 0 0.00 0.1 0.05 0.1 0.08 0.1 0.11 расходы на социальную защиту 22.1 21.53 22.6 22.64 23.2 22.84 23 22.91 22.7 22.22 20.9 20.41 21.1 21.25 23.2 23.29 22.5 24.00 20.2 15.98 20.6 19.94 21.7 21.18 20.9 20.45 22.2 21.37 расходы на профессиональное обучение 0.3 0.23 0.4 0.30 0.3 0.22 0.4 0.35 0.2 0.17 0.2 0.18 0.1 0.07 0.5 0.53 0.1 0.09 0.2 0.13 0.1 0.16 0.1 0.09 0.2 0.20 0.2 0.40 расходы на культурно-бытовое обслуживание 0.3 0.17 0.9 0.78 0.4 0.24 0.2 0.15 0.1 0.08 0.1 0.02 0.1 0.04 0.3 0.12 0 0.05 0.2 0.06 0.2 0.10 0.1 0.06 0.2 0.11 0 0.06 прочие расходы 2.2 1.56 4.1 2.35 2.1 1.68 1.9 1.96 0.8 1.11 3.2 2.25 1.6 0.85 2.1 1.91 0.6 0.97 1.9 0.96 0.9 0.89 0.8 0.83 3.5 1.95 1.5 1.18\\n\\n1) Затраты приведены в сопоставимой структуре без налогов и сборов, связанных с использованием рабочей силы.\\nРазработка официальной статистической информации о составе затрат организаций на рабочую силу по видам экономической деятельности с 2017 года проводится с использованием Общероссийского классификатора видов экономической деятельности ОК 029-2014 (КДЕС Ред. 2). \\n\\nК содержанию\\n\\nСреднемесячные и среднечасовые затраты на рабочую силу по Российской Федерации по видам экономической деятельности за 2017 и 2021 гг.\\n\\n(по организациям (без микропредприятий) обследуемых видов экономической деятельности)')"
            ]
          },
          "metadata": {},
          "execution_count": 45
        }
      ]
    },
    {
      "cell_type": "code",
      "source": [
        "loader = UnstructuredExcelLoader('din-zatrat-rs.xlsx', mode='elements')\n",
        "splitted_xlsx2 = loader.load()"
      ],
      "metadata": {
        "id": "YcOOSYQX48ES"
      },
      "execution_count": 46,
      "outputs": []
    },
    {
      "cell_type": "code",
      "source": [
        "len(splitted_xlsx2)"
      ],
      "metadata": {
        "colab": {
          "base_uri": "https://localhost:8080/"
        },
        "id": "0Mx9AKkt4-MY",
        "outputId": "f7557864-58d2-4cde-b52f-b8b73bb35dee"
      },
      "execution_count": 47,
      "outputs": [
        {
          "output_type": "execute_result",
          "data": {
            "text/plain": [
              "43"
            ]
          },
          "metadata": {},
          "execution_count": 47
        }
      ]
    },
    {
      "cell_type": "code",
      "source": [
        "splitted_xlsx2[5]"
      ],
      "metadata": {
        "colab": {
          "base_uri": "https://localhost:8080/"
        },
        "id": "Q7-SQOX45AT5",
        "outputId": "52f169ed-d6ff-4117-911b-92cc1407a6e5"
      },
      "execution_count": 48,
      "outputs": [
        {
          "output_type": "execute_result",
          "data": {
            "text/plain": [
              "Document(metadata={'source': 'din-zatrat-rs.xlsx', 'filename': 'din-zatrat-rs.xlsx', 'last_modified': '2025-01-23T20:08:21', 'page_name': 'Содержание', 'page_number': 1, 'languages': ['rus'], 'filetype': 'application/vnd.openxmlformats-officedocument.spreadsheetml.sheet', 'category': 'Title', 'element_id': 'aee66b36740a60fb5e6903643adb2d32'}, page_content='Шалаевская Татьяна Юрьевна')"
            ]
          },
          "metadata": {},
          "execution_count": 48
        }
      ]
    },
    {
      "cell_type": "code",
      "source": [
        "vector_store_xlsx = FAISS.from_documents(splitted_xlsx1, embedding=embedding)"
      ],
      "metadata": {
        "id": "TYAeoHiE5Cr4"
      },
      "execution_count": 49,
      "outputs": []
    },
    {
      "cell_type": "code",
      "source": [
        "vector_store_xlsx.similarity_search(q4)"
      ],
      "metadata": {
        "colab": {
          "base_uri": "https://localhost:8080/"
        },
        "id": "BRpeTOjL5EuZ",
        "outputId": "5299338f-80b7-4abd-cf24-5c2334d33b08"
      },
      "execution_count": 50,
      "outputs": [
        {
          "output_type": "execute_result",
          "data": {
            "text/plain": [
              "[Document(metadata={'source': '/content/din-zatrat-rs.xlsx'}, page_content='Всего по обследованным видам экономической деятельности Добыча полезных ископаемых Обрабатывающие производства из них: Производство и распределение электроэнергии, газа и воды Строительство Оптовая и розничная торговля; ремонт автотранспортных средств, мотоциклов, бытовых изделий и предметов личного пользования Гостиницы и рестораны Транспорт и связь из них: Финансовая деятельность Операции с недвижимым имуществом, аренда и предоставление услуг Сбор сточных вод, отходов и аналогичная деятельность производство пищевых продуктов, включая напитки, и табака текстильное и швейное производство производство кожи, изделий из кожи и производство обуви обработка древесины и производство изделий из дерева целлюлозно-бумажное производство, издательская и полиграфическая деятельность химическое производство металлургическое производство и производство готовых металлических изделий производство машин и оборудования производство электрооборудования, электронного и оптическогооборудования производство транспортныхсредств и оборудования деятельность железно-дорожного транспорта деятельность прочего сухопутного транспорта деятельность воздушного и космического транспорта связь 2005 2007.0 2009.0 2013.0 2005 2007.0 2009.0 2013.0 2005 2007.0 2009.0 2013.0 2005 2007.0 2009.0 2013.0 2005 2007.0 2009.0 2013.0 2005 2007.0 2009.0 2013.0 2005 2007.0 2009.0 2013.0 2005 2007.0 2009.0 2013.0 2005 2007.0 2009.0 2013.0 2005 2007.0 2009.0 2013.0 2005 2007.0 2009.0 2013.0 2005 2007.0 2009.0 2013.0 2005 2007.0 2009.0 2013.0 2005 2007.0 2009.0 2013.0 2005 2007.0 2009.0 2013.0 2005 2007.0 2009.0 2013.0 2005 2007.0 2009.0 2013.0 2005 2007.0 2009.0 2013.0 2005 2007.0 2009.0 2013.0 2005 2007.0 2009.0 2013.0 2005 2007.0 2009.0 2013.0 2005 2007.0 2009.0 2013.0 2005 2007.0 2009.0 2013.0 2005 2007.0 2009.0 2013.0 2005 2007.0 2009.0 2013.0 Затраты на рабочую силу1) 100 100.0 100.0 100.0 100 100.0 100.0 100.0 100 100.0 100.0 100.0 100 100.0 100.0 100.0 100 100.0 100.0 100.0 100 100.0 100.0 100.0 100 100.0 100.0 100.0 100 100.0 100.0 100.0 100 100.0 100.0 100.0 100 100.0 100.0 100.0 100 100.0 100.0 100.0 100 100.0 100.0 100.0 100 100.0 100.0 100.0 100 100.0 100.0 100.0 100 100.0 100.0 100.0 100 100.0 100.0 100.0 100 100.0 100.0 100.0 100 100.0 100.0 100.0 100 100.0 100.0 100.0 100 100.0 100.0 100.0 100 100.0 100.0 100.0 100 100.0 100.0 100.0 100 100.0 100.0 100.0 100 100.0 100.0 100.0 100 100.0 100.0 100.0 в том числе: заработная плата 76.6 77.9 78.1 75.4 73.9 74.8 75.5 72.7 75.5 76.8 76.9 74.2 78.4 79.5 79.8 76.7 78.7 80.1 80.7 78.2 78.6 79.9 79.7 77.3 77.4 78.2 78.0 76.2 76.8 78.8 78.5 76.6 74.6 75.3 76.9 73.0 74.4 75.2 75.5 72.3 76.2 76.5 76.7 74.4 76.1 77.3 77.3 75.0 73.6 75.7 74.6 73.7 76.8 77.3 78.2 74.9 77.3 78.2 77.8 75.0 80.4 81.1 80.8 77.2 80.1 80.9 80.2 76.7 75.5 76.1 76.8 74.4 75.5 75.9 75.5 73.4 78.3 79.3 79.2 75.9 74 74.6 76.0 74.2 77 78.0 79.2 76.3 81.3 82.2 83.1 78.8 77.9 79.3 78.5 76.8 80.6 79.9 80.1 77.4 расходы по обеспечению работников жильем 0.4 0.3 0.3 0.2 1.2 1.8 1.6 0.4 0.3 0.2 0.1 0.2 0.2 0.1 0.0 0.0 0.1 0.0 0.2 0.0 0 0.0 0.0 0.0 0.1 0.1 0.0 0.1 0.1 0.3 0.2 0.0 0.4 0.2 0.1 0.3 0.2 0.4 0.2 0.1 0.2 0.1 0.2 0.1 0.2 0.2 0.1 0.1 0.6 0.2 0.1 0.2 0.3 0.1 0.2 0.1 0.3 0.1 0.2 0.1 0.1 0.0 0.0 0.0 0.2 0.3 0.0 0.0 0.3 0.4 0.3 0.3 0 0.2 0.3 0.4 0.1 0.0 0.1 0.2 0 0.0 0.0 0.0 0.1 0.0 0.0 0.0 0 0.0 0.0 0.2 0.2 0.1 0.1 0.1 0 0.0 0.0 0.0 расходы на социальную защиту 19.6 18.5 18.4 21.5 20.1 18.4 17.9 22.4 20.4 19.7 20.0 22.5 19.1 18.6 18.6 21.8 19.3 18.4 17.8 20.8 18.9 18.0 18.6 21.1 20.2 19.9 20.3 22.4 19.5 18.2 19.2 21.1 20.2 19.9 19.3 22.9 21 20.1 20.3 23.4 19.9 19.6 19.9 22.1 20.1 19.3 19.3 21.9 21.3 20.7 22.2 23.0 20 19.7 19.2 22.2 19 18.4 18.4 21.0 16.7 16.3 16.8 20.8 18 17.0 18.2 22.5 20.8 20.1 20.0 22.4 22.4 21.4 22.6 23.6 18.7 18.5 19.0 21.6 18.4 16.8 16.7 20.8 20.2 19.5 19.0 21.8 16.9 15.5 15.1 19.2 18.3 16.6 16.5 19.9 18.4 19.1 19.2 21.9 расходы на профессиональное обучение 0.3 0.3 0.3 0.3 0.4 0.5 0.4 0.4 0.3 0.3 0.3 0.3 0.2 0.2 0.1 0.1 0.1 0.1 0.1 0.0'),\n",
              " Document(metadata={'source': '/content/din-zatrat-rs.xlsx'}, page_content='К содержанию\\n\\nОсновные понятия и определения\\n\\nЗатраты организаций на рабочую силу - это сумма вознаграждений работников (среднесписочной численности) в денежной и неденежной формах за отработанное и неотработанное время, расходы организации, связанные с обеспечением работников жильем, профессиональным обучением, культурно-бытовым обслуживанием, социальной защитой, включая расходы на пенсионное, медицинское и другие виды страхования, командировочные расходы, а также налоги и сборы, связанные с использованием наемной рабочей силы. В составе затрат на рабочую силу можно выделить две группы затрат: прямые и косвенные.\\nПрямые затраты включают расходы, направленные организациями непосредственно на удовлетворение потребностей работников: заработная плата, расходы на жилье, выплаты социального характера, расходы на профессиональное обучение и культурно-бытовое обслуживание, оплата проезда и другие расходы, не отнесенные к приведенным классификационным группам.\\nК косвенным затратам относятся средства, которые отчислялись в виде страховых взносов на обязательное пенсионное страхование, обязательное медицинское страхование, обязательное социальное страхование на случай временной нетрудоспособности и в связи с материнством, обязательное социальное страхование от несчастных случаев на производстве и профессиональных заболеваний.\\nСреднемесячные затраты организаций на рабочую силу - сумма затрат организаций на рабочую силу, рассчитанная на одного работника в месяц.\\nВ среднесписочную численность работников включаются работники, работавшие по трудовому договору и выполнявшие постоянную, временную, сезонную работу, как фактически работавшие, так и отсутствовавшие на работе по каким-либо причинам (находившиеся в служебных командировках, не явившиеся на работу по болезни, находившиеся в ежегодных и дополнительных отпусках и др.), а также выполнявшие работу на дому и работавшие собственники организации, получавшие заработную плату в данной организации. Работник, получивший в одной организации две или полторы ставки, учитывается как один человек. \\nРаботники, принятые на работу на неполное рабочее время, учитываются пропорционально отработанному времени.\\nЛица, принятые на работу по совместительству из других организаций, и лица, выполнявшие работу по договорам гражданско-правового характера, не включаются в среднесписочную численность работников.\\nСведения о затратах на рабочую силу собираются от организаций-юридических лиц (кроме микропредприятий) и их обособленных подразделений (на выборочной основе с распространением данных на генеральную совокупность организаций) следующих видов экономической деятельности: добыча полезных ископаемых; обрабатывающие производства; обеспечение электрической энергией, газом и паром; кондиционирование воздуха; водоснабжение; водоотведение, организация сбора и утилизации отходов, деятельность по ликвидации загрязнений; строительство; торговля оптовая и розничная; ремонт автотранспортных средств и мотоциклов; транспортировка и хранение; деятельность гостиниц и предприятий общественного питания; деятельность в области информации и связи; деятельность финансовая и страховая; деятельность по операциям с недвижимым имуществом; деятельность профессиональная, научная и техническая; деятельность административная и сопутствующие дополнительные услуги.'),\n",
              " Document(metadata={'source': '/content/din-zatrat-rs.xlsx'}, page_content='1) Затраты приведены в сопоставимой структуре без налогов и сборов, связанных с использованием рабочей силы. \\nРазработка официальной статистической информации о составе затрат организаций на рабочую силу по видам экономической деятельности за 2005, 2007, 2009, 2013 гг. проводилась  с использованием Общероссийского классификатора видов экономической деятельности ОК 029-2007 (КДЕС Ред. 1.1).\\n\\nК содержанию\\n\\nСтруктура затрат на рабочую силу по Российской Федерации по видам экономической деятельности в 2017 и 2021 гг.\\n\\n(по организациям (без микропредприятий) обследуемых видов экономической деятельности; в процентах)\\n\\nВсего по обследованным видам экономической деятельности Добыча полезных ископаемых Обрабатывающие производства Обеспечение электрической энергией, газом и паром; кондиционирование воздуха Водоснабжение; водоотведение, организация сбора и утилизации отходов, деятельность по ликвидации загрязнений Строительство Торговля оптовая и розничная; ремонт автотранспортных средств и мотоциклов Транспортировка и хранение Деятельность гостиниц и предприятий общественного питания Деятельность в области информации и связи Деятельность финансовая и страховая Деятельность по операциям с недвижимым имуществом Деятельность профессиональная, научная и техническая Деятельность административная и сопутствующие дополнительные услуги\\n\\n2017 2021.00 2017 2021.00 2017 2021.00 2017 2021.00 2017 2021.00 2017 2021.00 2017 2021.00 2017 2021.00 2017 2021.00 2017 2021.00 2017 2021.00 2017 2021.00 2017 2021.00 2017 2021.00 Затраты на рабочую силу1) 100 100.00 100 100.00 100 100.00 100 100.00 100 100.00 100 100.00 100 100.00 100 100.00 100 100.00 100 100.00 100 100.00 100 100.00 100 100.00 100 100.00 в том числе: заработная плата 75 76.37 71.7 73.34 73.9 74.91 74.4 74.52 76.1 76.38 75.4 76.92 77.1 77.74 73.6 74.01 76.8 74.80 77.5 82.84 78.3 78.91 77.3 77.78 75.1 77.21 75.9 76.89 расходы по обеспечению работников жильем 0.1 0.13 0.4 0.60 0.1 0.10 0.1 0.10 0 0.05 0.1 0.20 0 0.05 0.3 0.15 0 0.09 0 0.03 0 0.00 0.1 0.05 0.1 0.08 0.1 0.11 расходы на социальную защиту 22.1 21.53 22.6 22.64 23.2 22.84 23 22.91 22.7 22.22 20.9 20.41 21.1 21.25 23.2 23.29 22.5 24.00 20.2 15.98 20.6 19.94 21.7 21.18 20.9 20.45 22.2 21.37 расходы на профессиональное обучение 0.3 0.23 0.4 0.30 0.3 0.22 0.4 0.35 0.2 0.17 0.2 0.18 0.1 0.07 0.5 0.53 0.1 0.09 0.2 0.13 0.1 0.16 0.1 0.09 0.2 0.20 0.2 0.40 расходы на культурно-бытовое обслуживание 0.3 0.17 0.9 0.78 0.4 0.24 0.2 0.15 0.1 0.08 0.1 0.02 0.1 0.04 0.3 0.12 0 0.05 0.2 0.06 0.2 0.10 0.1 0.06 0.2 0.11 0 0.06 прочие расходы 2.2 1.56 4.1 2.35 2.1 1.68 1.9 1.96 0.8 1.11 3.2 2.25 1.6 0.85 2.1 1.91 0.6 0.97 1.9 0.96 0.9 0.89 0.8 0.83 3.5 1.95 1.5 1.18\\n\\n1) Затраты приведены в сопоставимой структуре без налогов и сборов, связанных с использованием рабочей силы.\\nРазработка официальной статистической информации о составе затрат организаций на рабочую силу по видам экономической деятельности с 2017 года проводится с использованием Общероссийского классификатора видов экономической деятельности ОК 029-2014 (КДЕС Ред. 2). \\n\\nК содержанию\\n\\nСреднемесячные и среднечасовые затраты на рабочую силу по Российской Федерации по видам экономической деятельности за 2017 и 2021 гг.\\n\\n(по организациям (без микропредприятий) обследуемых видов экономической деятельности)'),\n",
              " Document(metadata={'source': '/content/din-zatrat-rs.xlsx'}, page_content='(по организациям (без микропредприятий) обследуемых видов экономической деятельности)\\n\\nСреднемесячные затраты, рублей Средние затраты на один оплаченный час, рублей Средние затраты на один отработанный час, рублей Отношение отработанного времени к оплаченному, процентов Доля прямых затрат на рабочую силу в общих затратах на рабочую силу, процентов Доля косвенных затрат на рабочую силу в общих затратах на рабочую силу, процентов 2017 2021.0 2017 2021.0 2017 2021.0 2017 2021.0 2017 2021.0 2017 2021.0 Всего по обследуемым видам экономической деятельности 60234.7 90058.9 374.3 563.3 419.4 630.4 89.2 89.4 80 80.2 20 19.8 Добыча полезных ископаемых 104076.1 140967.4 622.5 845.1 722.3 973.6 86.2 86.8 80.3 80.0 19.7 20.0 Обрабатывающие производства 54154.2 76419.5 335.3 477.4 378.4 538.4 88.6 88.7 78.7 78.8 21.3 21.2 Обеспечение электрической энергией, газом и паром; кондиционирование воздуха 60654.9 79318.7 370.1 489.3 415.8 549.7 89 89.0 79.3 78.9 20.7 21.1 Водоснабжение; водоотведение, организация сбора и утилизации отходов, деятельность по ликвидации загрязнений 39596.7 56206.1 243.6 347.4 272.1 386.9 89.5 89.8 78.9 79.0 21.1 21.0 Строительство 52301.7 84187.9 331.5 527.3 366.9 584.1 90.4 90.3 80 80.5 20 19.5 Торговля оптовая и розничная; ремонт автотранспортных средств и мотоциклов 47951.3 80415.1 303.3 512.7 334.7 565.4 90.6 90.7 79.9 80.0 20.1 20.0 Транспортировка и хранение 66788 84314.7 407.5 522.5 461.9 590.8 88.2 88.4 80.8 79.3 19.2 20.7 Деятельность гостиниц и предприятий общественного питания 33927.5 55573.7 217.2 360.2 241.2 402.1 90 89.6 78.7 80.1 21.3 19.9 Деятельность в области информации и связи 81080.5 131417.0 508.6 828.3 565.4 916.6 89.9 90.4 82.5 85.5 17.5 14.5 Деятельность финансовая и страховая 106237.3 175908.9 671.6 1105.0 746.4 1222.1 90 90.4 81.5 81.8 18.5 18.2 Деятельность по операциям с недвижимым имуществом 40254.6 68398.7 252.5 428.2 280.3 472.6 90.1 90.6 79.7 79.9 20.3 20.1 Деятельность профессиональная, научная и техническая 83563.8 128137.9 525.5 806.9 588.8 901.0 89.3 89.6 81 81.0 19 19.0 Деятельность административная и сопутствующие дополнительные услуги 36846.5 62926.9 223.5 392.9 247.2 434.9 90.4 90.3 79.4 80.5 20.6 19.5\\n\\nК содержанию\\n\\nСтруктура заработной платы работников по Российской Федерации по формам собственности за 2017 и 2021  гг. \\n\\n(по организациям (без микропредприятий) обследуемых видов экономической деятельности; в процентах)\\n\\nУдельный вес элементов заработной платы в общей сумме заработной платы\\n\\nВсего в том числе по организациям\\n\\nгосударственным и муниципальным негосударственным 2017 2021.0 2017 2021.0 2017 2021.0 Заработная плата работников - всего 100 100.0 100 100.0 100 100.0 в том числе: Оплата за отработанное время, всего 84.5 83.9 84.5 84.9 84.6 83.7 в том числе: оплата по тарифным ставкам и окладам,сдельным расценкам, среднему заработку 48.5 47.1 42.5 40.5 49.7 48.3 доплаты и надбавки к тарифным ставкам и окладам 6.7 6.9 12 12.5 5.7 5.8 премии и вознаграждения 17.9 19.1 17.7 19.8 17.9 18.9 выплаты по районному регулированию 9.5 8.6 9.6 8.8 9.5 8.6 другие виды оплаты труда 2 2.2 2.7 3.3 1.8 2.1 Оплата за неотработанное время, всего 8.5 8.4 9.4 9.4 8.4 8.2 из нее: оплата отпусков 8 7.8 8.9 8.9 7.9 7.6 оплата времени простоя не по вине работника - 0.1 - 0.1 - 0.1 Единовременные поощрительные выплаты, всего 6.4 7.2 5.9 5.5 6.5 7.6 Оплата питания и проживания, всего 0.5 0.5 0.2 0.2 0.6 0.5\\n\\nК содержанию\\n\\nСтруктура среднемесячных затрат на рабочую силу в зависимости от размеров организаций по Российской Федерации за 2017 и 2021 гг.\\n\\n(по организациям (без микропредприятий) обследуемых видов экономической деятельности; в процентах)')]"
            ]
          },
          "metadata": {},
          "execution_count": 50
        }
      ]
    }
  ]
}